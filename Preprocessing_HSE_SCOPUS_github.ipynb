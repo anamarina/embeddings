{
 "cells": [
  {
   "cell_type": "code",
   "execution_count": 1,
   "metadata": {
    "ExecuteTime": {
     "end_time": "2018-10-26T23:43:36.773878Z",
     "start_time": "2018-10-26T23:43:36.656038Z"
    },
    "collapsed": true
   },
   "outputs": [],
   "source": [
    "import os\n",
    "import json\n",
    "import re\n",
    "import numpy as np\n",
    "from urllib import parse\n",
    "from tqdm import tqdm_notebook"
   ]
  },
  {
   "cell_type": "code",
   "execution_count": 2,
   "metadata": {
    "ExecuteTime": {
     "end_time": "2018-10-26T23:43:46.039386Z",
     "start_time": "2018-10-26T23:43:46.020768Z"
    },
    "collapsed": true
   },
   "outputs": [],
   "source": [
    "def parse_row(row):\n",
    "    category = int(row.split(\";\")[0])\n",
    "    row = \";\".join(row.split(\";\")[1:])\n",
    "    authors_indexes = row.split(\"http\")[0][:-1]\n",
    "    authors = authors_indexes.split('\"\"')[0][1:].split(\".,\")\n",
    "    authors = [(author+\".\").strip() for author in authors if len(author)>0]\n",
    "    indexes = authors_indexes.split('\"\"')[1]\n",
    "    indexes = re.sub(r'[^\\w\\s]',' ',indexes).split()\n",
    "    indexes = list(map(int, indexes))\n",
    "    url = \"http\" + row.split(\"http\")[1].split('\"\"')[0] \n",
    "    keywords = '\"\"'.join(row.split(\"http\")[1].split('\"\"')[1:])[1:].split(\";\")\n",
    "    keywords = [re.sub(r'[^\\w\\s]',' ',keyword) for keyword in keywords]\n",
    "    keywords = [\" \".join(keyword.split()) for keyword in keywords]\n",
    "    keywords = [keyword for keyword in keywords if len(keyword)>0]\n",
    "    return [category, authors, indexes, url, keywords]"
   ]
  },
  {
   "cell_type": "code",
   "execution_count": 3,
   "metadata": {
    "ExecuteTime": {
     "end_time": "2018-10-26T23:44:21.903298Z",
     "start_time": "2018-10-26T23:44:18.916716Z"
    },
    "collapsed": false
   },
   "outputs": [
    {
     "name": "stdout",
     "output_type": "stream",
     "text": [
      "219 28 28\n",
      "2483 28 28\n"
     ]
    }
   ],
   "source": [
    "data = []\n",
    "for year in [\"2011\",\"2012\",\"2013\",\"2014\",\"2015\",\"2016\",\"2017\"]:\n",
    "    with open('data/{year}/authors_keywords_{year}.csv'.format(year = year), 'r') as file:\n",
    "        for index, row in enumerate(file):\n",
    "            if index ==0:\n",
    "                continue\n",
    "            category, authors, indexes, url, keywords = parse_row(row)\n",
    "            if len(authors) > 25:\n",
    "                print(index, len(authors),len(indexes))\n",
    "            #print(index, len(authors),len(indexes))\n",
    "            assert(len(authors) == len(indexes))\n",
    "            out = {\"year\":year,\n",
    "                   \"category\": category,\n",
    "                   \"url\": url,\n",
    "                   \"keywords\": \"; \".join(keywords),\n",
    "                   \"authors\": [{\"id\": idd, \"author\": author} for idd, author in zip(indexes,authors)]}\n",
    "            data.append(out)"
   ]
  },
  {
   "cell_type": "code",
   "execution_count": 4,
   "metadata": {
    "ExecuteTime": {
     "end_time": "2018-10-26T23:45:18.686213Z",
     "start_time": "2018-10-26T23:45:17.894131Z"
    },
    "collapsed": true
   },
   "outputs": [],
   "source": [
    "import json\n",
    "\n",
    "## Write\n",
    "with open('new_data.json', 'w') as outfile:\n",
    "    json.dump(data, outfile)"
   ]
  },
  {
   "cell_type": "code",
   "execution_count": 5,
   "metadata": {
    "ExecuteTime": {
     "end_time": "2018-10-26T23:45:24.104590Z",
     "start_time": "2018-10-26T23:45:23.988202Z"
    },
    "collapsed": false
   },
   "outputs": [
    {
     "data": {
      "text/plain": [
       "{'authors': [{'author': 'Gromov E.', 'id': 56802827200},\n",
       "  {'author': 'Logvinova K.', 'id': 8284266700},\n",
       "  {'author': 'Morozov V.', 'id': 37079439900},\n",
       "  {'author': 'Tyutin V.', 'id': 6603597680}],\n",
       " 'category': 0,\n",
       " 'keywords': 'Anomalous diffusion; Fractal operator; Random',\n",
       " 'url': 'https://www.scopus.com/inward/record.uri?eid=2-s2.0-79961238208&partnerID=40&md5=f70f5d965f80944d48a76f2d5327ab3d',\n",
       " 'year': '2011'}"
      ]
     },
     "execution_count": 5,
     "metadata": {},
     "output_type": "execute_result"
    }
   ],
   "source": [
    "## Read\n",
    "with open('new_data.json') as f:\n",
    "    new_data = json.load(f)\n",
    "\n",
    "new_data[0]"
   ]
  },
  {
   "cell_type": "code",
   "execution_count": 6,
   "metadata": {
    "ExecuteTime": {
     "end_time": "2018-10-26T23:46:01.331698Z",
     "start_time": "2018-10-26T23:46:01.325476Z"
    },
    "collapsed": true
   },
   "outputs": [],
   "source": [
    "# TEST\n",
    "for text_row, answer in [('0;\"Gromov E., Logvinova K., Morozov V., Tyutin V.,\"\"56802827200\";8284266700;37079439900;6603597680;\",https://www.scopus.com/inward/record.uri?eid=2-s2.0-79961238208&partnerID=40&md5=f70f5d965f80944d48a76f2d5327ab3d\"\",\"\"Anomalous diffusion\"; Fractal operator;\" Random\"\",\";;;;;;;;;;;;;;;;;;;;;;;;;;;;;',\n",
    "                        [0,\n",
    "                         [\"Gromov E.\", \"Logvinova K.\", \"Morozov V.\", \"Tyutin V.\"],\n",
    "                         [56802827200, 8284266700, 37079439900, 6603597680],\n",
    "                         \"https://www.scopus.com/inward/record.uri?eid=2-s2.0-79961238208&partnerID=40&md5=f70f5d965f80944d48a76f2d5327ab3d\",\n",
    "                         [\"Anomalous diffusion\", \"Fractal operator\", \"Random\"]])]:\n",
    "    assert(parse_row(text_row)==answer), text_row"
   ]
  },
  {
   "cell_type": "code",
   "execution_count": 7,
   "metadata": {
    "ExecuteTime": {
     "end_time": "2018-10-26T23:46:06.601742Z",
     "start_time": "2018-10-26T23:46:06.596252Z"
    },
    "collapsed": false
   },
   "outputs": [
    {
     "data": {
      "text/plain": [
       "9831"
      ]
     },
     "execution_count": 7,
     "metadata": {},
     "output_type": "execute_result"
    }
   ],
   "source": [
    "len(new_data)"
   ]
  },
  {
   "cell_type": "code",
   "execution_count": 8,
   "metadata": {
    "ExecuteTime": {
     "end_time": "2018-10-26T23:46:30.950773Z",
     "start_time": "2018-10-26T23:46:30.943283Z"
    },
    "collapsed": false
   },
   "outputs": [
    {
     "data": {
      "text/plain": [
       "'Anomalous diffusion; Fractal operator; Random'"
      ]
     },
     "execution_count": 8,
     "metadata": {},
     "output_type": "execute_result"
    }
   ],
   "source": [
    "new_data[0]['keywords']"
   ]
  },
  {
   "cell_type": "code",
   "execution_count": 9,
   "metadata": {
    "ExecuteTime": {
     "end_time": "2018-10-26T23:47:34.031826Z",
     "start_time": "2018-10-26T23:47:33.843782Z"
    },
    "collapsed": false
   },
   "outputs": [],
   "source": [
    "# Assign to each keyword the category by article's label class (from 0 to 24)\n",
    "\n",
    "all_keywords_cat = []\n",
    "for line in range(len(new_data)):\n",
    "    splitted_line = new_data[line]['keywords'].lower()\n",
    "    splitted_line = splitted_line.split(\"; \")\n",
    "    for word in splitted_line:\n",
    "            word_cat = {word : new_data[line]['category']}\n",
    "            all_keywords_cat.append(word_cat)"
   ]
  },
  {
   "cell_type": "code",
   "execution_count": 10,
   "metadata": {
    "ExecuteTime": {
     "end_time": "2018-10-26T23:47:37.434649Z",
     "start_time": "2018-10-26T23:47:37.427202Z"
    },
    "collapsed": false
   },
   "outputs": [
    {
     "data": {
      "text/plain": [
       "[{'anomalous diffusion': 0},\n",
       " {'fractal operator': 0},\n",
       " {'random': 0},\n",
       " {'clusters': 1},\n",
       " {'input output model': 1},\n",
       " {'networks': 1},\n",
       " {'absorptive capacity': 1},\n",
       " {'companies': 1},\n",
       " {'knowledge management': 1}]"
      ]
     },
     "execution_count": 10,
     "metadata": {},
     "output_type": "execute_result"
    }
   ],
   "source": [
    "all_keywords_cat[:9]"
   ]
  },
  {
   "cell_type": "code",
   "execution_count": 11,
   "metadata": {
    "ExecuteTime": {
     "end_time": "2018-10-26T23:48:01.977168Z",
     "start_time": "2018-10-26T23:48:01.913626Z"
    },
    "collapsed": true
   },
   "outputs": [],
   "source": [
    "# List of all keywords in all articles\n",
    "all_keywords = []\n",
    "for line in range(len(new_data)):\n",
    "    splitted_line = new_data[line]['keywords'].lower()\n",
    "    splitted_line = splitted_line.split(\"; \")\n",
    "    for word in splitted_line:\n",
    "            all_keywords.append(word)"
   ]
  },
  {
   "cell_type": "code",
   "execution_count": 17,
   "metadata": {
    "ExecuteTime": {
     "end_time": "2018-10-26T23:51:24.994727Z",
     "start_time": "2018-10-26T23:51:24.986778Z"
    },
    "collapsed": false
   },
   "outputs": [
    {
     "name": "stdout",
     "output_type": "stream",
     "text": [
      "Size:  95849\n"
     ]
    },
    {
     "data": {
      "text/plain": [
       "['anomalous diffusion',\n",
       " 'fractal operator',\n",
       " 'random',\n",
       " 'clusters',\n",
       " 'input output model',\n",
       " 'networks',\n",
       " 'absorptive capacity',\n",
       " 'companies',\n",
       " 'knowledge management']"
      ]
     },
     "execution_count": 17,
     "metadata": {},
     "output_type": "execute_result"
    }
   ],
   "source": [
    "print('Size: ', len(all_keywords))\n",
    "all_keywords[:9]"
   ]
  },
  {
   "cell_type": "code",
   "execution_count": 21,
   "metadata": {
    "ExecuteTime": {
     "end_time": "2018-10-26T23:53:08.362453Z",
     "start_time": "2018-10-26T23:53:08.344791Z"
    },
    "collapsed": false
   },
   "outputs": [
    {
     "name": "stdout",
     "output_type": "stream",
     "text": [
      "Всего ключевых слов по всем статьям:  95849\n",
      "Всего уникальных ключевых слов:  27836\n"
     ]
    }
   ],
   "source": [
    "# Set of all unique keywords in all articles\n",
    "\n",
    "keywords_dict = set(all_keywords)\n",
    "\n",
    "print(\"Всего ключевых слов по всем статьям: \", len(all_keywords))\n",
    "print(\"Всего уникальных ключевых слов: \", len(keywords_dict))"
   ]
  },
  {
   "cell_type": "code",
   "execution_count": 22,
   "metadata": {
    "ExecuteTime": {
     "end_time": "2018-10-26T23:54:26.612501Z",
     "start_time": "2018-10-26T23:54:26.527336Z"
    },
    "collapsed": false
   },
   "outputs": [
    {
     "data": {
      "text/plain": [
       "{'': 0,\n",
       " 'input parameter': 1,\n",
       " 'influential historians of science of the 20th century': 2,\n",
       " 'economic news': 3,\n",
       " 'sense': 4,\n",
       " 'historical alternations': 5,\n",
       " 'bootstrap method': 6,\n",
       " 'russian funeral market': 7,\n",
       " 'south east asia': 8,\n",
       " 'optimization procedures': 9,\n",
       " 'numerical algorithm': 10,\n",
       " 'electricity demands': 11,\n",
       " 'maturity levels': 12,\n",
       " 'bigartm': 13,\n",
       " 'share price': 14,\n",
       " 'lms project': 15,\n",
       " 'pixels': 16,\n",
       " 'sequential pattern structures artificial intelligence': 17,\n",
       " 'random condition': 18,\n",
       " 'human reaction': 19,\n",
       " 'long terminal repeat': 20,\n",
       " 'design innovation': 21,\n",
       " 'sensestructure': 22,\n",
       " 'russia asean dialogue partnership': 23,\n",
       " 'potential elites': 24,\n",
       " 'global richardson extrapolation': 25,\n",
       " 'medieval ethiopian kingdom': 26,\n",
       " 'focal point': 27,\n",
       " 'spectral sensitivity': 28,\n",
       " 'operation mode': 29,\n",
       " 'kohn luttinger mechanism': 30,\n",
       " 'mismatch negativity mmn': 31,\n",
       " 'non metric': 32,\n",
       " 'risky behavior behavioral research': 33,\n",
       " 'tumor necrosis factor': 34,\n",
       " 'ceo s personal characteristics': 35,\n",
       " 'binary thresholding': 36,\n",
       " 'buddhism': 37,\n",
       " 'special communications': 38,\n",
       " 'two way migration flows': 39,\n",
       " 'superconducting nanowire single photon detector avalanche photodiodes': 40,\n",
       " 'injection current': 41,\n",
       " 'finitely generated nilpotent groups': 42,\n",
       " 'john ii of jerusalem': 43,\n",
       " 'low dispersions': 44,\n",
       " 'okun s law': 45,\n",
       " 'tribological properties': 46,\n",
       " 'logistic systems': 47,\n",
       " 'landslides': 48,\n",
       " 'metamaterial antenna arrays': 49,\n",
       " 'partial differential equations': 50,\n",
       " 'public services quality evaluation': 51,\n",
       " 'morris lecar neurons': 52,\n",
       " 'magnetoencephalography meg': 53,\n",
       " 'distributed systems modeling': 54,\n",
       " 'single molecule': 55,\n",
       " 'neutrophil': 56,\n",
       " 'irreducible representation': 57,\n",
       " 'comparative education': 58,\n",
       " 'monte carlo approach': 59,\n",
       " 'small world': 60,\n",
       " 'needs assessment': 61,\n",
       " 'on chip integration': 62,\n",
       " 'bath temperatures': 63,\n",
       " 'securitisation': 64,\n",
       " 'serial batching scheduling': 65,\n",
       " 'performance characteristics': 66,\n",
       " 'trust human': 67,\n",
       " 'vector representations': 68,\n",
       " 'public catering': 69,\n",
       " 'organizational change management': 70,\n",
       " 'neural network structures': 71,\n",
       " 'complex optimization': 72,\n",
       " 'architecture of neuron networks': 73,\n",
       " 'stylistic texts': 74,\n",
       " 'russian computational linguistics': 75,\n",
       " 'quantum fields in curved spacetime': 76,\n",
       " 'spouting effect': 77,\n",
       " 'bipolar disorder': 78,\n",
       " 'crystal': 79,\n",
       " 'innovative performance': 80,\n",
       " 'teachers': 81,\n",
       " 'pavel kovalevskii': 82,\n",
       " 'rna ribosomal 18s': 83,\n",
       " 'semantic model': 84,\n",
       " 'thin dielectric film electron traps': 85,\n",
       " 'isp': 86,\n",
       " 'upper atmosphere': 87,\n",
       " 'residual stresses': 88,\n",
       " 'logic': 89,\n",
       " 'the complex organism': 90,\n",
       " 'gene expression regulation enzymologic': 91,\n",
       " 'signal integrity analysis': 92,\n",
       " 'vyakarana': 93,\n",
       " 'data patterns': 94,\n",
       " 'nonlinear wave': 95,\n",
       " 'vector payoffs': 96,\n",
       " 'riemannian manifold': 97,\n",
       " 'melting point': 98,\n",
       " 'photonic crystal cavities': 99,\n",
       " 'scenario analysis': 100,\n",
       " 'spacecraft configurations': 101,\n",
       " 'lease': 102,\n",
       " 'locus of control': 103,\n",
       " 'active reader': 104,\n",
       " 'specific heat of solids': 105,\n",
       " 'thoma cone': 106,\n",
       " 'currency risk': 107,\n",
       " 'binding affinity': 108,\n",
       " 'doppler effect': 109,\n",
       " 'distribution of the electromagnetic field': 110,\n",
       " 'time varying efficiency': 111,\n",
       " 'value functions': 112,\n",
       " 'scientific foundations': 113,\n",
       " 'sustainability': 114,\n",
       " 'short sequences': 115,\n",
       " 'real planar analytic pseudo billiard': 116,\n",
       " 'value of life': 117,\n",
       " 'orthogonal frequency division multiplexing': 118,\n",
       " 'actant': 119,\n",
       " 'neutralization': 120,\n",
       " 'dynamical system on the torus': 121,\n",
       " 'software computer software': 122,\n",
       " 'connected health': 123,\n",
       " 'cultural intermediaries': 124,\n",
       " 'lstm': 125,\n",
       " 'biofuels regulation': 126,\n",
       " 'psychotropic agent': 127,\n",
       " 'sequels': 128,\n",
       " 'pants decomposition': 129,\n",
       " 'error monitoring': 130,\n",
       " 'typological analysis': 131,\n",
       " 'photon counting detectors': 132,\n",
       " 'polynomial algorithms': 133,\n",
       " 'personality disorder': 134,\n",
       " 'transitional care': 135,\n",
       " 'innovation infrastructures': 136,\n",
       " 'xnor net bins': 137,\n",
       " 'eurasian integration': 138,\n",
       " 'electric properties': 139,\n",
       " 'business management': 140,\n",
       " 'churn predictions': 141,\n",
       " 'uni axial compression': 142,\n",
       " 'citation distributions': 143,\n",
       " 'frieze patterns': 144,\n",
       " 'rescue strategies': 145,\n",
       " 'morse function': 146,\n",
       " 'computer algebra': 147,\n",
       " 'running waters': 148,\n",
       " 'dna binding': 149,\n",
       " 'theoretical analysis genetic algorithms': 150,\n",
       " 'mathematical concepts': 151,\n",
       " 'nanotechnologies': 152,\n",
       " 'premotor cortex': 153,\n",
       " 'neural information processing brain': 154,\n",
       " 'maps of several variables': 155,\n",
       " 'borel subgroup': 156,\n",
       " 'wireless sensor networks': 157,\n",
       " 'right wing extremist everyday behavior': 158,\n",
       " 'maxwell s equations': 159,\n",
       " 'waiting time': 160,\n",
       " 'acculturation profiles': 161,\n",
       " 'real time polymerase chain reaction': 162,\n",
       " 'professional sociology': 163,\n",
       " 'soft classification': 164,\n",
       " 'current stress': 165,\n",
       " 'social forecasting': 166,\n",
       " 'gibbs measures': 167,\n",
       " 'error rate': 168,\n",
       " 'dynamic games': 169,\n",
       " 'sirt': 170,\n",
       " 'flash crowd': 171,\n",
       " 'tax competition': 172,\n",
       " 'resultants': 173,\n",
       " 'new results': 174,\n",
       " 'social construction': 175,\n",
       " 'asymptotic expansion near singularity': 176,\n",
       " 'home': 177,\n",
       " 'organizational structure': 178,\n",
       " 'well structured transition systems': 179,\n",
       " 'cyber physical system': 180,\n",
       " 'doha amendment': 181,\n",
       " 'agile manufacturing systems': 182,\n",
       " 'linguistic and cultural type': 183,\n",
       " 'porphyry s isagoge': 184,\n",
       " 'openness evaluation framework': 185,\n",
       " 'exponential modalities': 186,\n",
       " 'railroad stations': 187,\n",
       " 'stochastic processes chains': 188,\n",
       " 'right hemisphere': 189,\n",
       " 'dota 2': 190,\n",
       " 'image applications': 191,\n",
       " 'piecewise linear': 192,\n",
       " 'condition monitoring systems': 193,\n",
       " 'exact model': 194,\n",
       " 'alternative solutions': 195,\n",
       " 'mathematical simulations': 196,\n",
       " 'village': 197,\n",
       " 'homeoscope': 198,\n",
       " 'habitus': 199,\n",
       " 'speech clichés': 200,\n",
       " 'maintenance work': 201,\n",
       " 'time processing': 202,\n",
       " 'real time forecasting': 203,\n",
       " 'linked datum': 204,\n",
       " 's t objectives': 205,\n",
       " 'social question': 206,\n",
       " 'online user behavior': 207,\n",
       " 'cold start problems': 208,\n",
       " 'large elongation': 209,\n",
       " 'high impact polystyrene': 210,\n",
       " 'disinterestedness': 211,\n",
       " 'separation': 212,\n",
       " 'particle fluence': 213,\n",
       " 'trusting partnership': 214,\n",
       " 'acoustic waves': 215,\n",
       " 'russian federation financial management': 216,\n",
       " 'adam smith': 217,\n",
       " 'federal system': 218,\n",
       " 'partial order': 219,\n",
       " 'lamplighter random walk': 220,\n",
       " 'unbounded domain': 221,\n",
       " 'identity status': 222,\n",
       " 'surgical operation': 223,\n",
       " 'polyelectrolyte chain': 224,\n",
       " 'mixed chinese postman problems': 225,\n",
       " 'metric approach to measuring uncertainty surveys': 226,\n",
       " 'whittaker d modules': 227,\n",
       " 'structural violence': 228,\n",
       " 'iron': 229,\n",
       " 'boris eikhenbaum': 230,\n",
       " 'brownian bridge': 231,\n",
       " 'residential satisfaction': 232,\n",
       " 'graph theoretic': 233,\n",
       " 'native born': 234,\n",
       " 'grigory skovoroda': 235,\n",
       " 'chronic stress': 236,\n",
       " 'income tax': 237,\n",
       " 'educational programmes': 238,\n",
       " 'adaptive institutional environment': 239,\n",
       " 'stochastic boundedness': 240,\n",
       " 'image manifolds': 241,\n",
       " 'markov chains': 242,\n",
       " 'game theory': 243,\n",
       " 'linear fractional integral functional': 244,\n",
       " 'identification capacities': 245,\n",
       " 'solar concentrators': 246,\n",
       " 'navigable small world': 247,\n",
       " 'james aldridge': 248,\n",
       " 'twitter crime': 249,\n",
       " 'joint response': 250,\n",
       " 'nuclear energy': 251,\n",
       " 'trap': 252,\n",
       " 'cross validation': 253,\n",
       " 'weather forecasting': 254,\n",
       " 'lex protectionis': 255,\n",
       " 'coulomb field': 256,\n",
       " 'root system': 257,\n",
       " 'partial preference relations': 258,\n",
       " 'experimental datum': 259,\n",
       " 'storing electricity artificial intelligence': 260,\n",
       " 'female employment': 261,\n",
       " 'labour institutions': 262,\n",
       " 'personality': 263,\n",
       " 'powders': 264,\n",
       " 'state owned company': 265,\n",
       " 'ozone': 266,\n",
       " 'software testing': 267,\n",
       " 'chaplygin top': 268,\n",
       " 'real word errors': 269,\n",
       " 'switching currents': 270,\n",
       " 'java annotations': 271,\n",
       " 'shock wave front': 272,\n",
       " 'post romanticism': 273,\n",
       " 'deep q networks': 274,\n",
       " 'organizational structures': 275,\n",
       " 'injection mode': 276,\n",
       " 'water environments': 277,\n",
       " 'microwave technology': 278,\n",
       " 'liquidity indices': 279,\n",
       " 'learning algorithm': 280,\n",
       " 'textured state space evolution rate': 281,\n",
       " 'piecewise smooth bounded drifts': 282,\n",
       " 'calculations': 283,\n",
       " 'purposes of higher education': 284,\n",
       " 'chromatography high pressure liquid': 285,\n",
       " 'city satisfaction': 286,\n",
       " 'william harvey': 287,\n",
       " 'hyperconsumerism': 288,\n",
       " 'health promotion': 289,\n",
       " 'disciplinary control': 290,\n",
       " 'invariance principle': 291,\n",
       " 'idef3': 292,\n",
       " 'in buildings': 293,\n",
       " 'visual deprivation': 294,\n",
       " 'characteristic task graph': 295,\n",
       " 'institutional drivers': 296,\n",
       " 'computer science education': 297,\n",
       " 'mathematical objects': 298,\n",
       " 'conilpotent coalgebras': 299,\n",
       " 'exceptional collections': 300,\n",
       " 'binary classification': 301,\n",
       " 'secondary schools': 302,\n",
       " 'tunable frequency': 303,\n",
       " 'microstripes': 304,\n",
       " 'separator dynamical systems': 305,\n",
       " 'possible self': 306,\n",
       " 'v m bekhterev': 307,\n",
       " 'software development data warehouses': 308,\n",
       " 'langevin equation': 309,\n",
       " 'sequence of objects classification of information': 310,\n",
       " 'political competition': 311,\n",
       " 'cloud ix operating system': 312,\n",
       " 'scaling': 313,\n",
       " 'discrete convolution operator': 314,\n",
       " 'inter particle interaction': 315,\n",
       " 'capacity of network': 316,\n",
       " 'conceptual model': 317,\n",
       " 'state support': 318,\n",
       " 'polynomial convergence rate': 319,\n",
       " 'q ary codes': 320,\n",
       " 'ecological economics': 321,\n",
       " 'personal deposits': 322,\n",
       " 'local field potential': 323,\n",
       " 'best bin first': 324,\n",
       " 'scattering techniques': 325,\n",
       " 'quantum cascade lasers': 326,\n",
       " 'iaas': 327,\n",
       " 'information seeking behavior': 328,\n",
       " 'norm and pathology': 329,\n",
       " 'women adult': 330,\n",
       " 'submatrix': 331,\n",
       " 'hydrodynamics': 332,\n",
       " 'system wide investigation district heating': 333,\n",
       " 'non contact sensors': 334,\n",
       " 'income stratification': 335,\n",
       " 'renewable energy': 336,\n",
       " 'threshold': 337,\n",
       " 'coding': 338,\n",
       " 'basel committee': 339,\n",
       " 'green computing': 340,\n",
       " 'parking': 341,\n",
       " 'rating questions': 342,\n",
       " 'material well being': 343,\n",
       " 'intersection points': 344,\n",
       " 'poisson structures': 345,\n",
       " 'russia china relations': 346,\n",
       " 'hedonic pricing analysis': 347,\n",
       " 'digital age': 348,\n",
       " 'rural social sciences': 349,\n",
       " 'united state exam': 350,\n",
       " 'energy method': 351,\n",
       " 'competition in auction': 352,\n",
       " 'unbounded domains discrete transparent boundary conditions': 353,\n",
       " 'reduced complexity': 354,\n",
       " 'hiv transmission': 355,\n",
       " 'parallelizations': 356,\n",
       " 'thermal behaviors': 357,\n",
       " 'data storage systems': 358,\n",
       " 'optical lattice potential': 359,\n",
       " 'metaphysics philosophy of science': 360,\n",
       " 'vertex coloring problems': 361,\n",
       " 'powers': 362,\n",
       " 'operation and market firm efficiency': 363,\n",
       " 'nonparametric test': 364,\n",
       " 'plastic films': 365,\n",
       " 'arab spring': 366,\n",
       " 'cables': 367,\n",
       " 'linguistic processor': 368,\n",
       " 'side emission': 369,\n",
       " 'health care need': 370,\n",
       " 'potassium channel blockers': 371,\n",
       " 'sensor measurements': 372,\n",
       " 'homothetic paradigm and testing': 373,\n",
       " 'cost differentiation': 374,\n",
       " 'keywords': 375,\n",
       " 'water models hydration': 376,\n",
       " 'quality of life': 377,\n",
       " 'survivability': 378,\n",
       " 'act rationality': 379,\n",
       " 'rubramoena': 380,\n",
       " 'health status disparities': 381,\n",
       " 'excavators': 382,\n",
       " 'theory of k representations bioinformatics': 383,\n",
       " 'quantum phase slips and shot noise nanowires': 384,\n",
       " 'random variable probability distribution': 385,\n",
       " 'classical root system': 386,\n",
       " 'oscillation': 387,\n",
       " 'homogeneity criterion': 388,\n",
       " 'randomized machine learning': 389,\n",
       " 'thermal power plants briquetting': 390,\n",
       " 'magnetic field strengths': 391,\n",
       " 'lms': 392,\n",
       " 'forestry policy': 393,\n",
       " 'migrants': 394,\n",
       " 'shimizu morioka system': 395,\n",
       " 'technology managements': 396,\n",
       " 'conic fibration': 397,\n",
       " 'stochastic games convex optimization': 398,\n",
       " 'political nation': 399,\n",
       " 'false positive': 400,\n",
       " 'scalar product': 401,\n",
       " 'harnack s inequality': 402,\n",
       " 'work flow systems': 403,\n",
       " 'travel': 404,\n",
       " 'light absorption': 405,\n",
       " 'miners': 406,\n",
       " 'temperature variation': 407,\n",
       " 'visual sampling': 408,\n",
       " 'corrosion effects': 409,\n",
       " 'polynomial bounds': 410,\n",
       " 'chromatic': 411,\n",
       " 'incoming packets': 412,\n",
       " 'grain market': 413,\n",
       " 'computational complexity': 414,\n",
       " 'cmos circuits': 415,\n",
       " 'optimisations': 416,\n",
       " 'wave shape shallow water': 417,\n",
       " 'perpetual peace': 418,\n",
       " 'key phrase': 419,\n",
       " 'hypothalamus': 420,\n",
       " 'np hard problems': 421,\n",
       " 'electrophysiological procedures': 422,\n",
       " 'expectations': 423,\n",
       " 'telemedicine': 424,\n",
       " 'hotels': 425,\n",
       " 'greek bible': 426,\n",
       " 'three dimensional modeling': 427,\n",
       " 'gospels': 428,\n",
       " 'tree quantization': 429,\n",
       " 'unfoldings': 430,\n",
       " 'urban sociology': 431,\n",
       " 'biomedical engineering': 432,\n",
       " 'iv characteristics': 433,\n",
       " 'operational amplifier op amp': 434,\n",
       " 'effective functioning': 435,\n",
       " 'kcc2': 436,\n",
       " 'fair elections': 437,\n",
       " 'cultural diversity': 438,\n",
       " 'boundedness': 439,\n",
       " 'psychometrics': 440,\n",
       " 'student body': 441,\n",
       " 'corrosive wear': 442,\n",
       " 'franchisor': 443,\n",
       " 'masers': 444,\n",
       " 'closed form': 445,\n",
       " 'baroque gigantology': 446,\n",
       " 'field emission displays': 447,\n",
       " 'non standard construction': 448,\n",
       " 'university studies': 449,\n",
       " 'npo': 450,\n",
       " 'statistical observation': 451,\n",
       " 'b mesons': 452,\n",
       " 'microwave amplifiers': 453,\n",
       " 'sensing radius': 454,\n",
       " 'objective cognitive load measurement methods': 455,\n",
       " 'quintic nonlinearity': 456,\n",
       " 'subcubic graphs': 457,\n",
       " 'boundary class of graphs': 458,\n",
       " 'rasul gamzatov': 459,\n",
       " 'type': 460,\n",
       " 'profit': 461,\n",
       " 'inhomogeneity': 462,\n",
       " 'exact tests': 463,\n",
       " 'macroscopic wave function': 464,\n",
       " 'caldithrix': 465,\n",
       " 'cultural production': 466,\n",
       " 'quality metric': 467,\n",
       " 'automatic frequency control': 468,\n",
       " 'integrated communication': 469,\n",
       " 'antibody labeling': 470,\n",
       " 'citizen satisfaction': 471,\n",
       " 'regularization': 472,\n",
       " 'financial asset returns': 473,\n",
       " 'maximal operation temperature': 474,\n",
       " 'low earth orbit': 475,\n",
       " 'education quality': 476,\n",
       " 'noice protection': 477,\n",
       " 'touch': 478,\n",
       " 'positive education interventions': 479,\n",
       " 'hybrid genetic algorithms': 480,\n",
       " 'time changed lévy process': 481,\n",
       " 'neural network algorithms': 482,\n",
       " 'affine algebraic variety': 483,\n",
       " 'brain depth recording': 484,\n",
       " 'zero forcing': 485,\n",
       " 'carnegie mellon university': 486,\n",
       " 'the worldview of marcus aurelius': 487,\n",
       " 'vertex operator algebra': 488,\n",
       " 'nerve conduction': 489,\n",
       " 'massive particles': 490,\n",
       " 'coulomb potential': 491,\n",
       " 'arf functions': 492,\n",
       " 'leadership development': 493,\n",
       " 'design of experiment': 494,\n",
       " 'tomography': 495,\n",
       " 'superplastic conditions': 496,\n",
       " 'referendum': 497,\n",
       " 'saddle point constrained optimization': 498,\n",
       " 'machine learning applications': 499,\n",
       " 'information complexity': 500,\n",
       " 'community oriented social media': 501,\n",
       " 'characteristic equation': 502,\n",
       " 'simulation approach': 503,\n",
       " 'criteria scales': 504,\n",
       " 'approximate analytical expressions': 505,\n",
       " 'test for samples nearest neighbour rule image recognition': 506,\n",
       " 'analytical applications': 507,\n",
       " 'dynamic programming algorithm': 508,\n",
       " 'martyrs': 509,\n",
       " 'proton irradiation': 510,\n",
       " 'samogon wine': 511,\n",
       " 'indigenous peoples': 512,\n",
       " 'two stage supply chain scheduling automobile manufacture': 513,\n",
       " 'emotional states': 514,\n",
       " 'sum of uniform random variables random variables': 515,\n",
       " 'system behaviors': 516,\n",
       " 'beliefs': 517,\n",
       " 'choice of university': 518,\n",
       " 'network on chip noc': 519,\n",
       " 'charles stanhope': 520,\n",
       " 'magnetic field line': 521,\n",
       " 'european court of human rights': 522,\n",
       " 'dipole dipole interactions': 523,\n",
       " 'stock exchange autonomous agents': 524,\n",
       " 'modern languages': 525,\n",
       " 'medical imaging': 526,\n",
       " 'b spline': 527,\n",
       " 'approximate clusters': 528,\n",
       " 'correction for attenuation': 529,\n",
       " 'extrinsic motivation': 530,\n",
       " 'heidegger': 531,\n",
       " 'morse smale flows': 532,\n",
       " 'simulated annealing method': 533,\n",
       " 'olympic games': 534,\n",
       " 'circuit diagrams': 535,\n",
       " 'strongly polynomial algorithm': 536,\n",
       " 'ferromagnetic ising models': 537,\n",
       " 'ethical regulation': 538,\n",
       " 'interactive electronic technical manuals': 539,\n",
       " 'theory of evidence changing of ignorance': 540,\n",
       " 't structures of derived type': 541,\n",
       " 'mechanisms and logic of changes': 542,\n",
       " 'mercury metal': 543,\n",
       " 'human brain networks': 544,\n",
       " 'anabelian geometry': 545,\n",
       " 'partial rankings': 546,\n",
       " 'lammps': 547,\n",
       " 'd71': 548,\n",
       " 'mutual informations': 549,\n",
       " 'terms of trade': 550,\n",
       " 'innovation strategies': 551,\n",
       " 'solution concepts': 552,\n",
       " 'alternating electric field': 553,\n",
       " 'in group identification': 554,\n",
       " 'superior temporal gyrus anterior cingulate': 555,\n",
       " 'final state testing': 556,\n",
       " 'psychological model': 557,\n",
       " 'transducers': 558,\n",
       " 'fokker planck equation': 559,\n",
       " 'international union of revolutionary writers': 560,\n",
       " 'diffusion model': 561,\n",
       " 'artifact': 562,\n",
       " 'domestic industries': 563,\n",
       " 'continuous selections': 564,\n",
       " 'resistive transition': 565,\n",
       " 'structural pattern': 566,\n",
       " 'fingerprinting code': 567,\n",
       " 'processing cycles': 568,\n",
       " 'acyclity': 569,\n",
       " 'pore blockers': 570,\n",
       " 'corporate parents': 571,\n",
       " 'robustness': 572,\n",
       " 'enterprise operational analysis': 573,\n",
       " 'atmospheric process': 574,\n",
       " 'random': 575,\n",
       " 'verbs adult': 576,\n",
       " 'heavy tails': 577,\n",
       " 'creative city': 578,\n",
       " 'video image recognition a posteriori probabilities': 579,\n",
       " 'health related lifestyle': 580,\n",
       " 'product term': 581,\n",
       " 'nonequilibrium quasiparticles': 582,\n",
       " 'galfrid of monmouth': 583,\n",
       " 'macroplasmoid': 584,\n",
       " '1930s': 585,\n",
       " 'amplifiers electronic': 586,\n",
       " 'linear characteristic of conversion': 587,\n",
       " 'multiple beam': 588,\n",
       " 'value circle': 589,\n",
       " 'practical cognition': 590,\n",
       " 'xml latexes': 591,\n",
       " 'psycholinguistics': 592,\n",
       " 'financial framework': 593,\n",
       " 'financial difficulties': 594,\n",
       " 'bachinskii condition': 595,\n",
       " 'decorative items': 596,\n",
       " 'molecular cloning': 597,\n",
       " 'treatment program amphetamine': 598,\n",
       " 'automatic image annotation': 599,\n",
       " 'mixed integer linear programs bins': 600,\n",
       " 'coronal loops': 601,\n",
       " 'spectral theory of linear difference operators': 602,\n",
       " 'high income group': 603,\n",
       " 'quasi experiment': 604,\n",
       " 'posterior parietal lobe': 605,\n",
       " 'tariff regulation': 606,\n",
       " 'garment industry': 607,\n",
       " 'anonymity': 608,\n",
       " 'structural graph': 609,\n",
       " 'a blok': 610,\n",
       " 'interactive contents': 611,\n",
       " 'nonlinear shallow water theory': 612,\n",
       " 'meixner polynomials': 613,\n",
       " 'painlevé equation': 614,\n",
       " 'framework convention on climate change': 615,\n",
       " 'the west': 616,\n",
       " 'nanotube magnetic fields': 617,\n",
       " 'organizational capital': 618,\n",
       " 'molecular genetics': 619,\n",
       " 'russian higher education': 620,\n",
       " 'automorphism groups': 621,\n",
       " 'injection thermal treatment': 622,\n",
       " 'motor skills': 623,\n",
       " 'russian verbal metaphor': 624,\n",
       " 'scandinavia': 625,\n",
       " 'grotesque': 626,\n",
       " 'nuclear reactors': 627,\n",
       " 'sub gradient methods': 628,\n",
       " 'ethnicity': 629,\n",
       " 'onymic space': 630,\n",
       " 'könig graph': 631,\n",
       " 'displacement devices': 632,\n",
       " 'organizational citizenship behaviour': 633,\n",
       " 'current voltage characteristics': 634,\n",
       " 'accelerating effect': 635,\n",
       " 'homeowners': 636,\n",
       " 'decomposition': 637,\n",
       " 'sanctions': 638,\n",
       " 'beam wave interactions': 639,\n",
       " 'angular gyrus': 640,\n",
       " 'collaborative learning': 641,\n",
       " 'game based': 642,\n",
       " 'post communism': 643,\n",
       " 'the anthropology of morality': 644,\n",
       " 'plasma density': 645,\n",
       " 'education reforms': 646,\n",
       " 'human and divine justice': 647,\n",
       " 'transferred technology': 648,\n",
       " 'illusion': 649,\n",
       " 'protein function': 650,\n",
       " 'separators': 651,\n",
       " 'demand for loans': 652,\n",
       " 'asymptotic formula': 653,\n",
       " 'lysozyme': 654,\n",
       " 'neuron networks': 655,\n",
       " 'jamming effect': 656,\n",
       " 'gravity assist maneuvers': 657,\n",
       " 'trend study': 658,\n",
       " 'inflammation': 659,\n",
       " 'low level features': 660,\n",
       " 'integrated environment': 661,\n",
       " 'student': 662,\n",
       " 'feasibility problem': 663,\n",
       " 'stochastic frontiers': 664,\n",
       " 'slow wave structure sws': 665,\n",
       " 'structured sparsities': 666,\n",
       " 'thin surface layer': 667,\n",
       " 'cellular telephones': 668,\n",
       " 'multi level modelling': 669,\n",
       " 'intellectual activity results': 670,\n",
       " 'signal frequencies': 671,\n",
       " 'juvenile court': 672,\n",
       " 'advanced education': 673,\n",
       " 'economic reform': 674,\n",
       " 'schrödinger operator': 675,\n",
       " 'rozansky witten invariants': 676,\n",
       " 'leisure structure': 677,\n",
       " 'suslov problem': 678,\n",
       " 'functional paradigm': 679,\n",
       " 'multiuser interference': 680,\n",
       " 'corporate parenting styles': 681,\n",
       " 'diffusion mobility': 682,\n",
       " 'age': 683,\n",
       " 'trust in non profit organizations': 684,\n",
       " 'crohn disease': 685,\n",
       " 'heat': 686,\n",
       " 'agent structure': 687,\n",
       " 'ekman damping': 688,\n",
       " 'real estate investment process': 689,\n",
       " 'service integration': 690,\n",
       " 'computer software reusability': 691,\n",
       " 'time dimension': 692,\n",
       " 'bitcoin': 693,\n",
       " 'phase space methods': 694,\n",
       " 'vascular pathology': 695,\n",
       " 'dorsal stream': 696,\n",
       " 'power flux density': 697,\n",
       " 'labor supply elasticity': 698,\n",
       " 'vigotskiy luria approach to neurorehabilitation adaptation': 699,\n",
       " 'nerve cell lesion': 700,\n",
       " 'classical molecular dynamics': 701,\n",
       " 'observer participation': 702,\n",
       " 'high space complexity': 703,\n",
       " 'recommender algorithms': 704,\n",
       " 'railway transportation': 705,\n",
       " 'self organizing maps': 706,\n",
       " 'tourism policies anthropogenic effect': 707,\n",
       " 'comprehension': 708,\n",
       " 'world bank': 709,\n",
       " 'general model': 710,\n",
       " 'moral sense': 711,\n",
       " 'modality': 712,\n",
       " 'bdnf gene': 713,\n",
       " 'representation theory': 714,\n",
       " 'rhetoric': 715,\n",
       " 'struggle': 716,\n",
       " 'university cooperation': 717,\n",
       " 'vygotsky luria neurorehabilitation approach': 718,\n",
       " 'magnetic helicity': 719,\n",
       " 'cultural tradition': 720,\n",
       " 'implications algorithms': 721,\n",
       " 'concave optimization': 722,\n",
       " 'high field injection': 723,\n",
       " 'task': 724,\n",
       " 'contract': 725,\n",
       " 'likelihood ratio': 726,\n",
       " 'strong ellipticity': 727,\n",
       " 'hopping and multiple trapping theories': 728,\n",
       " 'weak compactness': 729,\n",
       " 'suspended and retained particles filtration': 730,\n",
       " 'co 2 emissions': 731,\n",
       " 'machine learning approaches': 732,\n",
       " 'packet classification': 733,\n",
       " 'evolutionary models': 734,\n",
       " 'acetone': 735,\n",
       " 'dominance': 736,\n",
       " 'graph transformation system': 737,\n",
       " 'tsunami asteroids': 738,\n",
       " 'hemodynamics': 739,\n",
       " 'noun comprehension': 740,\n",
       " 'inflectional morpheme': 741,\n",
       " 'gender': 742,\n",
       " 'hybrid expert system': 743,\n",
       " 'design and analysis': 744,\n",
       " 'data processing techniques': 745,\n",
       " 'internal colonization': 746,\n",
       " 'ecological modernizations': 747,\n",
       " 'voltage characteristics': 748,\n",
       " 'verb noun name relation': 749,\n",
       " 'technological breakthroughs': 750,\n",
       " 'magnetotransport': 751,\n",
       " 'porous medium': 752,\n",
       " 'particle beams': 753,\n",
       " 'transfer of learning': 754,\n",
       " 'circular motion': 755,\n",
       " 'individual characteristics': 756,\n",
       " 'coordination mechanism': 757,\n",
       " 'research subjects': 758,\n",
       " 'temperature dependence': 759,\n",
       " 'networked work': 760,\n",
       " 'urban governance': 761,\n",
       " 'virtual learning environment computer aided instruction': 762,\n",
       " 'bending stress': 763,\n",
       " 'linguistic data': 764,\n",
       " 'metropolitan alexei': 765,\n",
       " 'laboratory experiment': 766,\n",
       " 'lightning drops': 767,\n",
       " 'standards article': 768,\n",
       " 'parental education': 769,\n",
       " 'residents utility commerce': 770,\n",
       " 'informative advertising': 771,\n",
       " 'post soviet regimes': 772,\n",
       " 'mobile devices': 773,\n",
       " 'weighted energy estimates damping': 774,\n",
       " 'steel testing': 775,\n",
       " 'sclera': 776,\n",
       " 'integral information inequalities': 777,\n",
       " 'pants decompositions': 778,\n",
       " 'distributed features': 779,\n",
       " 'approval ratings': 780,\n",
       " 'health care quality': 781,\n",
       " 'insurance companies': 782,\n",
       " 'quantum phase transitions': 783,\n",
       " 'consciousness body': 784,\n",
       " 'mental task': 785,\n",
       " 'professional software': 786,\n",
       " 'non archimedean locally compact fields': 787,\n",
       " 'research methodology': 788,\n",
       " 'error': 789,\n",
       " 'cramér von mises tests': 790,\n",
       " 'metaphoric competence': 791,\n",
       " 'model based opc': 792,\n",
       " 'risk issues': 793,\n",
       " 'instanton sheaves': 794,\n",
       " 'stationary bootstrap': 795,\n",
       " 'lagrangian torus': 796,\n",
       " 'binding sites': 797,\n",
       " 'multicasting': 798,\n",
       " 'internal nodes': 799,\n",
       " 'table outflow of the working population': 800,\n",
       " 'kyrgyzstan data quality': 801,\n",
       " 'clinical effectiveness': 802,\n",
       " 'crystal microstructure': 803,\n",
       " 'ancient turks': 804,\n",
       " 'two dimensional system electrons': 805,\n",
       " 'superconducting detector avalanche photodiodes': 806,\n",
       " 'information systems': 807,\n",
       " '16d90': 808,\n",
       " 'normal modes': 809,\n",
       " 'boron doped diamond films': 810,\n",
       " 'resting state condition': 811,\n",
       " 'bottleneck analysis': 812,\n",
       " 'linear dispersion': 813,\n",
       " 'voltage clamp technique': 814,\n",
       " 'grace': 815,\n",
       " 'hyperinflation': 816,\n",
       " 'torus knot': 817,\n",
       " 'brain injury': 818,\n",
       " 'aft fronts of the waves': 819,\n",
       " 'bads': 820,\n",
       " 'medical school': 821,\n",
       " 'turbulent global environment': 822,\n",
       " 'reeb foliation': 823,\n",
       " 'pierce oscillator': 824,\n",
       " 'löwner equation': 825,\n",
       " 'local currency bond markets': 826,\n",
       " 'ceteris paribus': 827,\n",
       " 'charitable activities in older age': 828,\n",
       " 'undirected graph': 829,\n",
       " 'regional politics': 830,\n",
       " 'drinking patterns': 831,\n",
       " 'dbkp hierarchy': 832,\n",
       " 'economic journals': 833,\n",
       " 'vorticity vorticity': 834,\n",
       " 'macroeconomic dynamics': 835,\n",
       " 'group oriented morality': 836,\n",
       " 'red light': 837,\n",
       " 'resource availability': 838,\n",
       " 'genomic island': 839,\n",
       " 'mkdv equation': 840,\n",
       " 'ecotourism': 841,\n",
       " 'chromatin structure': 842,\n",
       " 'affluence': 843,\n",
       " 'automated gas mixture analysis system': 844,\n",
       " 'organogenesis': 845,\n",
       " 'experimental techniques': 846,\n",
       " 'abelian functions': 847,\n",
       " 'iterated local search': 848,\n",
       " 'assisted reproductive technologies arts': 849,\n",
       " 'weighting of experts': 850,\n",
       " 'virus infection cell culture': 851,\n",
       " 'economic savings': 852,\n",
       " 'ion electron emission': 853,\n",
       " 'ensemble integration': 854,\n",
       " 'random number generation': 855,\n",
       " 'sales ranks': 856,\n",
       " 'neighborhood policy': 857,\n",
       " 'jobless society': 858,\n",
       " 'models of failures': 859,\n",
       " 'singular': 860,\n",
       " 'cross listing': 861,\n",
       " 'modular functions': 862,\n",
       " 'coalition formations': 863,\n",
       " 'negative polarity': 864,\n",
       " 'russian compatriots comparative study': 865,\n",
       " 'mobility management': 866,\n",
       " 'plain text': 867,\n",
       " '20c08': 868,\n",
       " 'multicast sessions': 869,\n",
       " 'property realisation': 870,\n",
       " 'spatial planning': 871,\n",
       " 'quantum partial derivatives': 872,\n",
       " 'international experiences': 873,\n",
       " 'central collapse': 874,\n",
       " 'wave envelopes computer simulation': 875,\n",
       " 'phagocytosis': 876,\n",
       " 'quantum correlations': 877,\n",
       " 'project investment': 878,\n",
       " 'network protocols': 879,\n",
       " 'optical transmission spectrum': 880,\n",
       " 'tariffs cost effectiveness': 881,\n",
       " 'l estimates': 882,\n",
       " 'hermes antigen': 883,\n",
       " 'non commutative geometry': 884,\n",
       " 'dominating set problem': 885,\n",
       " 'greek film': 886,\n",
       " 'young adults': 887,\n",
       " 'time resolution': 888,\n",
       " 'brain analysis': 889,\n",
       " 'feasible solution': 890,\n",
       " 'average unit profit': 891,\n",
       " 'graph g': 892,\n",
       " 'neighbors cooperation': 893,\n",
       " 'ic': 894,\n",
       " 'mars magnetosphere': 895,\n",
       " 'historical imagination': 896,\n",
       " 'russell s paradox': 897,\n",
       " 'history of universities': 898,\n",
       " 'greedy randomized adaptive search procedure': 899,\n",
       " 'monomial bases': 900,\n",
       " 'divine names': 901,\n",
       " 'restaurants': 902,\n",
       " 'united nations general assembly': 903,\n",
       " 'graph representation': 904,\n",
       " 'social innovations': 905,\n",
       " 'exit poll': 906,\n",
       " 'support vector machines': 907,\n",
       " 'sensor for an alarm signalization': 908,\n",
       " 'global economic dynamics': 909,\n",
       " 'instructional leadership': 910,\n",
       " 'love capital': 911,\n",
       " 'attentional deployment': 912,\n",
       " 'innovation': 913,\n",
       " 'information communications': 914,\n",
       " 'sonpos': 915,\n",
       " 'russian ottoman wars': 916,\n",
       " 'the method of large particles positrons': 917,\n",
       " 'data processing': 918,\n",
       " 'lay observers': 919,\n",
       " 'parameterizations calcium silicate': 920,\n",
       " 'digital inequality': 921,\n",
       " 'singularity subtraction helmholtz equation': 922,\n",
       " 'space transport systems': 923,\n",
       " 'jokes': 924,\n",
       " 'computerized tomography': 925,\n",
       " 'schubert varieties algebra': 926,\n",
       " 'legal activity': 927,\n",
       " 'technology roadmapping': 928,\n",
       " 'russian university education': 929,\n",
       " 'educational open data': 930,\n",
       " 'formal proofs': 931,\n",
       " 'expectation formation': 932,\n",
       " 'polynomial approximation': 933,\n",
       " 'electron thermal velocity': 934,\n",
       " 'slow wave structure': 935,\n",
       " 'hen egg lysozyme': 936,\n",
       " 'soviet urbanization': 937,\n",
       " 'one dimensional ising model': 938,\n",
       " 'production': 939,\n",
       " 'neva river': 940,\n",
       " '10th century': 941,\n",
       " 'array model': 942,\n",
       " 'jahn teller effect': 943,\n",
       " 'cultural anthropology': 944,\n",
       " 'organized crime': 945,\n",
       " 'person centered psychotherapy': 946,\n",
       " 'wave equation': 947,\n",
       " 'user profile': 948,\n",
       " 'bjt': 949,\n",
       " 'health education': 950,\n",
       " 'loop perforations': 951,\n",
       " 'timber industry': 952,\n",
       " 'computational linguistics': 953,\n",
       " 'power law': 954,\n",
       " 'parametric modelling': 955,\n",
       " 'stratospheric temperature': 956,\n",
       " 'animals': 957,\n",
       " 'visualization results text processing': 958,\n",
       " 'data transfer': 959,\n",
       " 'dedifferentiation': 960,\n",
       " 'compensatory mechanisms': 961,\n",
       " 'change of the world leader': 962,\n",
       " 'german language': 963,\n",
       " 'asean': 964,\n",
       " 'self presentation': 965,\n",
       " 'inferior frontal gyrus': 966,\n",
       " 'fluids': 967,\n",
       " 'free carrier concentration': 968,\n",
       " 'professionalization': 969,\n",
       " 'integral security': 970,\n",
       " 'social networks analysis content analysis': 971,\n",
       " 'software as a service software copyright software licensing application service provider copyright law': 972,\n",
       " 'recessive': 973,\n",
       " 'presymptomatic stage': 974,\n",
       " 'city quality': 975,\n",
       " 'autonomic power supply system': 976,\n",
       " 'equations of viscoelasticity': 977,\n",
       " 'large amplitude': 978,\n",
       " 'time to solution': 979,\n",
       " 'superconducting circuit': 980,\n",
       " 'first person shooter games': 981,\n",
       " 'long term oscillations': 982,\n",
       " 'two step approach': 983,\n",
       " 'personified regimes': 984,\n",
       " 'silicon on insulator soi': 985,\n",
       " 'single crystals': 986,\n",
       " 'patient treatment': 987,\n",
       " 's f exchange': 988,\n",
       " 'metric travelling salesman problem': 989,\n",
       " 'resource driven automata cellular nets': 990,\n",
       " 'input output': 991,\n",
       " 'theory of k representations application programs': 992,\n",
       " 'model categories': 993,\n",
       " 'power and society': 994,\n",
       " 'queuing systems': 995,\n",
       " 'programming of saccades': 996,\n",
       " 'galois cohomology': 997,\n",
       " 'health status': 998,\n",
       " 'risk assessment': 999,\n",
       " ...}"
      ]
     },
     "execution_count": 22,
     "metadata": {},
     "output_type": "execute_result"
    }
   ],
   "source": [
    "# For each word assign its unique id\n",
    "index = 0\n",
    "list_keywords = list(keywords_dict)\n",
    "keyword_id = {}\n",
    "for word in list_keywords:\n",
    "    keyword_id[word] = int(index)\n",
    "    index +=1 \n",
    "\n",
    "keyword_id #dict type"
   ]
  },
  {
   "cell_type": "code",
   "execution_count": 23,
   "metadata": {
    "ExecuteTime": {
     "end_time": "2018-10-27T00:00:46.898085Z",
     "start_time": "2018-10-27T00:00:45.762089Z"
    },
    "collapsed": true
   },
   "outputs": [],
   "source": [
    "# Create for each article a binarized vector of features\n",
    "\n",
    "for line in range(len(new_data)):\n",
    "    new_data[line]['keywords_vector'] = np.zeros((len(keywords_dict),), dtype=int) # zero array of len 27836\n",
    "    splitted_line = new_data[line]['keywords'].lower()\n",
    "    splitted_line = splitted_line.split(\"; \")\n",
    "    for word in splitted_line:\n",
    "        if word in keywords_dict:\n",
    "            its_id = keyword_id[word]\n",
    "            new_data[line]['keywords_vector'][its_id] = 1"
   ]
  },
  {
   "cell_type": "code",
   "execution_count": 26,
   "metadata": {
    "ExecuteTime": {
     "end_time": "2018-10-27T00:02:26.582660Z",
     "start_time": "2018-10-27T00:02:26.574093Z"
    },
    "collapsed": false
   },
   "outputs": [
    {
     "name": "stdout",
     "output_type": "stream",
     "text": [
      "[0 0 0 ..., 0 0 0] - вектор длины  27836\n",
      "Количество ненулевых элементов в бинарном векторе строки:  8\n"
     ]
    }
   ],
   "source": [
    "#Example\n",
    "\n",
    "print(new_data[2]['keywords_vector'], '- вектор длины ', len(new_data[2]['keywords_vector']))\n",
    "a = new_data[2]['keywords_vector']\n",
    "print(\"Количество ненулевых элементов в бинарном векторе строки: \", np.count_nonzero(a))"
   ]
  },
  {
   "cell_type": "code",
   "execution_count": 27,
   "metadata": {
    "ExecuteTime": {
     "end_time": "2018-10-27T00:04:57.493873Z",
     "start_time": "2018-10-27T00:04:57.485335Z"
    },
    "collapsed": false
   },
   "outputs": [
    {
     "data": {
      "text/plain": [
       "{'authors': [{'author': 'Popov S.V.', 'id': 54416259000},\n",
       "  {'author': 'Bernhardt D.', 'id': 7006377194}],\n",
       " 'category': 7,\n",
       " 'keywords': '',\n",
       " 'keywords_vector': array([1, 0, 0, ..., 0, 0, 0]),\n",
       " 'url': 'https://www.scopus.com/inward/record.uri?eid=2-s2.0-84865114984&doi=10.1257%2fmic.4.1.116&partnerID=40&md5=4d88e1c6b3922286bf72203239c6f594',\n",
       " 'year': '2012'}"
      ]
     },
     "execution_count": 27,
     "metadata": {},
     "output_type": "execute_result"
    }
   ],
   "source": [
    "# If the list of article's keywords was empty -  [1, 0, ..., 0], where on the first position is 1, other digits - 0.\n",
    "# Example with empty keywords\n",
    "new_data[245]"
   ]
  },
  {
   "cell_type": "markdown",
   "metadata": {},
   "source": [
    "**Версия 1**\n",
    "\n",
    "Файл 1 (like cora.content). Строим id + keyword_vector + label_class по id статей.\n",
    "\n",
    "Статьи не повторяются, поэтому id будут уникальными объектами. Ничего дополнительно с бинарным вектором и меткой класса делать не нужно."
   ]
  },
  {
   "cell_type": "code",
   "execution_count": 29,
   "metadata": {
    "ExecuteTime": {
     "end_time": "2018-10-27T00:42:20.062142Z",
     "start_time": "2018-10-27T00:13:29.890732Z"
    },
    "collapsed": false
   },
   "outputs": [
    {
     "name": "stdout",
     "output_type": "stream",
     "text": [
      "\n",
      "\n"
     ]
    }
   ],
   "source": [
    "new_lines = []\n",
    "index = 0\n",
    "used_ids = set()\n",
    "\n",
    "for line in tqdm_notebook(range(len(new_data))): # 9831\n",
    "    # get unique paper_id from url\n",
    "    url = new_data[line]['url']\n",
    "    parse.urlsplit(url)\n",
    "    eid = dict(parse.parse_qsl(parse.urlsplit(url).query))\n",
    "    eid['eid'] = eid['eid'][7:]\n",
    "    new_data[line]['ids'] = eid['eid']\n",
    "    \n",
    "    # get binarized vector of keywords in a string dtype\n",
    "    all_vector_values = list(new_data[line]['keywords_vector'])\n",
    "    vector_string = ''\n",
    "    for each in all_vector_values:\n",
    "        vector_string += (str(each) + ' ')\n",
    "    \n",
    "    if new_data[line]['ids'] not in used_ids:\n",
    "        new = str(new_data[line]['ids']) + ' ' + vector_string + ' ' + str(new_data[line]['category'])\n",
    "        used_ids.add(new_data[line]['ids'])\n",
    "        new_lines.append(new)"
   ]
  },
  {
   "cell_type": "code",
   "execution_count": 30,
   "metadata": {
    "ExecuteTime": {
     "end_time": "2018-10-27T00:42:28.242288Z",
     "start_time": "2018-10-27T00:42:28.230807Z"
    },
    "collapsed": false
   },
   "outputs": [
    {
     "name": "stdout",
     "output_type": "stream",
     "text": [
      "55686\n"
     ]
    },
    {
     "data": {
      "text/plain": [
       "'79961238208 0 0 0 0 0 0 0 0 0 0 0 0 0 0 0 0 0 0 0 0 0 0 0 0 0 0 0 0 0 0 0 0 0 0 0 0 0 0 0 0 0 0 0 0 0 0 0 0 0 0 0 0 0 0 0 0 0 0 0 0 0 0 0 0 0 0 0 0 0 0 0 0 0 0 0 0 0 0 0 0 0 0 0 0 0 0 0 0 0 0 0 0 0 0 0 0 0 0 0 0 0 0 0 0 0 0 0 0 0 0 0 0 0 0 0 0 0 0 0 0 0 0 0 0 0 0 0 0 0 0 0 0 0 0 0 0 0 0 0 0 0 0 0 0 0 0 0 0 0 0 0 0 0 0 0 0 0 0 0 0 0 0 0 0 0 0 0 0 0 0 0 0 0 0 0 0 0 0 0 0 0 0 0 0 0 0 0 0 0 0 0 0 0 0 0 0 0 0 0 0 0 0 0 0 0 0 0 0 0 0 0 0 0 0 0 0 0 0 0 0 0 0 0 0 0 0 0 0 0 0 0 0 0 0 0 0 0 0 0 0 0 0 0 0 0 0 0 0 0 0 0 0 0 0 0 0 0 0 0 0 0 0 0 0 0 0 0 0 0 0 0 0 0 0 0 0 0 0 0 0 0 0 0 0 0 0 0 0 0 0 0 0 0 0 0 0 0 0 0 0 0 0 0 0 0 0 0 0 0 0 0 0 0 0 0 0 0 0 0 0 0 0 0 0 0 0 0 0 0 0 0 0 0 0 0 0 0 0 0 0 0 0 0 0 0 0 0 0 0 0 0 0 0 0 0 0 0 0 0 0 0 0 0 0 0 0 0 0 0 0 0 0 0 0 0 0 0 0 0 0 0 0 0 0 0 0 0 0 0 0 0 0 0 0 0 0 0 0 0 0 0 0 0 0 0 0 0 0 0 0 0 0 0 0 0 0 0 0 0 0 0 0 0 0 0 0 0 0 0 0 0 0 0 0 0 0 0 0 0 0 0 0 0 0 0 0 0 0 0 0 0 0 0 0 0 0 0 0 0 0 0 0 0 0 0 0 0 0 0 0 0 0 0 0 0 0 0 0 0 0 0 0 0 0 0 0 0 0 0 0 0 0 0 0 0 0 0 0 0 0 0 0 0 0 0 0 0 0 0 0 0 0 0 0 0 0 0 0 0 0 0 0 0 0 0 0 0 0 0 0 0 0 0 0 0 0 0 0 0 0 0 0 0 0 0 0 0 0 0 0 0 0 0 0 0 0 0 0 0 0 0 0 0 0 0 0 0 0 0 0 0 0 0 0 0 1 0 0 0 0 0 0 0 0 0 0 0 0 0 0 0 0 0 0 0 0 0 0 0 0 0 0 0 0 0 0 0 0 0 0 0 0 0 0 0 0 0 0 0 0 0 0 0 0 0 0 0 0 0 0 0 0 0 0 0 0 0 0 0 0 0 0 0 0 0 0 0 0 0 0 0 0 0 0 0 0 0 0 0 0 0 0 0 0 0 0 0 0 0 0 0 0 0 0 0 0 0 0 0 0 0 0 0 0 0 0 0 0 0 0 0 0 0 0 0 0 0 0 0 0 0 0 0 0 0 0 0 0 0 0 0 0 0 0 0 0 0 0 0 0 0 0 0 0 0 0 0 0 0 0 0 0 0 0 0 0 0 0 0 0 0 0 0 0 0 0 0 0 0 0 0 0 0 0 0 0 0 0 0 0 0 0 0 0 0 0 0 0 0 0 0 0 0 0 0 0 0 0 0 0 0 0 0 0 0 0 0 0 0 0 0 0 0 0 0 0 0 0 0 0 0 0 0 0 0 0 0 0 0 0 0 0 0 0 0 0 0 0 0 0 0 0 0 0 0 0 0 0 0 0 0 0 0 0 0 0 0 0 0 0 0 0 0 0 0 0 0 0 0 0 0 0 0 0 0 0 0 0 0 0 0 0 0 0 0 0 0 0 0 0 0 0 0 0 0 0 0 0 0 0 0 0 0 0 0 0 0 0 0 0 0 0 0 0 0 0 0 0 0 0 0 0 0 0 0 0 0 0 0 0 0 0 0 0 0 0 0 0 0 0 0 0 0 0 0 0 0 0 0 0 0 0 0 0 0 0 0 0 0 0 0 0 0 0 0 0 0 0 0 0 0 0 0 0 0 0 0 0 0 0 0 0 0 0 0 0 0 0 0 0 0 0 0 0 0 0 0 0 0 0 0 0 0 0 0 0 0 0 0 0 0 0 0 0 0 0 0 0 0 0 0 0 0 0 0 0 0 0 0 0 0 0 0 0 0 0 0 0 0 0 0 0 0 0 0 0 0 0 0 0 0 0 0 0 0 0 0 0 0 0 0 0 0 0 0 0 0 0 0 0 0 0 0 0 0 0 0 0 0 0 0 0 0 0 0 0 0 0 0 0 0 0 0 0 0 0 0 0 0 0 0 0 0 0 0 0 0 0 0 0 0 0 0 0 0 0 0 0 0 0 0 0 0 0 0 0 0 0 0 0 0 0 0 0 0 0 0 0 0 0 0 0 0 0 0 0 0 0 0 0 0 0 0 0 0 0 0 0 0 0 0 0 0 0 0 0 0 0 0 0 0 0 0 0 0 0 0 0 0 0 0 0 0 0 0 0 0 0 0 0 0 0 0 0 0 0 0 0 0 0 0 0 0 0 0 0 0 0 0 0 0 0 0 0 0 0 0 0 0 0 0 0 0 0 0 0 0 0 0 0 0 0 0 0 0 0 0 0 0 0 0 0 0 0 0 0 0 0 0 0 0 0 0 0 0 0 0 0 0 0 0 0 0 0 0 0 0 0 0 0 0 0 0 0 0 0 0 0 0 0 0 0 0 0 0 0 0 0 0 0 0 0 0 0 0 0 0 0 0 0 0 0 0 0 0 0 0 0 0 0 0 0 0 0 0 0 0 0 0 0 0 0 0 0 0 0 0 0 0 0 0 0 0 0 0 0 0 0 0 0 0 0 0 0 0 0 0 0 0 0 0 0 0 0 0 0 0 0 0 0 0 0 0 0 0 0 0 1 0 0 0 0 0 0 0 0 0 0 0 0 0 0 0 0 0 0 0 0 0 0 0 0 0 0 0 0 0 0 0 0 0 0 0 0 0 0 0 0 0 0 0 0 0 0 0 0 0 0 0 0 0 0 0 0 0 0 0 0 0 0 0 0 0 0 0 0 0 0 0 0 0 0 0 0 0 0 0 0 0 0 0 0 0 0 0 0 0 0 0 0 0 0 0 0 0 0 0 0 0 0 0 0 0 0 0 0 0 0 0 0 0 0 0 0 0 0 0 0 0 0 0 0 0 0 0 0 0 0 0 0 0 0 0 0 0 0 0 0 0 0 0 0 0 0 0 0 0 0 0 0 0 0 0 0 0 0 0 0 0 0 0 0 0 0 0 0 0 0 0 0 0 0 0 0 0 0 0 0 0 0 0 0 0 0 0 0 0 0 0 0 0 0 0 0 0 0 0 0 0 0 0 0 0 0 0 0 0 0 0 0 0 0 0 0 0 0 0 0 0 0 0 0 0 0 0 0 0 0 0 0 0 0 0 0 0 0 0 0 0 0 0 0 0 0 0 0 0 0 0 0 0 0 0 0 0 0 0 0 0 0 0 0 0 0 0 0 0 0 0 0 0 0 0 0 0 0 0 0 0 0 0 0 0 0 0 0 0 0 0 0 0 0 0 0 0 0 0 0 0 0 0 0 0 0 0 0 0 0 0 0 0 0 0 0 0 0 0 0 0 0 0 0 0 0 0 0 0 0 0 0 0 0 0 0 0 0 0 0 0 0 0 0 0 0 0 0 0 0 0 0 0 0 0 0 0 0 0 0 0 0 0 0 0 0 0 0 0 0 0 0 0 0 0 0 0 0 0 0 0 0 0 0 0 0 0 0 0 0 0 0 0 0 0 0 0 0 0 0 0 0 0 0 0 0 0 0 0 0 0 0 0 0 0 0 0 0 0 0 0 0 0 0 0 0 0 0 0 0 0 0 0 0 0 0 0 0 0 0 0 0 0 0 0 0 0 0 0 0 0 0 0 0 0 0 0 0 0 0 0 0 0 0 0 0 0 0 0 0 0 0 0 0 0 0 0 0 0 0 0 0 0 0 0 0 0 0 0 0 0 0 0 0 0 0 0 0 0 0 0 0 0 0 0 0 0 0 0 0 0 0 0 0 0 0 0 0 0 0 0 0 0 0 0 0 0 0 0 0 0 0 0 0 0 0 0 0 0 0 0 0 0 0 0 0 0 0 0 0 0 0 0 0 0 0 0 0 0 0 0 0 0 0 0 0 0 0 0 0 0 0 0 0 0 0 0 0 0 0 0 0 0 0 0 0 0 0 0 0 0 0 0 0 0 0 0 0 0 0 0 0 0 0 0 0 0 0 0 0 0 0 0 0 0 0 0 0 0 0 0 0 0 0 0 0 0 0 0 0 0 0 0 0 0 0 0 0 0 0 0 0 0 0 0 0 0 0 0 0 0 0 0 0 0 0 0 0 0 0 0 0 0 0 0 0 0 0 0 0 0 0 0 0 0 0 0 0 0 0 0 0 0 0 0 0 0 0 0 0 0 0 0 0 0 0 0 0 0 0 0 0 0 0 0 0 0 0 0 0 0 0 0 0 0 0 0 0 0 0 0 0 0 0 0 0 0 0 0 0 0 0 0 0 0 0 0 0 0 0 0 0 0 0 0 0 0 0 0 0 0 0 0 0 0 0 0 0 0 0 0 0 0 0 0 0 0 0 0 0 0 0 0 0 0 0 0 0 0 0 0 0 0 0 0 0 0 0 0 0 0 0 0 0 0 0 0 0 0 0 0 0 0 0 0 0 0 0 0 0 0 0 0 0 0 0 0 0 0 0 0 0 0 0 0 0 0 0 0 0 0 0 0 0 0 0 0 0 0 0 0 0 0 0 0 0 0 0 0 0 0 0 0 0 0 0 0 0 0 0 0 0 0 0 0 0 0 0 0 0 0 0 0 0 0 0 0 0 0 0 0 0 0 0 0 0 0 0 0 0 0 0 0 0 0 0 0 0 0 0 0 0 0 0 0 0 0 0 0 0 0 0 0 0 0 0 0 0 0 0 0 0 0 0 0 0 0 0 0 0 0 0 0 0 0 0 0 0 0 0 0 0 0 0 0 0 0 0 0 0 0 0 0 0 0 0 0 0 0 0 0 0 0 0 0 0 0 0 0 0 0 0 0 0 0 0 0 0 0 0 0 0 0 0 0 0 0 0 0 0 0 0 0 0 0 0 0 0 0 0 0 0 0 0 0 0 0 0 0 0 0 0 0 0 0 0 0 0 0 0 0 0 0 0 0 0 0 0 0 0 0 0 0 0 0 0 0 0 0 0 0 0 0 0 0 0 0 0 0 0 0 0 0 0 0 0 0 0 0 0 0 0 0 0 0 0 0 0 0 0 0 0 0 0 0 0 0 0 0 0 0 0 0 0 0 0 0 0 0 0 0 0 0 0 0 0 0 0 0 0 0 0 0 0 0 0 0 0 0 0 0 0 0 0 0 0 0 0 0 0 0 0 0 0 0 0 0 0 0 0 0 0 0 0 0 0 0 0 0 0 0 0 0 0 0 0 0 0 0 0 0 0 0 0 0 0 0 0 0 0 0 0 0 0 0 0 0 0 0 0 0 0 0 0 0 0 0 0 0 0 0 0 0 0 0 0 0 0 0 0 0 0 0 0 0 0 0 0 0 0 0 0 0 0 0 0 0 0 0 0 0 0 0 0 0 0 0 0 0 0 0 0 0 0 0 0 0 0 0 0 0 0 0 0 0 0 0 0 0 0 0 0 0 0 0 0 0 0 0 0 0 0 0 0 0 0 0 0 0 0 0 0 0 0 0 0 0 0 0 0 0 0 0 0 0 0 0 0 0 0 0 0 0 0 0 0 0 0 0 0 0 0 0 0 0 0 0 0 0 0 0 0 0 0 0 0 0 0 0 0 0 0 0 0 0 0 0 0 0 0 0 0 0 0 0 0 0 0 0 0 0 0 0 0 0 0 0 0 0 0 0 0 0 0 0 0 0 0 0 0 0 0 0 0 0 0 0 0 0 0 0 0 0 0 0 0 0 0 0 0 0 0 0 0 0 0 0 0 0 0 0 0 0 0 0 0 0 0 0 0 0 0 0 0 0 0 0 0 0 0 0 0 0 0 0 0 0 0 0 0 0 0 0 0 0 0 0 0 0 0 0 0 0 0 0 0 0 0 0 0 0 0 0 0 0 0 0 0 0 0 0 0 0 0 0 0 0 0 0 0 0 0 0 0 0 0 0 0 0 0 0 0 0 0 0 0 0 0 0 0 0 0 0 0 0 0 0 0 0 0 0 0 0 0 0 0 0 0 0 0 0 0 0 0 0 0 0 0 0 0 0 0 0 0 0 0 0 0 0 0 0 0 0 0 0 0 0 0 0 0 0 0 0 0 0 0 0 0 0 0 0 0 0 0 0 0 0 0 0 0 0 0 0 0 0 0 0 0 0 0 0 0 0 0 0 0 0 0 0 0 0 0 0 0 0 0 0 0 0 0 0 0 0 0 0 0 0 0 0 0 0 0 0 0 0 0 0 0 0 0 0 0 0 0 0 0 0 0 0 0 0 0 0 0 0 0 0 0 0 0 0 0 0 0 0 0 0 0 0 0 0 0 0 0 0 0 0 0 0 0 0 0 0 0 0 0 0 0 0 0 0 0 0 0 0 0 0 0 0 0 0 0 0 0 0 0 0 0 0 0 0 0 0 0 0 0 0 0 0 0 0 0 0 0 0 0 0 0 0 0 0 0 0 0 0 0 0 0 0 0 0 0 0 0 0 0 0 0 0 0 0 0 0 0 0 0 0 0 0 0 0 0 0 0 0 0 0 0 0 0 0 0 0 0 0 0 0 0 0 0 0 0 0 0 0 0 0 0 0 0 0 0 0 0 0 0 0 0 0 0 0 0 0 0 0 0 0 0 0 0 0 0 0 0 0 0 0 0 0 0 0 0 0 0 0 0 0 0 0 0 0 0 0 0 0 0 0 0 0 0 0 0 0 0 0 0 0 0 0 0 0 0 0 0 0 0 0 0 0 0 0 0 0 0 0 0 0 0 0 0 0 0 0 0 0 0 0 0 0 0 0 0 0 0 0 0 0 0 0 0 0 0 0 0 0 0 0 0 0 0 0 0 0 0 0 0 0 0 0 0 0 0 0 0 0 0 0 0 0 0 0 0 0 0 0 0 0 0 0 0 0 0 0 0 0 0 0 0 0 0 0 0 0 0 0 0 0 0 0 0 0 0 0 0 0 0 0 0 0 0 0 0 0 0 0 0 0 0 0 0 0 0 0 0 0 0 0 0 0 0 0 0 0 0 0 0 0 0 0 0 0 0 0 0 0 0 0 0 0 0 0 0 0 0 0 0 0 0 0 0 0 0 0 0 0 0 0 0 0 0 0 0 0 0 0 0 0 0 0 0 0 0 0 0 0 0 0 0 0 0 0 0 0 0 0 0 0 0 0 0 0 0 0 0 0 0 0 0 0 0 0 0 0 0 0 0 0 0 0 0 0 0 0 0 0 0 0 0 0 0 0 0 0 0 0 0 0 0 0 0 0 0 0 0 0 0 0 0 0 0 0 0 0 0 0 0 0 0 0 0 0 0 0 0 0 0 0 0 0 0 0 0 0 0 0 0 0 0 0 0 0 0 0 0 0 0 0 0 0 0 0 0 0 0 0 0 0 0 0 0 0 0 0 0 0 0 0 0 0 0 0 0 0 0 0 0 0 0 0 0 0 0 0 0 0 0 0 0 0 0 0 0 0 0 0 0 0 0 0 0 0 0 0 0 0 0 0 0 0 0 0 0 0 0 0 0 0 0 0 0 0 0 0 0 0 0 0 0 0 0 0 0 0 0 0 0 0 0 0 0 0 0 0 0 0 0 0 0 0 0 0 0 0 0 0 0 0 0 0 0 0 0 0 0 0 0 0 0 0 0 0 0 0 0 0 0 0 0 0 0 0 0 0 0 0 0 0 0 0 0 0 0 0 0 0 0 0 0 0 0 0 0 0 0 0 0 0 0 0 0 0 0 0 0 0 0 0 0 0 0 0 0 0 0 0 0 0 0 0 0 0 0 0 0 0 0 0 0 0 0 0 0 0 0 0 0 0 0 0 0 0 0 0 0 0 0 0 0 0 0 0 0 0 0 0 0 0 0 0 0 0 0 0 0 0 0 0 0 0 0 0 0 0 0 0 0 0 0 0 0 0 0 0 0 0 0 0 0 0 0 0 0 0 0 0 0 0 0 0 0 0 0 0 0 0 0 0 0 0 0 0 0 0 0 0 0 0 0 0 0 0 0 0 0 0 0 0 0 0 0 0 0 0 0 0 0 0 0 0 0 0 0 0 0 0 0 0 0 0 0 0 0 0 0 0 0 0 0 0 0 0 0 0 0 0 0 0 0 0 0 0 0 0 0 0 0 0 0 0 0 0 0 0 0 0 0 0 0 0 0 0 0 0 0 0 0 0 0 0 0 0 0 0 0 0 0 0 0 0 0 0 0 0 0 0 0 0 0 0 0 0 0 0 0 0 0 0 0 0 0 0 0 0 0 0 0 0 0 0 0 0 0 0 0 0 0 0 0 0 0 0 0 0 0 0 0 0 0 0 0 0 0 0 0 0 0 0 0 0 0 0 0 0 0 0 0 0 0 0 0 0 0 0 0 0 0 0 0 0 0 0 0 0 0 0 0 0 0 0 0 0 0 0 0 0 0 0 0 0 0 0 0 0 0 0 0 0 0 0 0 0 0 0 0 0 0 0 0 0 0 0 0 0 0 0 0 0 0 0 0 0 0 0 0 0 0 0 0 0 0 0 0 0 0 0 0 0 0 0 0 0 0 0 0 0 0 0 0 0 0 0 0 0 0 0 0 0 0 0 0 0 0 0 0 0 0 0 0 0 0 0 0 0 0 0 0 0 0 0 0 0 0 0 0 0 0 0 0 0 0 0 0 0 0 0 0 0 0 0 0 0 0 0 0 0 0 0 0 0 0 0 0 0 0 0 0 0 0 0 0 0 0 0 0 0 0 0 0 0 0 0 0 0 0 0 0 0 0 0 0 0 0 0 0 0 0 0 0 0 0 0 0 0 0 0 0 0 0 0 0 0 0 0 0 0 0 0 0 0 0 0 0 0 0 0 0 0 0 0 0 0 0 0 0 0 0 0 0 0 0 0 0 0 0 0 0 0 0 0 0 0 0 0 0 0 0 0 0 0 0 0 0 0 0 0 0 0 0 0 0 0 0 0 0 0 0 0 0 0 0 0 0 0 0 0 0 0 0 0 0 0 0 0 0 0 0 0 0 0 0 0 0 0 0 0 0 0 0 0 0 0 0 0 0 0 0 0 0 0 0 0 0 0 0 0 0 0 0 0 0 0 0 0 0 0 0 0 0 0 0 0 0 0 0 0 0 0 0 0 0 0 0 0 0 0 0 0 0 0 0 0 0 0 0 0 0 0 0 0 0 0 0 0 0 0 0 0 0 0 0 0 0 0 0 0 0 0 0 0 0 0 0 0 0 0 0 0 0 0 0 0 0 0 0 0 0 0 0 0 0 0 0 0 0 0 0 0 0 0 0 0 0 0 0 0 0 0 0 0 0 0 0 0 0 0 0 0 0 0 0 0 0 0 0 0 0 0 0 0 0 0 0 0 0 0 0 0 0 0 0 0 0 0 0 0 0 0 0 0 0 0 0 0 0 0 0 0 0 0 0 0 0 0 0 0 0 0 0 0 0 0 0 0 0 0 0 0 0 0 0 0 0 0 0 0 0 0 0 0 0 0 0 0 0 0 0 0 0 0 0 0 0 0 0 0 0 0 0 0 0 0 0 0 0 0 0 0 0 0 0 0 0 0 0 0 0 0 0 0 0 0 0 0 0 0 0 0 0 0 0 0 0 0 0 0 0 0 0 0 0 0 0 0 0 0 0 0 0 0 0 0 0 0 0 0 0 0 0 0 0 0 0 0 0 0 0 0 0 0 0 0 0 0 0 0 0 0 0 0 0 0 0 0 0 0 0 0 0 0 0 0 0 0 0 0 0 0 0 0 0 0 0 0 0 0 0 0 0 0 0 0 0 0 0 0 0 0 0 0 0 0 0 0 0 0 0 0 0 0 0 0 0 0 0 0 0 0 0 0 0 0 0 0 0 0 0 0 0 0 0 0 0 0 0 0 0 0 0 0 0 0 0 0 0 0 0 0 0 0 0 0 0 0 0 0 0 0 0 0 0 0 0 0 0 0 0 0 0 0 0 0 0 0 0 0 0 0 0 0 0 0 0 0 0 0 0 0 0 0 0 0 0 0 0 0 0 0 0 0 0 0 0 0 0 0 0 0 0 0 0 0 0 0 0 0 0 0 0 0 0 0 0 0 0 0 0 0 0 0 0 0 0 0 0 0 0 0 0 0 0 0 0 0 0 0 0 0 0 0 0 0 0 0 0 0 0 0 0 0 0 0 0 0 0 0 0 0 0 0 0 0 0 0 0 0 0 0 0 0 0 0 0 0 0 0 0 0 0 0 0 0 0 0 0 0 0 0 0 0 0 0 0 0 0 0 0 0 0 0 0 0 0 0 0 0 0 0 0 0 0 0 0 0 0 0 0 0 0 0 0 0 0 0 0 0 0 0 0 0 0 0 0 0 0 0 0 0 0 0 0 0 0 0 0 0 0 0 0 0 0 0 0 0 0 0 0 0 0 0 0 0 0 0 0 0 0 0 0 0 0 0 0 0 0 0 0 0 0 0 0 0 0 0 0 0 0 0 0 0 0 0 0 0 0 0 0 0 0 0 0 0 0 0 0 0 0 0 0 0 0 0 0 0 0 0 0 0 0 0 0 0 0 0 0 0 0 0 0 0 0 0 0 0 0 0 0 0 0 0 0 0 0 0 0 0 0 0 0 0 0 0 0 0 0 0 0 0 0 0 0 0 0 0 0 0 0 0 0 0 0 0 0 0 0 0 0 0 0 0 0 0 0 0 0 0 0 0 0 0 0 0 0 0 0 0 0 0 0 0 0 0 0 0 0 0 0 0 0 0 0 0 0 0 0 0 0 0 0 0 0 0 0 0 0 0 0 0 0 0 0 0 0 0 0 0 0 0 0 0 0 0 0 0 0 0 0 0 0 0 0 0 0 0 0 0 0 0 0 0 0 0 0 0 0 0 0 0 0 0 0 0 0 0 0 0 0 0 0 0 0 0 0 0 0 0 0 0 0 0 0 0 0 0 0 0 0 0 0 0 0 0 0 0 0 0 0 0 0 0 0 0 0 0 0 0 0 0 0 0 0 0 0 0 0 0 0 0 0 0 0 0 0 0 0 0 0 0 0 0 0 0 0 0 0 0 0 0 0 0 0 0 0 0 0 0 0 0 0 0 0 0 0 0 0 0 0 0 0 0 0 0 0 0 0 0 0 0 0 0 0 0 0 0 0 0 0 0 0 0 0 0 0 0 0 0 0 0 0 0 0 0 0 0 0 0 0 0 0 0 0 0 0 0 0 0 0 0 0 0 0 0 0 0 0 0 0 0 0 0 0 0 0 0 0 0 0 0 0 0 0 0 0 0 0 0 0 0 0 0 0 0 0 0 0 0 0 0 0 0 0 0 0 0 0 0 0 0 0 0 0 0 0 0 0 0 0 0 0 0 0 0 0 0 0 0 0 0 0 0 0 0 0 0 0 0 0 0 0 0 0 0 0 0 0 0 0 0 0 0 0 0 0 0 0 0 0 0 0 0 0 0 0 0 0 0 0 0 0 0 0 0 0 0 0 0 0 0 0 0 0 0 0 0 0 0 0 0 0 0 0 0 0 0 0 0 0 0 0 0 0 0 0 0 0 0 0 0 0 0 0 0 0 0 0 0 0 0 0 0 0 0 0 0 0 0 0 0 0 0 0 0 0 0 0 0 0 0 0 0 0 0 0 0 0 0 0 0 0 0 0 0 0 0 0 0 0 0 0 0 0 0 0 0 0 0 0 0 0 0 0 0 0 0 0 0 0 0 0 0 0 0 0 0 0 0 0 0 0 0 0 0 0 0 0 0 0 0 0 0 0 0 0 0 0 0 0 0 0 0 0 0 0 0 0 0 0 0 0 0 0 0 0 0 0 0 0 0 0 0 0 0 0 0 0 0 0 0 0 0 0 0 0 0 0 0 0 0 0 0 0 0 0 0 0 0 0 0 0 0 0 0 0 0 0 0 0 0 0 0 0 0 0 0 0 0 0 0 0 0 0 0 0 0 0 0 0 0 0 0 0 0 0 0 0 0 0 0 0 0 0 0 0 0 0 0 0 0 0 0 0 0 0 0 0 0 0 0 0 0 0 0 0 0 0 0 0 0 0 0 0 0 0 0 0 0 0 0 0 0 0 0 0 0 0 0 0 0 0 0 0 0 0 0 0 0 0 0 0 0 0 0 0 0 0 0 0 0 0 0 0 0 0 0 0 0 0 0 0 0 0 0 0 0 0 0 0 0 0 0 0 0 0 0 0 0 0 0 0 0 0 0 0 0 0 0 0 0 0 0 0 0 0 0 0 0 0 0 0 0 0 0 0 0 0 0 0 0 0 0 0 0 0 0 0 0 0 0 0 0 0 0 0 0 0 0 0 0 0 0 0 0 0 0 0 0 0 0 0 0 0 0 0 0 0 0 0 0 0 0 0 0 0 0 0 0 0 0 0 0 0 0 0 0 0 0 0 0 0 0 0 0 0 0 0 0 0 0 0 0 0 0 0 0 0 0 0 0 0 0 0 0 0 0 0 0 0 0 0 0 0 0 0 0 0 0 0 0 0 0 0 0 0 0 0 0 0 0 0 0 0 0 0 0 0 0 0 0 0 0 0 0 0 0 0 0 0 0 0 0 0 0 0 0 0 0 0 0 0 0 0 0 0 0 0 0 0 0 0 0 0 0 0 0 0 0 0 0 0 0 0 0 0 0 0 0 0 0 0 0 0 0 0 0 0 0 0 0 0 0 0 0 0 0 0 0 0 0 0 0 0 0 0 0 0 0 0 0 0 0 0 0 0 0 0 0 0 0 0 0 0 0 0 0 0 0 0 0 0 0 0 0 0 0 0 0 0 0 0 0 0 0 0 0 0 0 0 0 0 0 0 0 0 0 0 0 0 0 0 0 0 0 0 0 0 0 0 0 0 0 0 0 0 0 0 0 0 0 0 0 0 0 0 0 0 0 0 0 0 0 0 0 0 0 0 0 0 0 0 0 0 0 0 0 0 0 0 0 0 0 0 0 0 0 0 0 0 0 0 0 0 0 0 0 0 0 0 0 0 0 0 0 0 0 0 0 0 0 0 0 0 0 0 0 0 0 0 0 0 0 0 0 0 0 0 0 0 0 0 0 0 0 0 0 0 0 0 0 0 0 0 0 0 0 0 0 0 0 0 0 0 0 0 0 0 0 0 0 0 0 0 0 0 0 0 0 0 0 0 0 0 0 0 0 0 0 0 0 0 0 0 0 0 0 0 0 0 0 0 0 0 0 0 0 0 0 0 0 0 0 0 0 0 0 0 0 0 0 0 0 0 0 0 0 0 0 0 0 0 0 0 0 0 0 0 0 0 0 0 0 0 0 0 0 0 0 0 0 0 0 0 0 0 0 0 0 0 0 0 0 0 0 0 0 0 0 0 0 0 0 0 0 0 0 0 0 0 0 0 0 0 0 0 0 0 0 0 0 0 0 0 0 0 0 0 0 0 0 0 0 0 0 0 0 0 0 0 0 0 0 0 0 0 0 0 0 0 0 0 0 0 0 0 0 0 0 0 0 0 0 0 0 0 0 0 0 0 0 0 0 0 0 0 0 0 0 0 0 0 0 0 0 0 0 0 0 0 0 0 0 0 0 0 0 0 0 0 0 0 0 0 0 0 0 0 0 0 0 0 0 0 0 0 0 0 0 0 0 0 0 0 0 0 0 0 0 0 0 0 0 0 0 0 0 0 0 0 0 0 0 0 0 0 0 0 0 0 0 0 0 0 0 0 0 0 0 0 0 0 0 0 0 0 0 0 0 0 0 0 0 0 0 0 0 0 0 0 0 0 0 0 0 0 0 0 0 0 0 0 0 0 0 0 0 0 0 0 0 0 0 0 0 0 0 0 0 0 0 0 0 0 0 0 0 0 0 0 0 0 0 0 0 0 0 0 0 0 0 0 0 0 0 0 0 0 0 0 0 0 0 0 0 0 0 0 0 0 0 0 0 0 0 0 0 0 0 0 0 0 0 0 0 0 0 0 0 0 0 0 0 0 0 0 0 0 0 0 0 0 0 0 0 0 0 0 0 0 0 0 0 0 0 0 0 0 0 0 0 0 0 0 0 0 0 0 0 0 0 0 0 0 0 0 0 0 0 0 0 0 0 0 0 0 0 0 0 0 0 0 0 0 0 0 0 0 0 0 0 0 0 0 0 0 0 0 0 0 0 0 0 0 0 0 0 0 0 0 0 0 0 0 0 0 0 0 0 0 0 0 0 0 0 0 0 0 0 0 0 0 0 0 0 0 0 0 0 0 0 0 0 0 0 0 0 0 0 0 0 0 0 0 0 0 0 0 0 0 0 0 0 0 0 0 0 0 0 0 0 0 0 0 0 0 0 0 0 0 0 0 0 0 0 0 0 0 0 0 0 0 0 0 0 0 0 0 0 0 0 0 0 0 0 0 0 0 0 0 0 0 0 0 0 0 0 0 0 0 0 0 0 0 0 0 0 0 0 0 0 0 0 0 0 0 0 0 0 0 0 0 0 0 0 0 0 0 0 0 0 0 0 0 0 0 0 0 0 0 0 0 0 0 0 0 0 0 0 0 0 0 0 0 0 0 0 0 0 0 0 0 0 0 0 0 0 0 0 0 0 0 0 0 0 0 0 0 0 0 0 0 0 0 0 0 0 0 0 0 0 0 0 0 0 0 0 0 0 0 0 0 0 0 0 0 0 0 0 0 0 0 0 0 0 0 0 0 0 0 0 0 0 0 0 0 0 0 0 0 0 0 0 0 0 0 0 0 0 0 0 0 0 0 0 0 0 0 0 0 0 0 0 0 0 0 0 0 0 0 0 0 0 0 0 0 0 0 0 0 0 0 0 0 0 0 0 0 0 0 0 0 0 0 0 0 0 0 0 0 0 0 0 0 0 0 0 0 0 0 0 0 0 0 0 0 0 0 0 0 0 0 0 0 0 0 0 0 0 0 0 0 0 0 0 0 0 0 0 0 0 0 0 0 0 0 0 0 0 0 0 0 0 0 0 0 0 0 0 0 0 0 0 0 0 0 0 0 0 0 0 0 0 0 0 0 0 0 0 0 0 0 0 0 0 0 0 0 0 0 0 0 0 0 0 0 0 0 0 0 0 0 0 0 0 0 0 0 0 0 0 0 0 0 0 0 0 0 0 0 0 0 0 0 0 0 0 0 0 0 0 0 0 0 0 0 0 0 0 0 0 0 0 0 0 0 0 0 0 0 0 0 0 0 0 0 0 0 0 0 0 0 0 0 0 0 0 0 0 0 0 0 0 0 0 0 0 0 0 0 0 0 0 0 0 0 0 0 0 0 0 0 0 0 0 0 0 0 0 0 0 0 0 0 0 0 0 0 0 0 0 0 0 0 0 0 0 0 0 0 0 0 0 0 0 0 0 0 0 0 0 0 0 0 0 0 0 0 0 0 0 0 0 0 0 0 0 0 0 0 0 0 0 0 0 0 0 0 0 0 0 0 0 0 0 0 0 0 0 0 0 0 0 0 0 0 0 0 0 0 0 0 0 0 0 0 0 0 0 0 0 0 0 0 0 0 0 0 0 0 0 0 0 0 0 0 0 0 0 0 0 0 0 0 0 0 0 0 0 0 0 0 0 0 0 0 0 0 0 0 0 0 0 0 0 0 0 0 0 0 0 0 0 0 0 0 0 0 0 0 0 0 0 0 0 0 0 0 0 0 0 0 0 0 0 0 0 0 0 0 0 0 0 0 0 0 0 0 0 0 0 0 0 0 0 0 0 0 0 0 0 0 0 0 0 0 0 0 0 0 0 0 0 0 0 0 0 0 0 0 0 0 0 0 0 0 0 0 0 0 0 0 0 0 0 0 0 0 0 0 0 0 0 0 0 0 0 0 0 0 0 0 0 0 0 0 0 0 0 0 0 0 0 0 0 0 0 0 0 0 0 0 0 0 0 0 0 0 0 0 0 0 0 0 0 0 0 0 0 0 0 0 0 0 0 0 0 0 0 0 0 0 0 0 0 0 0 0 0 0 0 0 0 0 0 0 0 0 0 0 0 0 0 0 0 0 0 0 0 0 0 0 0 0 0 0 0 0 0 0 0 0 0 0 0 0 0 0 0 0 0 0 0 0 0 0 0 0 0 0 0 0 0 0 0 0 0 0 0 0 0 0 0 0 0 0 0 0 0 0 0 0 0 0 0 0 0 0 0 0 0 0 0 0 0 0 0 0 0 0 0 0 0 0 0 0 0 0 0 0 0 0 0 0 0 0 0 0 0 0 0 0 0 0 0 0 0 0 0 0 0 0 0 0 0 0 0 0 0 0 0 0 0 0 0 0 0 0 0 0 0 0 0 0 0 0 0 0 0 0 0 0 0 0 0 0 0 0 0 0 0 0 0 0 0 0 0 0 0 0 0 0 0 0 0 0 0 0 0 0 0 0 0 0 0 0 0 0 0 0 0 0 0 0 0 0 0 0 0 0 0 0 0 0 0 0 0 0 0 0 0 0 0 0 0 0 0 0 0 0 0 0 0 0 0 0 0 0 0 0 0 0 0 0 0 0 0 0 0 0 0 0 0 0 0 0 0 0 0 0 0 0 0 0 0 0 0 0 0 0 0 0 0 0 0 0 0 0 0 0 0 0 0 0 0 0 0 0 0 0 0 0 0 0 0 0 0 0 0 0 0 0 0 0 0 0 0 0 0 0 0 0 0 0 0 0 0 0 0 0 0 0 0 0 0 0 0 0 0 0 0 0 0 0 0 0 0 0 0 0 0 0 0 0 0 0 0 0 0 0 0 0 0 0 0 0 0 0 0 0 0 0 0 0 0 0 0 0 0 0 0 0 0 0 0 0 0 0 0 0 0 0 0 0 0 0 0 0 0 0 0 0 0 0 0 0 0 0 0 0 0 0 0 0 0 0 0 0 0 0 0 0 0 0 0 0 0 0 0 0 0 0 0 0 0 0 0 0 0 0 0 0 0 0 0 0 0 0 0 0 0 0 0 0 0 0 0 0 0 0 0 0 0 0 0 0 0 0 0 0 0 0 0 0 0 0 0 0 0 0 0 0 0 0 0 0 0 0 0 0 0 0 0 0 0 0 0 0 0 0 0 0 0 0 0 0 0 0 0 0 0 0 0 0 0 0 0 0 0 0 0 0 0 0 0 0 0 0 0 0 0 0 0 0 0 0 0 0 0 0 0 0 0 0 0 0 0 0 0 0 0 0 0 0 0 0 0 0 0 0 0 0 0 0 0 0 0 0 0 0 0 0 0 0 0 0 0 0 0 0 0 0 0 0 0 0 0 0 0 0 0 0 0 0 0 0 0 0 0 0 0 0 0 0 0 0 0 0 0 0 0 0 0 0 0 0 0 0 0 0 0 0 0 0 0 0 0 0 0 0 0 0 0 0 0 0 0 0 0 0 0 0 0 0 0 0 0 0 0 0 0 0 0 0 0 0 0 0 0 0 0 0 0 0 0 0 0 0 0 0 0 0 0 0 0 0 0 0 0 0 0 0 0 0 0 0 0 0 0 0 0 0 0 0 0 0 0 0 0 0 0 0 0 0 0 0 0 0 0 0 0 0 0 0 0 0 0 0 0 0 0 0 0 0 0 0 0 0 0 0 0 0 0 0 0 0 0 0 0 0 0 0 0 0 0 0 0 0 0 0 0 0 0 0 0 0 0 0 0 0 0 0 0 0 0 0 0 0 0 0 0 0 0 0 0 0 0 0 0 0 0 0 0 0 0 0 0 0 0 0 0 0 0 0 0 0 0 0 0 0 0 0 0 0 0 0 0 0 0 0 0 0 0 0 0 0 0 0 0 0 0 0 0 0 0 0 0 0 0 0 0 0 0 0 0 0 0 0 0 0 0 0 0 0 0 0 0 0 0 0 0 0 0 0 0 0 0 0 0 0 0 0 0 0 0 0 0 0 0 0 0 0 0 0 0 0 0 0 0 0 0 0 0 0 0 0 0 0 0 0 0 0 0 0 0 0 0 0 0 0 0 0 0 0 0 0 0 0 0 0 0 0 0 0 0 0 0 0 0 0 0 0 0 0 0 0 0 0 0 0 0 0 0 0 0 0 0 0 0 0 0 0 0 0 0 0 0 0 0 0 0 0 0 0 0 0 0 0 0 0 0 0 0 0 0 0 0 0 0 0 0 0 0 0 0 0 0 0 0 0 0 0 0 0 0 0 0 0 0 0 0 0 0 0 0 0 0 0 0 0 0 0 0 0 0 0 0 0 0 0 0 0 0 0 0 0 0 0 0 0 0 0 0 0 0 0 0 0 0 0 0 0 0 0 0 0 0 0 0 0 0 0 0 0 0 0 0 0 0 0 0 0 0 0 0 0 0 0 0 0 0 0 0 0 0 0 0 0 0 0 0 0 0 0 0 0 0 0 0 0 0 0 0 0 0 0 0 0 0 0 0 0 0 0 0 0 0 0 0 0 0 0 0 0 0 0 0 0 0 0 0 0 0 0 0 0 0 0 0 0 0 0 0 0 0 0 0 0 0 0 0 0 0 0 0 0 0 0 0 0 0 0 0 0 0 0 0 0 0 0 0 0 0 0 0 0 0 0 0 0 0 0 0 0 0 0 0 0 0 0 0 0 0 0 0 0 0 0 0 0 0 0 0 0 0 0 0 0 0 0 0 0 0 0 0 0 0 0 0 0 0 0 0 0 0 0 0 0 0 0 0 0 0 0 0 0 0 0 0 0 0 0 0 0 0 0 0 0 0 0 0 0 0 0 0 0 0 0 0 0 0 0 0 0 0 0 0 0 0 0 0 0 0 0 0 0 0 0 0 0 0 0 0 0 0 0 0 0 0 0 0 0 0 0 0 0 0 0 0 0 0 0 0 0 0 0 0 0 0 0 0 0 0 0 0 0 0 0 0 0 0 0 0 0 0 0 0 0 0 0 0 0 0 0 0 0 0 0 0 0 0 0 0 0 0 0 0 0 0 0 0 0 0 0 0 0 0 0 0 0 0 0 0 0 0 0 0 0 0 0 0 0 0 0 0 0 0 0 0 0 0 0 0 0 0 0 0 0 0 0 0 0 0 0 0 0 0 0 0 0 0 0 0 0 0 0 0 0 0 0 0 0 0 0 0 0 0 0 0 0 0 0 0 0 0 0 0 0 0 0 0 0 0 0 0 0 0 0 0 0 0 0 0 0 0 0 0 0 0 0 0 0 0 0 0 0 0 0 0 0 0 0 0 0 0 0 0 0 0 0 0 0 0 0 0 0 0 0 0 0 0 0 0 0 0 0 0 0 0 0 0 0 0 0 0 0 0 0 0 0 0 0 0 0 0 0 0 0 0 0 0 0 0 0 0 0 0 0 0 0 0 0 0 0 0 0 0 0 0 0 0 0 0 0 0 0 0 0 0 0 0 0 0 0 0 0 0 0 0 0 0 0 0 0 0 0 0 0 0 0 0 0 0 0 0 0 0 0 0 0 0 0 0 0 0 0 0 0 0 0 0 0 0 0 0 0 0 0 0 0 0 0 0 0 0 0 0 0 0 0 0 0 0 0 0 0 0 0 0 0 0 0 0 0 0 0 0 0 0 0 0 0 0 0 0 0 0 0 0 0 0 0 0 0 0 0 0 0 0 0 0 0 0 0 0 0 0 0 0 0 0 0 0 0 0 0 0 0 0 0 0 0 0 0 0 0 0 0 0 0 0 0 0 0 0 0 0 0 0 0 0 0 0 0 0 0 0 0 0 0 0 0 0 0 0 0 0 0 0 0 0 0 0 0 0 0 0 0 0 0 0 0 0 0 0 0 0 0 0 0 0 0 0 0 0 0 0 0 0 0 0 0 0 0 0 0 0 0 0 0 0 0 0 0 0 0 0 0 0 0 0 0 0 0 0 0 0 0 0 0 0 0 0 0 0 0 0 0 0 0 0 0 0 0 0 0 0 0 0 0 0 0 0 0 0 0 0 0 0 0 0 0 0 0 0 0 0 0 0 0 0 0 0 0 0 0 0 0 0 0 0 0 0 0 0 0 0 0 0 0 0 0 0 0 0 0 0 0 0 0 0 0 0 0 0 0 0 0 0 0 0 0 0 0 0 0 0 0 0 0 0 0 0 0 0 0 0 0 0 0 0 0 0 0 0 0 0 0 0 0 0 0 0 0 0 0 0 0 0 0 0 0 0 0 0 0 0 0 0 0 0 0 0 0 0 0 0 0 0 0 0 0 0 0 0 0 0 0 0 0 0 0 0 0 0 0 0 0 0 0 0 0 0 0 0 0 0 0 0 0 0 0 0 0 0 0 0 0 0 0 0 0 0 0 0 0 0 0 0 0 0 0 0 0 0 0 0 0 0 0 0 0 0 0 0 0 0 0 0 0 0 0 0 0 0 0 0 0 0 0 0 0 0 0 0 0 0 0 0 0 0 0 0 0 0 0 0 0 0 0 0 0 0 0 0 0 0 0 0 0 0 0 0 0 0 0 0 0 0 0 0 0 0 0 0 0 0 0 0 0 0 0 0 0 0 0 0 0 0 0 0 0 0 0 0 0 0 0 0 0 0 0 0 0 0 0 0 0 0 0 0 0 0 0 0 0 0 0 0 0 0 0 0 0 0 0 0 0 0 0 0 0 0 0 0 0 0 0 0 0 0 0 0 0 0 0 0 0 0 0 0 0 0 0 0 0 0 0 0 0 0 0 0 0 0 0 0 0 0 0 0 0 0 0 0 0 0 0 0 0 0 0 0 0 0 0 0 0 0 0 0 0 0 0 0 0 0 0 0 0 0 0 0 0 0 0 0 0 0 0 0 0 0 0 0 0 0 0 0 0 0 0 0 0 0 0 0 0 0 0 0 0 0 0 0 0 0 0 0 0 0 0 0 0 0 0 0 0 0 0 0 0 0 0 0 0 0 0 0 0 0 0 0 0 0 0 0 0 0 0 0 0 0 0 0 0 0 0 0 0 0 0 0 0 0 0 0 0 0 0 0 0 0 0 0 0 0 0 0 0 0 0 0 0 0 0 0 0 0 0 0 0 0 0 0 0 0 0 0 0 0 0 0 0 0 0 0 0 0 0 0 0 0 0 0 0 0 0 0 0 0 0 0 0 0 0 0 0 0 0 0 0 0 0 0 0 0 0 0 0 0 0 0 0 0 0 0 0 0 0 0 0 0 0 0 0 0 0 0 0 0 0 0 0 0 0 0 0 0 0 0 0 0 0 0 0 0 0 0 0 0 0 0 0 0 0 0 0 0 0 0 0 0 0 0 0 0 0 0 0 0 0 0 0 0 0 0 0 0 0 0 0 0 0 0 0 0 0 0 0 0 0 0 0 0 0 0 0 0 0 0 0 0 0 0 0 0 0 0 0 0 0 0 0 0 0 0 0 0 0 0 0 0 0 0 0 0 0 0 0 0 0 0 0 0 0 0 0 0 0 0 0 0 0 0 0 0 0 0 0 0 0 0 0 0 0 0 0 0 0 0 0 0 0 0 0 0 0 0 0 0 0 0 0 0 0 0 0 0 0 0 0 0 0 0 0 0 0 0 0 0 0 0 0 0 0 0 0 0 0 0 0 0 0 0 0 0 0 0 0 0 0 0 0 0 0 0 0 0 0 0 0 0 0 0 0 0 0 0 0 0 0 0 0 0 0 0 0 0 0 0 0 0 0 0 0 0 0 0 0 0 0 0 0 0 0 0 0 0 0 0 0 0 0 0 0 0 0 0 0 0 0 0 0 0 0 0 0 0 0 0 0 0 0 0 0 0 0 0 0 0 0 0 0 0 0 0 0 0 0 0 0 0 0 0 0 0 0 0 0 0 0 0 0 0 0 0 0 0 0 0 0 0 0 0 0 0 0 0 0 0 0 0 0 0 0 0 0 0 0 0 0 0 0 0 0 0 0 0 0 0 0 0 0 0 0 0 0 0 0 0 0 0 0 0 0 0 0 0 0 0 0 0 0 0 0 0 0 0 0 0 0 0 0 0 0 0 0 0 0 0 0 0 0 0 0 0 0 0 0 0 0 0 0 0 0 0 0 0 0 0 0 0 0 0 0 0 0 0 0 0 0 0 0 0 0 0 0 0 0 0 0 0 0 0 0 0 0 0 0 0 0 0 0 0 0 0 0 0 0 0 0 0 0 0 0 0 0 0 0 0 0 0 0 0 0 0 0 0 0 0 0 0 0 0 0 0 0 0 0 0 0 0 0 0 0 0 0 0 0 0 0 0 0 0 0 0 0 0 0 0 0 0 0 0 0 0 0 0 0 0 0 0 0 0 0 0 0 0 0 0 0 0 0 0 0 0 0 0 0 0 0 0 0 0 0 0 0 0 0 0 0 0 0 0 0 0 0 0 0 0 0 0 0 0 0 0 0 0 0 0 0 0 0 0 0 0 0 0 0 0 0 0 0 0 0 0 0 0 0 0 0 0 0 0 0 0 0 0 0 0 0 0 0 0 0 0 0 0 0 0 0 0 0 0 0 0 0 0 0 0 0 0 0 0 0 0 0 0 0 0 0 0 0 0 0 0 0 0 0 0 0 0 0 0 0 0 0 0 0 0 0 0 0 0 0 0 0 0 0 0 0 0 0 0 0 0 0 0 0 0 0 0 0 0 0 0 0 0 0 0 0 0 0 0 0 0 0 0 0 0 0 0 0 0 0 0 0 0 0 0 0 0 0 0 0 0 0 0 0 0 0 0 0 0 0 0 0 0 0 0 0 0 0 0 0 0 0 0 0 0 0 0 0 0 0 0 0 0 0 0 0 0 0 0 0 0 0 0 0 0 0 0 0 0 0 0 0 0 0 0 0 0 0 0 0 0 0 0 0 0 0 0 0 0 0 0 0 0 0 0 0 0 0 0 0 0 0 0 0 0 0 0 0 0 0 0 0 0 0 0 0 0 0 0 0 0 0 0 0 0 0 0 0 0 0 0 0 0 0 0 0 0 0 0 0 0 0 0 0 0 0 0 0 0 0 0 0 0 0 0 0 0 0 0 0 0 0 0 0 0 0 0 0 0 0 0 0 0 0 0 0 0 0 0 0 0 0 0 0 0 0 0 0 0 0 0 0 0 0 0 0 0 0 0 0 0 0 0 0 0 0 0 0 0 0 0 0 0 0 0 0 0 0 0 0 0 0 0 0 0 0 0 0 0 0 0 0 0 0 0 0 0 0 0 0 0 0 0 0 0 0 0 0 0 0 0 0 0 0 0 0 0 0 0 0 0 0 0 0 0 0 0 0 0 0 0 0 0 0 0 0 0 0 0 0 0 0 0 0 0 0 0 0 0 0 0 0 0 0 0 0 0 0 0 0 0 0 0 0 0 0 0 0 0 0 0 0 0 0 0 0 0 0 0 0 0 0 0 0 0 0 0 0 0 0 0 0 0 0 0 0 0 0 0 0 0 0 0 0 0 0 0 0 0 0 0 0 0 0 0 0 0 0 0 0 0 0 0 0 0 0 0 0 0 0 0 0 0 0 0 0 0 0 0 0 0 0 0 0 0 0 0 0 0 0 0 0 0 0 0 0 0 0 0 0 0 0 0 0 0 0 0 0 0 0 0 0 0 0 0 0 0 0 0 0 0 0 0 0 0 0 0 0 0 0 0 0 0 0 0 0 0 0 0 0 0 0 0 0 0 0 0 0 0 0 0 0 0 0 0 0 0 0 0 0 0 0 0 0 0 0 0 0 0 0 0 0 0 0 0 0 0 0 0 0 0 0 0 0 0 0 0 0 0 0 0 0 0 0 0 0 0 0 0 0 0 0 0 0 0 0 0 0 0 0 0 0 0 0 0 0 0 0 0 0 0 0 0 0 0 0 0 0 0 0 0 0 0 0 0 0 0 0 0 0 0 0 0 0 0 0 0 0 0 0 0 0 0 0 0 0 0 0 0 0 0 0 0 0 0 0 0 0 0 0 0 0 0 0 0 0 0 0 0 0 0 0 0 0 0 0 0 0 0 0 0 0 0 0 0 0 0 0 0 0 0 0 0 0 0 0 0 0 0 0 0 0 0 0 0 0 0 0 0 0 0 0 0 0 0 0 0 0 0 0 0 0 0 0 0 0 0 0 0 0 0 0 0 0 0 0 0 0 0 0 0 0 0 0 0 0 0 0 0 0 0 0 0 0 0 0 0 0 0 0 0 0 0 0 0 0 0 0 0 0 0 0 0 0 0 0 0 0 0 0 0 0 0 0 0 0 0 0 0 0 0 0 0 0 0 0 0 0 0 0 0 0 0 0 0 0 0 0 0 0 0 0 0 0 0 0 0 0 0 0 0 0 0 0 0 0 0 0 0 0 0 0 0 0 0 0 0 0 0 0 0 0 0 0 0 0 0 0 0 0 0 0 0 0 0 0 0 0 0 0 0 0 0 0 0 0 0 0 0 0 0 0 0 0 0 0 0 0 0 0 0 0 0 0 0 0 0 0 0 0 0 0 0 0 0 0 0 0 0 0 0 0 0 0 0 0 0 0 0 0 0 0 0 0 0 0 0 0 0 0 0 0 0 0 0 0 0 0 0 0 0 0 0 0 0 0 0 0 0 0 0 0 0 0 0 0 0 0 0 0 0 0 0 0 0 0 0 0 0 0 0 0 0 0 0 0 0 0 0 0 0 0 0 0 0 0 0 0 0 0 0 0 0 0 0 0 0 0 0 0 0 0 0 0 0 0 0 0 0 0 0 0 0 0 0 0 0 0 0 0 0 0 0 0 0 0 0 0 0 0 0 0 0 0 0 0 0 0 0 0 0 0 0 0 0 0 0 0 0 0 0 0 0 0 0 0 0 0 0 0 0 0 0 0 0 0 0 0 0 0 0 0 0 0 0 0 0 0 0 0 0 0 0 0 0 0 0 0 0 0 0 0 0 0 0 0 0 0 0 0 0 0 0 0 0 0 0 0 0 0 0 0 0 0 0 0 0 0 0 0 0 0 0 0 0 0 0 0 0 0 0 0 0 0 0 0 0 0 0 0 0 0 0 0 0 0 0 0 0 0 0 0 0 0 0 0 0 0 0 0 0 0 0 0 0 0 0 0 0 0 0 0 0 0 0 0 0 0 0 0 0 0 0 0 0 0 0 0 0 0 0 0 0 0 0 0 0 0 0 0 0 0 0 0 0 0 0 0 0 0 0 0 0 0 0 0 0 0 0 0 0 0 0 0 0 0 0 0 0 0 0 0 0 0 0 0 0 0 0 0 0 0 0 0 0 0 0 0 0 0 0 0 0 0 0 0 0 0 0 0 0 0 0 0 0 0 0 0 0 0 0 0 0 0 0 0 0 0 0 0 0 0 0 0 0 0 0 0 0 0 0 0 0 0 0 0 0 0 0 0 0 0 0 0 0 0 0 0 0 0 0 0 0 0 0 0 0 0 0 0 0 0 0 0 0 0 0 0 0 0 0 0 0 0 0 0 0 0 0 0 0 0 0 0 0 0 0 0 0 0 0 0 0 0 0 0 0 0 0 0 0 0 0 0 0 0 0 0 0 0 0 0 0 0 0 0 0 0 0 0 0 0 0 0 0 0 0 0 0 0 0 0 0 0 0 0 0 0 0 0 0 0 0 0 0 0 0 0 0 0 0 0 0 0 0 0 0 0 0 0 0 0 0 0 0 0 0 0 0 0 0 0 0 0 0 0 0 0 0 0 0 0 0 0 0 0 0 0 0 0 0 0 0 0 0 0 0 0 0 0 0 0 0 0 0 0 0 0 0 0 0 0 0 0 0 0 0 0 0 0 0 0 0 0 0 0 0 0 0 0 0 0 0 0 0 0 0 0 0 0 0 0 0 0 0 0 0 0 0 0 0 0 0 0 0 0 0 0 0 0 0 0 0 0 0 0 0 0 0 0 0 0 0 0 0 0 0 0 0 0 0 0 0 0 0 0 0 0 0 0 0 0 0 0 0 0 0 0 0 0 0 0 0 0 0 0 0 0 0 0 0 0 0 0 0 0 0 0 0 0 0 0 0 0 0 0 0 0 0 0 0 0 0 0 0 0 0 0 0 0 0 0 0 0 0 0 0 0 0 0 0 0 0 0 0 0 0 0 0 0 0 0 0 0 0 0 0 0 0 0 0 0 0 0 0 0 0 0 0 0 0 0 0 0 0 0 0 0 0 0 0 0 0 0 0 0 0 0 0 0 0 0 0 0 0 0 0 0 0 0 0 0 0 0 0 0 0 0 0 0 0 0 0 0 0 0 0 0 0 0 0 0 0 0 0 0 0 0 0 0 0 0 0 0 0 0 0 0 0 0 0 0 0 0 0 0 0 0 0 0 0 0 0 0 0 0 0 0 0 0 0 0 0 0 0 0 0 0 0 0 0 0 0 0 0 0 0 0 0 0 0 0 0 0 0 0 0 0 0 0 0 0 0 0 0 0 0 0 0 0 0 0 0 0 0 0 0 0 0 0 0 0 0 0 0 0 0 0 0 0 0 0 0 0 0 0 0 0 0 0 0 0 0 0 0 0 0 0 0 0 0 0 0 0 0 0 0 0 0 0 0 0 0 0 0 0 0 0 0 0 0 0 0 0 0 0 0 0 0 0 0 0 0 0 0 0 0 0 0 0 0 0 0 0 0 0 0 0 0 0 0 0 0 0 0 0 0 0 0 0 0 0 0 0 0 0 0 0 0 0 0 0 0 0 0 0 0 0 0 0 0 0 0 0 0 0 0 0 0 0 0 0 0 0 0 0 0 0 0 0 0 0 0 0 0 0 0 0 0 0 0 0 0 0 0 0 0 0 0 0 0 0 0 0 0 0 0 0 0 0 0 0 0 0 0 0 0 0 0 0 0 0 0 0 0 0 0 0 0 0 0 0 0 0 0 0 0 0 0 0 0 0 0 0 0 0 0 0 0 0 0 0 0 0 0 0 0 0 0 0 0 0 0 0 0 0 0 0 0 0 0 0 0 0 0 0 0 0 0 0 0 0 0 0 0 0 0 0 0 0 0 0 0 0 0 0 0 0 0 0 0 0 0 0 0 0 0 0 0 0 0 0 0 0 0 0 0 0 0 0 0 0 0 0 0 0 0 0 0 0 0 0 0 0 0 0 0 0 0 0 0 0 0 0 0 0 0 0 0 0 0 0 0 0 0 0 0 0 0 0 0 0 0 0 0 0 0 0 0 0 0 0 0 0 0 0 0 0 0 0 0 0 0 0 0 0 0 0 0 0 0 0 0 0 0 0 0 0 0 0 0 0 0 0 0 0 0 0 0 0 0 0 0 0 0 0 0 0 0 0 0 0 0 0 0 0 0 0 0 0 0 0 0 0 0 0 0 0 0 0 0 0 0 0 0 0 0 0 0 0 0 0 0 0 0 0 0 0 0 0 0 0 0 0 0 0 0 0 0 0 0 0 0 0 0 0 0 0 0 0 0 0 0 0 0 0 0 0 0 0 0 0 0 0 0 0 0 0 0 0 0 0 0 0 0 0 0 0 0 0 0 0 0 0 0 0 0 0 0 0 0 0 0 0 0 0 0 0 0 0 0 0 0 0 0 0 0 0 0 0 0 0 0 0 0 0 0 0 0 0 0 0 0 0 0 0 0 0 0 0 0 0 0 0 0 0 0 0 0 0 0 0 0 0 0 0 0 0 0 0 0 0 0 0 0 0 0 0 0 0 0 0 0 0 0 0 0 0 0 0 0 0 0 0 0 0 0 0 0 0 0 0 0 0 0 0 0 0 0 0 0 0 0 0 0 0 0 0 0 0 0 0 0 0 0 0 0 0 0 0 0 0 0 0 0 0 0 0 0 0 0 0 0 0 0 0 0 0 0 0 0 0 0 0 0 0 0 0 0 0 0 0 0 0 0 0 0 0 0 0 0 0 0 0 0 0 0 0 0 0 0 0 0 0 0 0 0 0 0 0 0 0 0 0 0 0 0 0 0 0 0 0 0 0 0 0 0 0 0 0 0 0 0 0 0 0 0 0 0 0 0 0 0 0 0 0 0 0 0 0 0 0 0 0 0 0 0 0 0 0 0 0 0 0 0 0 0 0 0 0 0 0 0 0 0 0 0 0 0 0 0 0 0 0 0 0 0 0 0 0 0 0 0 0 0 0 0 0 0 0 0 0 0 0 0 0 0 0 0 0 0 0 0 0 0 0 0 0 0 0 0 0 0 0 0 0 0 0 0 0 0 0 0 0 0 0 0 0 0 0 0 0 0 0 0 0 0 0 0 0 0 0 0 0 0 0 0 0 0 0 0 0 0 0 0 0 0 0 0 0 0 0 0 0 0 0 0 0 0 0 0 0 0 0 0 0 0 0 0 0 0 0 0 0 0 0 0 0 0 0 0 0 0 0 0 0 0 0 0 0 0 0 0 0 0 0 0 0 0 0 0 0 0 0 0 0 0 0 0 0 0 0 0 0 0 0 0 0 0 0 0 0 0 0 0 0 0 0 0 0 0 0 0 0 0 0 0 0 0 0 0 0 0 0 0 0 0 0 0 0 0 0 0 0 0 0 0 0 0 0 0 0 0 0 0 0 0 0 0 0 0 0 0 0 0 0 0 0 0 0 0 0 0 0 0 0 0 0 0 0 0 0 0 0 0 0 0 0 0 0 0 0 0 0 0 0 0 0 0 0 0 0 0 0 0 0 0 0 0 0 0 0 0 0 0 0 0 0 0 0 0 0 0 0 0 0 0 0 0 0 0 0 0 0 0 0 0 0 0 0 0 0 0 0 0 0 0 0 0 0 0 0 0 0 0 0 0 0 0 0 0 0 0 0 0 0 0 0 0 0 0 0 0 0 0 0 0 0 0 0 0 0 0 0 0 0 0 0 0 0 0 0 0 0 0 0 0 0 0 0 0 0 0 0 0 0 0 0 0 0 0 0 0 0 0 0 0 0 0 0 0 0 0 0 0 0 0 0 0 0 0 0 0 0 0 0 0 0 0 0 0 0 0 0 0 0 0 0 0 0 0 0 0 0 0 0 0 0 0 0 0 0 0 0 0 0 0 0 0 0 0 0 0 0 0 0 0 0 0 0 0 0 0 0 0 0 0 0 0 0 0 0 0 0 0 0 0 0 0 0 0 0 0 0 0 0 0 0 0 0 0 0 0 0 0 0 0 0 0 0 0 0 0 0 0 0 0 0 0 0 0 0 0 0 0 0 0 0 0 0 0 0 0 0 0 0 0 0 0 0 0 0 0 0 0 0 0 0 0 0 0 0 0 0 0 0 0 0 0 0 0 0 0 0 0 0 0 0 0 0 0 0 0 0 0 0 0 0 0 0 0 0 0 0 0 0 0 0 0 0 0 0 0 0 0 0 0 0 0 0 0 0 0 0 0 0 0 0 0 0 0 0 0 0 0 0 0 0 0 0 0 0 0 0 0 0 0 0 0 0 0 0 0 0 0 0 0 0 0 0 0 0 0 0 0 0 0 0 0 0 0 0 0 0 0 0 0 0 0 0 0 0 0 0 0 0 0 0 0 0 0 0 0 0 0 0 0 0 0 0 0 0 0 0 0 0 0 0 0 0 0 0 0 0 0 0 0 0 0 0 0 0 0 0 0 0 0 0 0 0 0 0 0 0 0 0 0 0 0 0 0 0 0 0 0 0 0 0 0 0 0 0 0 0 0 0 0 0 0 0 0 0 0 0 0 0 0 0 0 0 0 0 0 0 0 0 0 0 0 0 0 0 0 0 0 0 0 0 0 0 0 0 0 0 0 0 0 0 0 0 0 0 0 0 0 0 0 0 0 0 0 0 0 0 0 0 0 0 0 0 0 0 0 0 0 0 0 0 0 0 0 0 0 0 0 0 0 0 0 0 0 0 0 0 0 0 0 0 0 0 0 0 0 0 0 0 0 0 0 0 0 0 0 0 0 0 0 0 0 0 0 0 0 0 0 0 0 0 0 0 0 0 0 0 0 0 0 0 0 0 0 0 0 0 0 0 0 0 0 0 0 0 0 0 0 0 0 0 0 0 0 0 0 0 0 0 0 0 0 0 0 0 0 0 0 0 0 0 0 0 0 0 0 0 0 0 0 0 0 0 0 0 0 0 0 0 0 0 0 0 0 0 0 0 0 0 0 0 0 0 0 0 0 0 0 0 0 0 0 0 0 0 0 0 0 0 0 0 0 0 0 0 0 0 0 0 0 0 0 0 0 0 0 0 0 0 0 0 0 0 0 0 0 0 0 0 0 0 0 0 0 0 0 0 0 0 0 0 0 0 0 0 0 0 0 0 0 0 0 0 0 0 0 0 0 0 0 0 0 0 0 0 0 0 0 0 0 0 0 0 0 0 0 0 0 0 0 0 0 0 0 0 0 0 0 0 0 0 0 0 0 0 0 0 0 0 0 0 0 0 0 0 0 0 0 0 0 0 0 0 0 0 0 0 0 0 0 0 0 0 0 0 0 0 0 0 0 0 0 0 0 0 0 0 0 0 0 0 0 0 0 0 0 0 0 0 0 0 0 0 0 0 0 0 0 0 0 0 0 0 0 0 0 0 0 0 0 0 0 0 0 0 0 0 0 0 0 0 0 0 0 0 0 0 0 0 0 0 0 0 0 0 0 0 0 0 0 0 0 0 0 0 0 0 0 0 0 0 0 0 0 0 0 0 0 0 0 0 0 0 0 0 0 0 0 0 0 0 0 0 0 0 0 0 0 0 0 0 0 0 0 0 0 0 0 0 0 0 0 0 0 0 0 0 0 0 0 0 0 0 0 0 0 0 0 0 0 0 0 0 0 0 0 0 0 0 0 0 0 0 0 0 0 0 0 0 0 0 0 0 0 0 0 0 0 0 0 0 0 0 0 0 0 0 0 0 0 0 0 0 0 0 0 0 0 0 0 0 0 0 0 0 0 0 0 0 0 0 0 0 0 0 0 0 0 0 0 0 0 0 0 0 0 0 0 0 0 0 0 0 0 0 0 0 0 0 0 0 0 0 0 0 0 0 0 0 0 0 0 0 0 0 0 0 0 0 0 0 0 0 0 0 0 0 0 0 0 0 0 0 0 0 0 0 0 0 0 0 0 0 0 0 0 0 0 0 0 0 0 0 0 0 0 0 0 0 0 0 0 0 0 0 0 0 0 0 0 0 0 0 0 0 0 0 0 0 0 0 0 0 0 0 0 0 0 0 0 0 0 0 0 0 0 0 0 0 0 0 0 0 0 0 0 0 0 0 0 0 0 0 0 0 0 0 0 0 0 0 0 0 0 0 0 0 0 0 0 0 0 0 0 0 0 0 0 0 0 0 0 0 0 0 0 0 0 0 0 0 0 0 0 0 0 0 0 0 0 0 0 0 0 0 0 0 0 0 0 0 0 0 0 0 0 0 0 0 0 0 0 0 0 0 0 0 0 0 0 0 0 0 0 0 0 0 0 0 0 0 0 0 0 0 0 0 0 0 0 0 0 0 0 0 0 0 0 0 0 0 0 0 0 0 0 0 0 0 0 0 0 0 0 0 0 0 0 0 0 0 0 0 0 0 0 0 0 0 0 0 0 0 0 0 0 0 0 0 0 0 0 0 0 0 0 0 0 0 0 0 0 0 0 0 0 0 0 0 0 0 0 0 0 0 0 0 0 0 0 0 0 0 0 0 0 0 0 0 0 0 0 0 0 0 0 0 0 0 0 0 0 0 0 0 0 0 0 0 0 0 0 0 0 0 0 0 0 0 0 0 0 0 0 0 0 0 0 0 0 0 0 0 0 0 0 0 0 0 0 0 0 0 0 0 0 0 0 0 0 0 0 0 0 0 0 0 0 0 0 0 0 0 0 0 0 0 0 0 0 0 0 0 0 0 0 0 0 0 0 0 0 0 0 0 0 0 0 0 0 0 0 0 0 0 0 0 0 0 0 0 0 0 0 0 0 0 0 0 0 0 0 0 0 0 0 0 0 0 0 0 0 0 0 0 0 0 0 0 0 0 0 0 0 0 0 0 0 0 0 0 0 0 0 0 0 0 0 0 0 0 0 0 0 0 0 0 0 0 0 0 0 0 0 0 0 0 0 0 0 0 0 0 0 0 0 0 0 0 0 0 0 0 0 0 0 0 0 0 0 0 0 0 0 0 0 0 0 0 0 0 0 0 0 0 0 0 0 0 0 0 0 0 0 0 0 0 0 0 0 0 0 0 0 0 0 0 0 0 0 0 0 0 0 0 0 0 0 0 0 0 0 0 0 0 0 0 0 0 0 0 0 0 0 0 0 0 0 0 0 0 0 0 0 0 0 0 0 0 0 0 0 0 0 0 0 0 0 0 0 0 0 0 0 0 0 0 0 0 0 0 0 0 0 0 0 0 0 0 0 0 0 0 0 0 0 0 0 0 0 0 0 0 0 0 0 0 0 0 0 0 0 0 0 0 0 0 0 0 0 0 0 0 0 0 0 0 0 0 0 0 0 0 0 0 0 0 0 0 0 0 0 0 0 0 0 0 0 0 0 0 0 0 0 0 0 0 0 0 0 0 0 0 0 0 0 0 0 0 0 0 0 0 0 0 0 0 0 0 0 0 0 0 0 0 0 0 0 0 0 0 0 0 0 0 0 0 0 0 0 0 0 0 0 0 0 0 0 0 0 0 0 0 0 0 0 0 0 0 0 0 0 0 0 0 0 0 0 0 0 0 0 0 0 0 0 0 0 0 0 0 0 0 0 0 0 0 0 0 0 0 0 0 0 0 0 0 0 0 0 0 0 0 0 0 0 0 0 0 0 0 0 0 0 0 0 0 0 0 0 0 0 0 0 0 0 0 1 0 0 0 0 0 0 0 0 0 0 0 0 0 0 0 0 0 0 0 0 0 0 0 0 0 0 0 0 0 0 0 0 0 0 0 0 0 0 0 0 0 0 0 0 0 0 0 0 0 0 0 0 0 0 0 0 0 0 0 0 0 0 0 0 0 0 0 0 0 0 0 0 0 0 0 0 0 0 0 0 0 0 0 0 0 0 0 0 0 0 0 0 0 0 0 0 0 0 0 0 0 0 0 0 0 0 0 0 0 0 0 0 0 0 0 0 0 0 0 0 0 0 0 0 0 0 0 0 0 0 0 0 0 0 0 0 0 0 0 0 0 0 0 0 0 0 0 0 0 0 0 0 0 0 0 0 0 0 0 0 0 0 0 0 0 0 0 0 0 0 0 0 0 0 0 0 0 0 0 0 0 0 0 0 0 0 0 0 0 0 0 0 0 0 0 0 0 0 0 0 0 0 0 0 0 0 0 0 0 0 0 0 0 0 0 0 0 0 0 0 0 0 0 0 0 0 0 0 0 0 0 0 0 0 0 0 0 0 0 0 0 0 0 0 0 0 0 0 0 0 0 0 0 0 0 0 0 0 0 0 0 0 0 0 0 0 0 0 0 0 0 0 0 0 0 0 0 0 0 0 0 0 0 0 0 0 0 0 0 0 0 0 0 0 0 0 0 0 0 0 0 0 0 0 0 0 0 0 0 0 0 0 0 0 0 0 0 0 0 0 0 0 0 0 0 0 0 0 0 0 0 0 0 0 0 0 0 0 0 0 0 0 0 0 0 0 0 0 0 0 0 0 0 0 0 0 0 0 0 0 0 0 0 0 0 0 0 0 0 0 0 0 0 0 0 0 0 0 0 0 0 0 0 0 0 0 0 0 0 0 0 0 0 0 0 0 0 0 0 0 0 0 0 0 0 0 0 0 0 0 0 0 0 0 0 0 0 0 0 0 0 0 0 0 0 0 0 0 0 0 0 0 0 0 0 0 0 0 0 0 0 0 0 0 0 0 0 0 0 0 0 0 0 0 0 0 0 0 0 0 0 0 0 0 0 0 0 0 0 0 0 0 0 0 0 0 0 0 0 0 0 0 0 0 0 0 0 0 0 0 0 0 0 0 0 0 0 0 0 0 0 0 0 0 0 0 0 0 0 0 0 0 0 0 0 0 0 0 0 0 0 0 0 0 0 0 0 0 0 0 0 0 0 0 0 0 0 0 0 0 0 0 0 0 0 0 0 0 0 0 0 0 0 0 0 0 0 0 0 0 0 0 0 0 0 0 0 0 0 0 0 0 0 0 0 0 0 0 0 0 0 0 0 0 0 0 0 0 0 0 0 0 0 0 0 0 0 0 0 0 0 0 0 0 0 0 0 0 0 0 0 0 0 0 0 0 0 0 0 0 0 0 0 0 0 0 0 0 0 0 0 0 0 0 0 0 0 0 0 0 0 0 0 0 0 0 0 0 0 0 0 0 0 0 0 0 0 0 0 0 0 0 0 0 0 0 0 0 0 0 0 0 0 0 0 0 0 0 0 0 0 0 0 0 0 0 0 0 0 0 0 0 0 0 0 0 0 0 0 0 0 0 0 0 0 0 0 0 0 0 0 0 0 0 0 0 0 0 0 0 0 0 0 0 0 0 0 0 0 0 0 0 0 0 0 0 0 0 0 0 0 0 0 0 0 0 0 0 0 0 0 0 0 0 0 0 0 0 0 0 0 0 0 0 0 0 0 0 0 0 0 0 0 0 0 0 0 0 0 0 0 0 0 0 0 0 0 0 0 0 0 0 0 0 0 0 0 0 0 0 0 0 0 0 0 0 0 0 0 0 0 0 0 0 0 0 0 0 0 0 0 0 0 0 0 0 0 0 0 0 0 0 0 0 0 0 0 0 0 0 0 0 0 0 0 0 0 0 0 0 0 0 0 0 0 0 0 0 0 0 0 0 0 0 0 0 0 0 0 0 0 0 0 0 0 0 0 0 0 0 0 0 0 0 0 0 0 0 0 0 0 0 0 0 0 0 0 0 0 0 0 0 0 0 0 0 0 0 0 0 0 0 0 0 0 0 0 0 0 0 0 0 0 0 0 0 0 0 0 0 0 0 0 0 0 0 0 0 0 0 0 0 0 0 0 0 0 0 0 0 0 0 0 0 0 0 0 0 0 0 0 0 0 0 0 0 0 0 0 0 0 0 0 0 0 0 0 0 0 0 0 0 0 0 0 0 0 0 0 0 0 0 0 0 0 0 0 0 0 0 0 0 0 0 0 0 0 0 0 0 0 0 0 0 0 0 0 0 0 0 0 0 0 0 0 0 0 0 0 0 0 0 0 0 0 0 0 0 0 0 0 0 0 0 0 0 0 0 0 0 0 0 0 0 0 0 0 0 0 0 0 0 0 0 0 0 0 0 0 0 0 0 0 0 0 0 0 0 0 0 0 0 0 0 0 0 0 0 0 0 0 0 0 0 0 0 0 0 0 0 0 0 0 0 0 0 0 0 0 0 0 0 0 0 0 0 0 0 0 0 0 0 0 0 0 0 0 0 0 0 0 0 0 0 0 0 0 0 0 0 0 0 0 0 0 0 0 0 0 0 0 0 0 0 0 0 0 0 0 0 0 0 0 0 0 0 0 0 0 0 0 0 0 0 0 0 0 0 0 0 0 0 0 0 0 0 0 0 0 0 0 0 0 0 0 0 0 0 0 0 0 0 0 0 0 0 0 0 0 0 0 0 0 0 0 0 0 0 0 0 0 0 0 0 0 0 0 0 0 0 0 0 0 0 0 0 0 0 0 0 0 0 0 0 0 0 0 0 0 0 0 0 0 0 0 0 0 0 0 0 0 0 0 0 0 0 0 0 0 0 0 0 0 0 0 0 0 0 0 0 0 0 0 0 0 0 0 0 0 0 0 0 0 0 0 0 0 0 0 0 0 0 0 0 0 0 0 0 0 0 0 0 0 0 0 0 0 0 0 0 0 0 0 0 0 0 0 0 0 0 0 0 0 0 0 0 0 0 0 0 0 0 0 0 0 0 0 0 0 0 0 0 0 0 0 0 0 0 0 0 0 0 0 0 0 0 0 0 0 0 0 0 0 0 0 0 0 0 0 0 0 0 0 0 0 0 0 0 0 0 0 0 0 0 0 0 0 0 0 0 0 0 0 0 0 0 0 0 0 0 0 0 0 0 0 0 0 0 0 0 0 0 0 0 0 0 0 0 0 0 0 0 0 0 0 0 0 0 0 0 0 0 0 0 0 0 0 0 0 0 0 0 0 0 0 0 0 0 0 0 0 0 0 0 0 0 0 0 0 0 0 0 0 0 0 0 0 0 0 0 0 0 0 0 0 0 0 0 0 0 0 0 0 0 0 0 0 0 0 0 0 0 0 0 0 0 0 0 0 0 0 0 0 0 0 0 0 0 0 0 0 0 0 0 0 0 0 0 0 0 0 0 0 0 0 0 0 0 0 0 0 0 0 0 0 0 0 0 0 0 0 0 0 0 0 0 0 0 0 0 0 0 0 0 0 0 0 0 0 0 0 0 0 0 0 0 0 0 0 0 0 0 0 0 0 0 0 0 0 0 0 0 0 0 0 0 0 0 0 0 0 0 0 0 0 0 0 0 0 0 0 0 0 0 0 0 0 0 0 0 0 0 0 0 0 0 0 0 0 0 0 0 0 0 0 0 0 0 0 0 0 0 0 0 0 0 0 0 0 0 0 0 0 0 0 0 0 0 0 0 0 0 0 0 0 0 0 0 0 0 0 0 0 0 0 0 0 0 0 0 0 0 0 0 0 0 0 0 0 0 0 0 0 0 0 0 0 0 0 0 0 0 0 0 0 0 0 0 0 0 0 0 0 0 0 0 0 0 0 0 0 0 0 0 0 0 0 0 0 0 0 0 0 0 0 0 0 0 0 0 0 0 0 0 0 0 0 0 0 0 0 0 0 0 0 0 0 0 0 0 0 0 0 0 0 0 0 0 0 0 0 0 0 0 0 0 0 0 0 0 0 0 0 0 0 0 0 0 0 0 0 0 0 0 0 0 0 0 0 0 0 0 0 0 0 0 0 0 0 0 0 0 0 0 0 0 0 0 0 0 0 0 0 0 0 0 0 0 0 0 0 0 0 0 0 0 0 0 0 0 0 0 0 0 0 0 0 0 0 0 0 0 0 0 0 0 0 0 0 0 0 0 0 0 0 0 0 0 0 0 0 0 0 0 0 0 0 0 0 0 0 0 0 0 0 0 0 0 0 0 0 0 0 0 0 0 0 0 0 0 0 0 0 0 0 0 0 0 0 0 0 0 0 0 0 0 0 0 0 0 0 0 0 0 0 0 0 0 0 0 0 0 0 0 0 0 0 0 0 0 0 0 0 0 0 0 0 0 0 0 0 0 0 0 0 0 0 0 0 0 0 0 0 0 0 0 0 0 0 0 0 0 0 0 0 0 0 0 0 0 0 0 0 0 0 0 0 0 0 0 0 0 0 0 0 0 0 0 0 0 0 0 0 0 0 0 0 0 0 0 0 0 0 0 0 0 0 0 0 0 0 0 0 0 0 0 0 0 0 0 0 0 0 0 0 0 0 0 0 0 0 0 0 0 0 0 0 0 0 0 0 0 0 0 0 0 0 0 0 0 0 0 0 0 0 0 0 0 0 0 0 0 0 0 0 0 0 0 0 0 0 0 0 0 0 0 0 0 0 0 0 0 0 0 0 0 0 0 0 0 0 0 0 0 0 0 0 0 0 0 0 0 0 0 0 0 0 0 0 0 0 0 0 0 0 0 0 0 0 0 0 0 0 0 0 0 0 0 0 0 0 0 0 0 0 0 0 0 0 0 0 0 0 0 0 0 0 0 0 0 0 0 0 0 0 0 0 0 0 0 0 0 0 0 0 0 0 0 0 0 0 0 0 0 0 0 0 0 0 0 0 0 0 0 0 0 0 0 0 0 0 0 0 0 0 0 0 0 0 0 0 0 0 0 0 0 0 0 0 0 0 0 0 0 0 0 0 0 0 0 0 0 0 0 0 0 0 0 0 0 0 0 0 0 0 0 0 0 0 0 0 0 0 0 0 0 0 0 0 0 0 0 0 0 0 0 0 0 0 0 0 0 0 0 0 0 0 0 0 0 0 0 0 0 0 0 0 0 0 0 0 0 0 0 0 0 0 0 0 0 0 0 0 0 0 0 0 0 0 0 0 0 0 0 0 0 0 0 0 0 0 0 0 0 0 0 0 0 0 0 0 0 0 0 0 0 0 0 0 0 0 0 0 0 0 0 0 0 0 0 0 0 0 0 0 0 0 0 0 0 0 0 0 0 0 0 0 0 0 0 0 0 0 0 0 0 0 0 0 0 0 0 0 0 0 0 0 0 0 0 0 0 0 0 0 0 0 0 0 0 0 0 0 0 0 0 0 0 0 0 0 0 0 0 0 0 0 0 0 0 0 0 0 0 0 0 0 0 0 0 0 0 0 0 0 0 0 0 0 0 0 0 0 0 0 0 0 0 0 0 0 0 0 0 0 0 0 0 0 0 0 0 0 0 0 0 0 0 0 0 0 0 0 0 0 0 0 0 0 0 0 0 0 0 0 0 0 0 0 0 0 0 0 0 0 0 0 0 0 0 0 0 0 0 0 0 0 0 0 0 0 0 0 0 0 0 0 0 0 0 0 0 0 0 0 0 0 0 0 0 0 0 0 0 0 0 0 0 0 0 0 0 0 0 0 0 0 0 0 0 0 0 0 0 0 0 0 0 0 0 0 0 0 0 0 0 0 0 0 0 0 0 0 0 0 0 0 0 0 0 0 0 0 0 0 0 0 0 0 0 0 0 0 0 0 0 0 0 0 0 0 0 0 0 0 0 0 0 0 0 0 0 0 0 0 0 0 0 0 0 0 0 0 0 0 0 0 0 0 0 0 0 0 0 0 0 0 0 0 0 0 0 0 0 0 0 0 0 0 0 0 0 0 0 0 0 0 0 0 0 0 0 0 0 0 0 0 0 0 0 0 0 0 0 0 0 0 0 0 0 0 0 0 0 0 0 0 0 0 0 0 0 0 0 0 0 0 0 0 0 0 0 0 0 0 0 0 0 0 0 0 0 0 0 0 0 0 0 0 0 0 0 0 0 0 0 0 0 0 0 0 0 0 0 0 0 0 0 0 0 0 0 0 0 0 0 0 0 0 0 0 0 0 0 0 0 0 0 0 0 0 0 0 0 0 0 0 0 0 0 0 0 0 0 0 0 0 0 0 0 0 0 0 0 0 0 0 0 0 0 0 0 0 0 0 0 0 0 0 0 0 0 0 0 0 0 0 0 0 0 0 0 0 0 0 0 0 0 0 0 0 0 0 0 0 0 0 0 0 0 0 0 0 0 0 0 0 0 0 0 0 0 0 0 0 0 0 0 0 0 0 0 0 0 0 0 0 0 0 0 0 0 0 0 0 0 0 0 0 0 0 0 0 0 0 0 0 0 0 0 0 0 0 0 0 0 0 0 0 0 0 0 0 0 0 0 0 0 0 0 0 0 0 0 0 0 0 0 0 0 0 0 0 0 0 0 0 0 0 0 0 0 0 0 0 0 0 0 0 0 0 0 0 0 0 0 0 0 0 0 0 0 0 0 0 0 0 0 0 0 0 0 0 0 0 0 0 0 0 0 0 0 0 0 0 0 0 0 0 0 0 0 0 0 0 0 0 0 0 0 0 0 0 0 0 0 0 0 0 0 0 0 0 0 0 0 0 0 0 0 0 0 0 0 0 0 0 0 0 0 0 0 0 0 0 0 0 0 0 0 0 0 0 0 0 0 0 0 0 0 0 0 0 0 0 0 0 0 0 0 0 0 0 0 0 0 0 0 0 0 0 0 0 0 0 0 0 0 0 0 0 0 0 0 0 0 0 0 0 0 0 0 0 0 0 0 0 0 0 0 0 0 0 0 0 0 0 0 0 0 0 0 0 0 0 0 0 0 0 0 0 0 0 0 0 0 0 0 0 0 0 0 0 0 0 0 0 0 0 0 0 0 0 0 0 0 0 0 0 0 0 0 0 0 0 0 0 0 0 0 0 0 0 0 0 0 0 0 0 0 0 0 0 0 0 0 0 0 0 0 0 0 0 0 0 0 0 0 0 0 0 0 0 0 0 0 0 0 0 0 0 0 0 0 0 0 0 0 0 0 0 0 0 0 0 0 0 0 0 0 0 0 0 0 0 0 0 0 0 0 0 0 0 0 0 0 0 0 0 0 0 0 0 0 0 0 0 0 0 0 0 0 0 0 0 0 0 0 0 0 0 0 0 0 0 0 0 0 0 0 0 0 0 0 0 0 0 0 0 0 0 0 0 0 0 0 0 0 0 0 0 0 0 0 0 0 0 0 0 0 0 0 0 0 0 0 0 0 0 0 0 0 0 0 0 0 0 0 0 0 0 0 0 0 0 0 0 0 0 0 0 0 0 0 0 0 0 0 0 0 0 0 0 0 0 0 0 0 0 0 0 0 0 0 0 0 0 0 0 0 0 0 0 0 0 0 0 0 0 0 0 0 0 0 0 0 0 0 0 0 0 0 0 0 0 0 0 0 0 0 0 0 0 0 0 0 0 0 0 0 0 0 0 0 0 0 0 0 0 0 0 0 0 0 0 0 0 0 0 0 0 0 0 0 0 0 0 0 0 0 0 0 0 0 0 0 0 0 0 0 0 0 0 0 0 0 0 0 0 0 0 0 0 0 0 0 0 0 0 0 0 0 0 0 0 0 0 0 0 0 0 0 0 0 0 0 0 0 0 0 0 0 0 0 0 0 0 0 0 0 0 0 0 0 0 0 0 0 0 0 0 0 0 0 0 0 0 0 0 0 0 0 0 0 0 0 0 0 0 0 0 0 0 0 0 0 0 0 0 0 0 0 0 0 0 0 0 0 0 0 0 0 0 0 0 0 0 0 0 0 0 0 0 0 0 0 0 0 0 0 0 0 0 0 0 0 0 0 0 0 0 0 0 0 0 0 0 0 0 0 0 0 0 0 0 0 0 0 0 0 0 0 0 0 0 0 0 0 0 0 0 0 0 0 0 0 0 0 0 0 0 0 0 0 0 0 0 0 0 0 0 0 0 0 0 0 0 0 0 0 0 0 0 0 0 0 0 0 0 0 0 0 0 0 0 0 0 0 0 0 0 0 0 0 0 0 0 0 0 0 0 0 0 0 0 0 0 0 0 0 0 0 0 0 0 0 0 0 0 0 0 0 0 0 0 0 0 0 0 0 0 0 0 0 0 0 0 0 0 0 0 0 0 0 0 0 0 0 0 0 0 0 0 0 0 0 0 0 0 0 0 0 0 0 0 0 0 0 0 0 0 0 0 0 0 0 0 0 0 0 0 0 0 0 0 0 0 0 0 0 0 0 0 0 0 0 0 0 0 0 0 0 0 0 0 0 0 0 0 0 0 0 0 0 0 0 0 0 0 0 0 0 0 0 0 0 0 0 0 0 0 0 0 0 0 0 0 0 0 0 0 0 0 0 0 0 0 0 0 0 0 0 0 0 0 0 0 0 0 0 0 0 0 0 0 0 0 0 0 0 0 0 0 0 0 0 0 0 0 0 0 0 0 0 0 0 0 0 0 0 0 0 0 0 0 0 0 0 0 0 0 0 0 0 0 0 0 0 0 0 0 0 0 0 0 0 0 0 0 0 0 0 0 0 0 0 0 0 0 0 0 0 0 0 0 0 0 0 0 0 0 0 0 0 0 0 0 0 0 0 0 0 0 0 0 0 0 0 0 0 0 0 0 0 0 0 0 0 0 0 0 0 0 0 0 0 0 0 0 0 0 0 0 0 0 0 0 0 0 0 0 0 0 0 0 0 0 0 0 0 0 0 0 0 0 0 0 0 0 0 0 0 0 0 0 0 0 0 0 0 0 0 0 0 0 0 0 0 0 0 0 0 0 0 0 0 0 0 0 0 0 0 0 0 0 0 0 0 0 0 0 0 0 0 0 0 0 0 0 0 0 0 0 0 0 0 0 0 0 0 0 0 0 0 0 0 0 0 0 0 0 0 0 0 0 0 0 0 0 0 0 0 0 0 0 0 0 0 0 0 0 0 0 0 0 0 0 0 0 0 0 0 0 0 0 0 0 0 0 0 0 0 0 0 0 0 0 0 0 0 0 0 0 0 0 0 0 0 0 0 0 0 0 0 0 0 0 0 0 0 0 0 0 0 0 0 0 0 0 0 0 0 0 0 0 0 0 0 0 0 0 0 0 0 0 0 0 0 0 0 0 0 0 0 0 0 0 0 0 0 0 0 0 0 0 0 0 0 0 0 0 0 0 0 0 0 0 0 0 0 0 0 0 0 0 0 0 0 0 0 0 0 0 0 0 0 0 0 0 0 0 0 0 0 0 0 0 0 0 0 0 0 0 0 0 0 0 0 0 0 0 0 0 0 0 0 0 0 0 0 0 0 0 0 0 0 0 0 0 0 0 0 0 0 0 0 0 0 0 0 0 0 0 0 0 0 0 0 0 0 0 0 0 0 0 0 0 0 0 0 0 0 0 0 0 0 0 0 0 0 0 0 0 0 0 0 0 0 0 0 0 0 0 0 0 0 0 0 0 0 0 0 0 0 0 0 0 0 0 0 0 0 0 0 0 0 0 0 0 0 0 0 0 0 0 0 0 0 0 0 0 0 0 0 0 0 0 0 0 0 0 0 0 0 0 0 0 0 0 0 0 0 0 0 0 0 0 0 0 0 0 0 0 0 0 0 0 0 0 0 0 0 0 0 0 0 0 0 0 0 0 0 0 0 0 0 0 0 0 0 0 0 0 0 0 0 0 0 0 0 0 0 0 0 0 0 0 0 0 0 0 0 0 0 0 0 0 0 0 0 0 0 0 0 0 0 0 0 0 0 0 0 0 0 0 0 0 0 0 0 0 0 0 0 0 0 0 0 0 0 0 0 0 0 0 0 0 0 0 0 0 0 0 0 0 0 0 0 0 0 0 0 0 0 0 0 0 0 0 0 0 0 0 0 0 0 0 0 0 0 0 0 0 0 0 0 0 0 0 0 0 0 0 0 0 0 0 0 0 0 0 0 0 0 0 0 0 0 0 0 0 0 0 0 0 0 0 0 0 0 0 0 0 0 0 0 0 0 0 0 0 0 0 0 0 0 0 0 0 0 0 0 0 0 0 0 0 0 0 0 0 0 0 0 0 0 0 0 0 0 0 0 0 0 0 0 0 0 0 0 0 0 0 0 0 0 0 0 0 0 0 0 0 0 0 0 0 0 0 0 0 0 0 0 0 0 0 0 0 0 0 0 0 0 0 0 0 0 0 0 0 0 0 0 0 0 0 0 0 0 0 0 0 0 0 0 0 0 0 0 0 0 0 0 0 0 0 0 0 0 0 0 0 0 0 0 0 0 0 0 0 0 0 0 0 0 0 0 0 0 0 0 0 0 0 0 0 0 0 0 0 0 0 0 0 0 0 0 0 0 0 0 0 0 0 0 0 0 0 0 0 0 0 0 0 0 0 0 0 0 0 0 0 0 0 0 0 0 0 0 0 0 0 0 0 0 0 0 0 0 0 0 0 0 0 0 0 0 0 0 0 0 0 0 0 0 0 0 0 0 0 0 0 0 0 0 0 0 0 0 0 0 0 0 0 0 0 0 0 0 0 0 0 0 0 0 0 0 0 0 0 0 0 0 0 0 0 0 0 0 0 0 0 0 0 0 0 0 0 0 0 0 0 0 0 0 0 0 0 0 0 0 0 0 0 0 0 0 0 0 0 0 0 0 0 0 0 0 0 0 0 0 0 0 0 0 0 0 0 0 0 0 0 0 0 0 0 0 0 0 0 0 0 0 0 0 0 0 0 0 0 0 0 0 0 0 0 0 0 0 0 0 0 0 0 0 0 0 0 0 0 0 0 0 0 0 0 0 0 0 0 0 0 0 0 0 0 0 0 0 0 0 0 0 0 0 0 0 0 0 0 0 0 0 0 0 0 0 0 0 0 0 0 0 0 0 0 0 0 0 0 0 0 0 0 0 0 0 0 0 0 0 0 0 0 0 0 0 0 0 0 0 0 0 0 0 0 0 0 0 0 0 0 0 0 0 0 0 0 0 0 0 0 0 0 0 0 0 0 0 0 0 0 0 0 0 0 0 0 0 0 0 0 0 0 0 0 0 0 0 0 0 0 0 0 0 0 0 0 0 0 0 0 0 0 0 0 0 0 0 0 0 0 0 0 0 0 0 0 0 0 0 0 0 0 0 0 0 0 0 0 0 0 0 0 0 0 0 0 0 0 0 0 0 0 0 0 0 0 0 0 0 0 0 0 0 0 0 0 0 0 0 0 0 0 0 0 0 0 0 0 0 0 0 0 0 0 0 0 0 0 0 0 0 0 0 0 0 0 0 0 0 0 0 0 0 0 0 0 0 0 0 0 0 0 0 0 0 0 0 0 0 0 0 0 0 0 0 0 0 0 0 0 0 0 0 0 0 0 0 0 0 0 0 0 0 0 0 0 0 0 0 0 0 0 0 0 0 0 0 0 0 0 0 0 0 0 0 0 0 0 0 0 0 0 0 0 0 0 0 0 0 0 0 0 0 0 0 0 0 0 0 0 0 0 0 0 0 0 0 0 0 0 0 0 0 0 0 0 0 0 0 0 0 0 0 0 0 0 0 0 0 0 0 0 0 0 0 0 0 0 0 0 0 0 0 0 0 0 0 0 0 0 0 0 0 0 0 0 0 0 0 0 0 0 0 0 0 0 0 0 0 0 0 0 0 0 0 0 0 0 0 0 0 0 0 0 0 0 0 0 0 0 0 0 0 0 0 0 0 0 0 0 0 0 0 0 0 0 0 0 0 0 0 0 0 0 0 0 0 0 0 0 0 0 0 0 0 0 0 0 0 0 0 0 0 0 0 0 0 0 0 0 0 0 0 0 0 0 0 0 0 0 0 0 0 0 0 0 0 0 0 0 0 0 0 0 0 0 0 0 0 0 0 0 0 0 0 0 0 0 0 0 0 0 0 0 0 0 0 0 0 0 0 0 0 0 0 0 0 0 0 0 0 0 0 0 0 0 0 0 0 0 0 0 0 0 0 0 0 0 0 0 0 0 0 0 0 0 0 0 0 0 0 0 0 0 0 0 0 0 0 0 0 0 0 0 0 0 0 0 0 0 0 0 0 0 0 0 0 0 0 0 0 0 0 0 0 0 0 0 0 0 0 0 0 0 0 0 0 0 0 0 0 0 0 0 0 0 0 0 0 0 0 0 0 0 0 0 0 0 0 0 0 0 0 0 0 0 0 0 0 0 0 0 0 0 0 0 0 0 0 0 0 0 0 0 0 0 0 0 0 0 0 0 0 0 0 0 0 0 0 0 0 0 0 0 0 0 0 0 0 0 0 0 0 0 0 0 0 0 0 0 0 0 0 0 0 0 0 0 0 0 0 0 0 0 0 0 0 0 0 0 0 0 0 0 0 0 0 0 0 0 0 0 0 0 0 0 0 0 0 0 0 0 0 0 0 0 0 0 0 0 0 0 0 0 0 0 0 0 0 0 0 0 0 0 0 0 0 0 0 0 0 0 0 0 0 0 0 0 0 0 0 0 0 0 0 0 0 0 0 0 0 0 0 0 0 0 0 0 0 0 0 0 0 0 0 0 0 0 0 0 0 0 0 0 0 0 0 0 0 0 0 0 0 0 0 0 0 0 0 0 0 0 0 0 0 0 0 0 0 0 0 0 0 0 0 0 0 0 0 0 0 0 0 0 0 0 0 0 0 0 0 0 0 0 0 0 0 0 0 0 0 0 0 0 0 0 0 0 0 0 0 0 0 0 0 0 0 0 0 0 0 0 0 0 0 0 0 0 0 0 0 0 0 0 0 0 0 0 0 0 0 0 0 0 0 0 0 0 0 0 0 0 0 0 0 0 0 0 0 0 0 0 0 0 0 0 0 0 0 0 0 0 0 0 0 0 0 0 0 0 0 0 0 0 0 0 0 0 0 0 0 0 0 0 0 0 0 0 0 0 0 0 0 0 0 0 0 0 0 0 0 0 0 0 0 0 0 0 0 0 0 0 0 0 0 0 0 0 0 0 0 0 0 0 0 0 0 0 0 0 0 0 0 0 0 0 0 0 0 0 0 0 0 0 0 0 0 0 0 0 0 0 0 0 0 0 0 0 0 0 0 0 0 0 0 0 0 0 0 0 0 0 0 0 0 0 0 0 0 0 0 0 0 0 0 0 0 0 0 0 0 0 0 0 0 0 0 0 0 0 0 0 0 0 0 0 0 0 0 0 0 0 0 0 0 0 0 0 0 0 0 0 0 0 0 0 0 0 0 0 0 0 0 0 0 0 0 0 0 0 0 0 0 0 0 0 0 0 0 0 0 0 0 0 0 0 0 0 0 0 0 0 0 0 0 0 0 0 0 0 0 0 0 0 0 0 0 0 0 0 0 0 0 0 0 0 0 0 0 0 0 0 0 0 0 0 0 0 0 0 0 0 0 0 0 0 0 0 0 0 0 0 0 0 0 0 0 0 0 0 0 0 0 0 0 0 0 0 0 0 0 0 0 0 0 0 0 0 0 0 0 0 0 0 0 0 0 0 0 0 0 0 0 0 0 0 0 0 0 0 0 0 0 0 0 0 0 0 0 0 0 0 0 0 0 0 0 0 0 0 0 0 0 0 0 0 0 0 0 0 0 0 0 0 0 0 0 0 0 0 0 0 0 0 0 0 0 0 0 0 0 0 0 0 0 0 0 0 0 0 0 0 0 0 0 0 0 0 0 0 0 0 0 0 0 0 0 0 0 0 0 0 0 0 0 0 0 0 0 0 0 0 0 0 0 0 0 0 0 0 0 0 0 0 0 0 0 0 0 0 0 0 0 0 0 0 0 0 0 0 0 0 0 0 0 0 0 0 0 0 0 0 0 0 0 0 0 0 0 0 0 0 0 0 0 0 0 0 0 0 0 0 0 0 0 0 0 0 0 0 0 0 0 0 0 0 0 0 0 0 0 0 0 0 0 0 0 0 0 0 0 0 0 0 0 0 0 0 0 0 0 0 0 0 0 0 0 0 0 0 0 0 0 0 0 0 0 0 0 0 0 0 0 0 0 0 0 0 0 0 0 0 0 0 0 0 0 0 0 0 0 0 0 0 0 0 0 0 0 0 0 0 0 0 0 0 0 0 0 0 0 0 0 0 0 0 0 0 0 0 0 0 0 0 0 0 0 0 0 0 0 0 0 0 0 0 0 0 0 0 0 0 0 0 0 0 0 0 0 0 0 0 0 0 0 0 0 0 0 0 0 0 0 0 0 0 0 0 0 0 0 0 0 0 0 0 0 0 0 0 0 0 0 0 0 0 0 0 0 0 0 0 0 0 0 0 0 0 0 0 0 0 0 0 0 0 0 0 0 0 0 0 0 0 0 0 0 0 0 0 0 0 0 0 0 0 0 0 0 0 0 0 0 0 0 0 0 0 0 0 0 0 0 0 0 0 0 0 0 0 0 0 0 0 0 0 0 0 0 0 0 0 0 0 0 0 0 0 0 0 0 0 0 0 0 0 0 0 0 0 0 0 0 0 0 0 0 0 0 0 0 0 0 0 0 0 0 0 0 0 0 0 0 0 0 0 0 0 0 0 0 0 0 0 0 0 0 0 0 0 0 0 0 0 0 0 0 0 0 0 0 0 0 0 0 0 0 0 0 0 0 0 0 0 0 0 0 0 0 0 0 0 0 0 0 0 0 0 0 0 0 0 0 0 0 0 0 0 0 0 0 0 0 0 0 0 0 0 0 0 0 0 0 0 0 0 0 0 0 0 0 0 0 0 0 0 0 0 0 0 0 0 0 0 0 0 0 0 0 0 0 0 0 0 0 0 0 0 0 0 0 0 0 0 0 0 0 0 0 0 0 0 0 0 0 0 0 0 0 0 0 0 0 0 0 0 0 0 0 0 0 0 0 0 0 0 0 0 0 0 0 0 0 0 0 0 0 0 0 0 0 0 0 0 0 0 0 0 0 0 0 0 0 0 0 0 0 0 0 0 0 0 0 0 0 0 0 0 0 0 0 0 0 0 0 0 0 0 0 0 0 0 0 0 0 0 0 0 0 0 0 0 0 0 0 0 0 0 0 0 0 0 0 0 0 0 0 0 0 0 0 0 0 0 0 0 0 0 0 0 0 0 0 0 0 0 0 0 0 0 0 0 0 0 0 0 0 0 0 0 0 0 0 0 0 0 0 0 0 0 0 0 0 0 0 0 0 0 0 0 0 0 0 0 0 0 0 0 0 0 0 0 0 0 0 0 0 0 0 0 0 0 0 0 0 0 0 0 0 0 0 0 0 0 0 0 0 0 0 0 0 0 0 0 0 0 0 0 0 0 0 0 0 0 0 0 0 0 0 0 0 0 0 0 0 0 0 0 0 0 0 0 0 0 0 0 0 0 0 0 0 0 0 0 0 0 0 0 0 0 0 0 0 0 0 0 0 0 0 0 0 0 0 0 0 0 0 0 0 0 0 0 0 0 0 0 0 0 0 0 0 0 0 0 0 0 0 0 0 0 0 0 0 0 0 0 0 0 0 0 0 0 0 0 0 0 0 0 0 0 0 0 0 0 0 0 0 0 0 0 0 0 0 0 0 0 0 0 0 0 0 0 0 0 0 0 0 0 0 0 0 0 0 0 0 0 0 0 0 0 0 0 0 0 0 0 0 0 0 0 0 0 0 0 0 0 0 0 0 0 0 0 0 0 0 0 0 0 0 0 0 0 0 0 0 0 0 0 0 0 0 0 0 0 0 0 0 0 0 0 0 0 0 0 0 0 0 0 0 0 0 0 0 0 0 0 0 0 0 0 0 0 0 0 0 0 0 0 0 0 0 0 0 0 0 0 0 0 0 0 0 0 0 0 0 0 0 0 0 0 0 0 0 0 0 0 0 0 0 0 0 0 0 0 0 0 0 0 0 0 0 0 0 0 0 0 0 0 0 0 0 0 0 0 0 0 0 0 0 0 0 0 0 0 0 0 0 0 0 0 0 0 0 0 0 0 0 0 0 0 0 0 0 0 0 0 0 0 0 0 0 0 0 0 0 0 0 0 0 0 0 0 0 0 0 0 0 0 0 0 0 0 0 0 0 0 0 0 0 0 0 0 0 0 0 0 0 0 0 0 0 0 0 0 0 0 0 0 0 0 0 0 0 0 0 0 0 0 0 0 0 0 0 0 0 0 0 0 0 0 0 0 0 0 0 0 0 0 0 0 0 0 0 0 0 0 0 0 0 0 0 0 0 0 0 0 0 0 0 0 0 0 0 0 0 0 0 0 0 0 0 0 0 0 0 0 0 0 0 0 0 0 0 0 0 0 0 0 0 0 0 0 0 0 0 0 0 0 0 0 0 0 0 0 0 0 0 0 0 0 0 0 0 0 0 0 0 0 0 0 0 0 0 0 0 0 0 0 0 0 0 0 0 0 0 0 0 0 0 0 0 0 0 0 0 0 0 0 0 0 0 0 0 0 0 0 0 0 0 0 0 0 0 0 0 0 0 0 0 0 0 0 0 0 0 0 0 0 0 0 0 0 0 0 0 0 0 0 0 0 0 0 0 0 0 0 0 0 0 0 0 0 0 0 0 0 0 0 0 0 0 0 0 0 0 0 0 0 0 0 0 0 0 0 0 0 0 0 0 0 0 0 0 0 0 0 0 0 0 0 0 0 0 0 0 0 0 0 0 0 0 0 0 0 0 0 0 0 0 0 0 0 0 0 0 0 0 0 0 0 0 0 0 0 0 0 0 0 0 0 0 0 0 0 0 0 0 0 0 0 0 0 0 0 0 0 0 0 0 0 0 0 0 0 0 0 0 0 0 0 0 0 0 0 0 0 0 0 0 0 0 0 0 0 0 0 0 0 0 0 0 0 0 0 0 0 0 0 0 0 0 0 0 0 0 0 0 0 0 0 0 0 0 0 0 0 0 0 0 0 0 0 0 0 0 0 0 0 0 0 0 0 0 0 0 0 0 0 0 0 0 0 0 0 0 0 0 0 0 0 0 0 0 0 0 0 0 0 0 0 0 0 0 0 0 0 0 0 0 0 0 0 0 0 0 0 0 0 0 0 0 0 0 0 0 0 0 0 0 0 0 0 0 0 0 0 0 0 0 0 0 0 0 0 0 0 0 0 0 0 0 0 0 0 0 0 0 0 0 0 0 0 0 0 0 0 0 0 0 0 0 0 0 0 0 0 0 0 0 0 0 0 0 0 0 0 0 0 0 0 0 0 0 0 0 0 0 0 0 0 0 0 0 0 0 0 0 0 0 0 0 0 0 0 0 0 0 0 0 0 0 0 0 0 0 0 0 0 0 0 0 0 0 0 0 0 0 0 0 0 0 0 0 0 0 0 0 0 0 0 0 0 0 0 0 0 0 0 0 0 0 0 0 0 0 0 0 0 0 0 0 0 0 0 0 0 0 0 0 0 0 0 0 0 0 0 0 0 0 0 0 0 0 0 0 0 0 0 0 0 0 0 0 0 0 0 0 0 0 0 0 0 0 0 0 0 0 0 0 0 0 0 0 0 0 0 0 0 0 0 0 0 0 0 0 0 0 0 0 0 0 0 0 0 0 0 0 0 0 0 0 0 0 0 0 0 0 0 0 0 0 0 0 0 0 0 0 0 0 0 0 0 0 0 0 0 0 0 0 0 0 0 0 0 0 0 0 0 0 0 0 0 0 0 0 0 0 0 0 0 0 0 0 0 0 0 0 0 0 0 0 0 0 0 0 0 0 0 0 0 0 0 0 0 0 0 0 0 0 0 0 0 0 0 0 0 0 0 0 0 0 0 0 0 0 0 0 0 0 0 0 0 0 0 0 0 0 0 0 0 0 0 0 0 0 0 0 0 0 0 0 0 0 0 0 0 0 0 0 0 0 0 0 0 0 0 0 0 0 0 0 0 0 0 0 0 0 0 0 0 0 0 0 0 0 0 0 0 0 0 0 0 0 0 0 0 0 0 0 0 0 0 0 0 0 0 0 0 0 0 0 0 0 0 0 0 0 0 0 0 0 0 0 0 0 0 0 0 0 0 0 0 0 0 0 0 0 0 0 0 0 0 0 0 0 0 0 0 0 0 0 0 0 0 0 0 0 0 0 0 0 0 0 0 0 0 0 0 0 0 0 0 0 0 0 0 0 0 0 0 0 0 0 0 0 0 0 0 0 0 0 0 0 0 0 0 0 0 0 0 0 0 0 0 0 0 0 0 0 0 0 0 0 0 0 0 0 0 0 0 0 0 0 0 0 0 0 0 0 0 0 0 0 0 0 0 0 0 0 0 0 0 0 0 0 0 0 0 0 0 0 0 0 0 0 0 0 0 0 0 0 0 0 0 0 0 0 0 0 0 0 0 0 0 0 0 0 0 0 0 0 0 0 0 0 0 0 0 0 0 0 0 0 0 0 0 0 0 0 0 0 0 0 0 0 0 0 0 0 0 0 0 0 0 0 0 0 0 0 0 0 0 0 0 0 0 0 0 0 0 0 0 0 0 0 0 0 0 0 0 0 0 0 0 0 0 0 0 0 0 0 0 0 0 0 0 0 0 0 0 0 0 0 0 0 0 0 0 0 0 0 0 0 0 0 0 0 0 0 0 0 0 0 0 0 0 0 0 0 0 0 0 0 0 0 0 0 0 0 0 0 0 0 0 0 0 0 0 0 0 0 0 0 0 0 0 0 0 0 0 0 0 0 0 0 0 0 0 0 0 0 0 0 0 0 0 0 0 0 0 0 0 0 0 0 0 0 0 0 0 0 0 0 0 0 0 0 0 0 0 0 0 0 0 0 0 0 0 0 0 0 0 0 0 0 0 0 0 0 0 0 0 0 0 0 0 0 0 0 0 0 0 0 0 0 0 0 0 0 0 0 0 0 0 0 0 0 0 0 0 0 0 0 0 0 0 0 0 0 0 0 0 0 0 0 0 0 0 0 0 0 0 0 0 0 0 0 0 0 0 0 0 0 0 0 0 0 0 0 0 0 0 0 0 0 0 0 0 0 0 0 0 0 0 0 0 0 0 0 0 0 0 0 0 0 0 0 0 0 0 0 0 0 0 0 0 0 0 0 0 0 0 0 0 0 0 0 0 0 0 0 0 0 0 0 0 0 0 0 0 0 0 0 0 0 0 0 0 0 0 0 0 0 0 0 0 0 0 0 0 0 0 0 0 0 0 0 0 0 0 0 0 0 0 0 0 0 0 0 0 0 0 0 0 0 0 0 0 0 0 0 0 0 0 0 0 0 0 0 0 0 0 0 0 0 0 0 0 0 0 0 0 0 0 0 0 0 0 0 0 0 0 0 0 0 0 0 0 0 0 0 0 0 0 0 0 0 0 0 0 0 0 0 0 0 0 0 0 0 0 0 0 0 0 0 0 0 0 0 0 0 0 0 0 0 0 0 0 0 0 0 0 0 0 0 0 0 0 0 0 0 0 0 0 0 0 0 0 0 0 0 0 0 0 0 0 0 0 0 0 0 0 0 0 0 0 0 0 0 0 0 0 0 0 0 0 0 0 0 0 0 0 0 0 0 0 0 0 0 0 0 0 0 0 0 0 0 0 0 0 0 0 0 0 0 0 0 0 0 0 0 0 0 0 0 0 0 0 0 0 0 0 0 0 0 0 0 0 0 0 0 0 0 0 0 0 0 0 0 0 0 0 0 0 0 0 0 0 0 0 0 0 0 0 0 0 0 0 0 0 0 0 0 0 0 0 0 0 0 0 0 0 0 0 0 0 0 0 0 0 0 0 0 0 0 0 0 0 0 0 0 0 0 0 0 0 0 0 0 0 0 0 0 0 0 0 0 0 0 0 0 0 0 0 0 0 0 0 0 0 0 0 0 0 0 0 0 0 0 0 0 0 0 0 0 0 0 0 0 0 0 0 0 0 0 0 0 0 0 0 0 0 0 0 0 0 0 0 0 0 0 0 0 0 0 0 0 0 0 0 0 0 0 0 0 0 0 0 0 0 0 0 0 0 0 0 0 0 0 0 0 0 0 0 0 0 0 0 0 0 0 0 0 0 0 0 0 0 0 0 0 0 0 0 0 0 0 0 0 0 0 0 0 0 0 0 0 0 0 0 0 0 0 0 0 0 0 0 0 0 0 0 0 0 0 0 0 0 0 0 0 0 0 0 0 0 0 0 0 0 0 0 0 0 0 0 0 0 0 0 0 0 0 0 0 0 0 0 0 0 0 0 0 0 0 0 0 0 0 0 0 0 0 0 0 0 0 0 0 0 0 0 0 0 0 0 0 0 0 0 0 0 0 0 0 0 0 0 0 0 0 0 0 0 0 0 0 0 0 0 0 0 0 0 0 0 0 0 0 0 0 0 0 0 0 0 0 0 0 0 0 0 0 0 0 0 0 0 0 0 0 0 0 0 0 0 0 0 0 0 0 0 0 0 0 0 0 0 0 0 0 0 0 0 0 0 0 0 0 0 0 0 0 0 0 0 0 0 0 0 0 0 0 0 0 0 0 0 0 0 0 0 0 0 0 0 0 0 0 0 0 0 0 0 0 0 0 0 0 0 0 0 0 0 0 0 0 0 0 0 0 0 0 0 0 0 0 0 0 0 0 0 0 0 0 0 0 0 0 0 0 0 0 0 0 0 0 0 0 0 0 0 0 0 0 0 0 0 0 0 0 0 0 0 0 0 0 0 0 0 0 0 0 0 0 0 0 0 0 0 0 0 0 0 0 0 0 0 0 0 0 0 0 0 0 0 0 0 0 0 0 0 0 0 0 0 0 0 0 0 0 0 0 0 0 0 0 0 0 0 0 0 0 0 0 0 0 0 0 0 0 0 0 0 0 0 0 0 0 0 0 0 0 0 0 0 0 0 0 0 0 0 0 0 0 0 0 0 0 0 0 0 0 0 0 0 0 0 0 0 0 0 0 0 0 0 0 0 0 0 0 0 0 0 0 0 0 0 0 0 0 0 0 0 0 0 0 0 0 0 0 0 0 0 0 0 0 0 0 0 0 0 0 0 0 0 0 0 0 0 0 0 0 0 0 0 0 0 0 0 0 0 0 0 0 0 0 0 0 0 0 0 0 0 0 0 0 0 0 0 0 0 0 0 0 0 0 0 0 0 0 0 0 0 0 0 0 0 0 0 0 0 0 0 0 0 0 0 0 0 0 0 0 0 0 0 0 0 0 0 0 0 0 0 0 0 0 0 0 0 0 0 0 0 0 0 0 0 0 0 0 0 0 0 0 0 0 0 0 0 0 0 0 0 0 0 0 0 0 0 0 0 0 0 0 0 0 0 0 0 0 0 0 0 0 0 0 0 0 0 0 0 0 0 0 0 0 0 0 0 0 0 0 0 0 0 0 0 0 0 0 0 0 0 0 0 0 0 0 0 0 0 0 0 0 0 0 0 0 0 0 0 0 0 0 0 0 0 0 0 0 0 0 0 0 0 0 0 0 0 0 0 0 0 0 0 0 0 0 0 0 0 0 0 0 0 0 0 0 0 0 0 0 0 0 0 0 0 0 0 0 0 0 0 0 0 0 0 0 0 0 0 0 0 0 0 0 0 0 0 0 0 0 0 0 0 0 0 0 0 0 0 0 0 0 0 0 0 0 0 0 0 0 0 0 0 0 0 0 0 0 0 0 0 0 0 0 0 0 0 0 0 0 0 0 0 0 0 0 0 0 0 0 0 0 0 0 0 0 0 0 0 0 0 0 0 0 0 0 0 0 0 0 0 0 0 0 0 0 0 0 0 0 0 0 0 0 0 0 0 0 0 0 0 0 0 0 0 0 0 0 0 0 0 0 0 0 0 0 0 0 0 0 0 0 0 0 0 0 0 0 0 0 0 0 0 0 0 0 0 0 0 0 0 0 0 0 0 0 0 0 0 0 0 0 0 0 0 0 0 0 0 0 0 0 0 0 0 0 0 0 0 0 0 0 0 0 0 0 0 0 0 0 0 0 0 0 0 0 0 0 0 0 0 0 0 0 0 0 0 0 0 0 0 0 0 0 0 0 0 0 0 0 0 0 0 0 0 0 0 0 0 0 0 0 0 0 0 0 0 0 0 0 0 0 0 0 0 0 0 0 0 0 0 0 0 0 0 0 0 0 0 0 0 0 0 0 0 0 0 0 0 0 0 0 0 0 0 0 0 0 0 0 0 0 0 0 0 0 0 0 0 0 0 0 0 0 0 0 0 0 0 0 0 0 0 0 0 0 0 0 0 0 0 0 0 0 0 0 0 0 0 0 0 0 0 0 0 0 0 0 0 0 0 0 0 0 0 0 0 0 0 0 0 0 0 0 0 0 0 0 0 0 0 0 0 0 0 0 0 0 0 0 0 0 0 0 0 0 0 0 0 0 0 0 0 0 0 0 0 0 0 0 0 0 0 0 0 0 0 0 0 0 0 0 0 0 0 0 0 0 0 0 0 0 0 0 0 0 0 0 0 0 0 0 0 0 0 0 0 0 0 0 0 0 0 0 0 0 0 0 0 0 0 0 0 0 0 0 0 0 0 0 0 0 0 0 0 0 0 0 0 0 0 0 0 0 0 0 0 0 0 0 0 0 0 0 0 0 0 0 0 0 0 0 0 0 0 0 0 0 0 0 0 0 0 0 0 0 0 0 0 0 0 0 0 0 0 0 0 0 0 0 0 0 0 0 0 0 0 0 0 0 0 0 0 0 0 0 0 0 0 0 0 0 0 0 0 0 0 0 0 0 0 0 0 0 0 0 0 0 0 0 0 0 0 0 0 0 0 0 0 0 0 0 0 0 0 0 0 0 0 0 0 0 0 0 0 0 0 0 0 0 0 0 0 0 0 0 0 0 0 0 0 0 0 0 0 0 0 0 0 0 0 0 0 0 0 0 0 0 0 0 0 0 0 0 0 0 0 0 0 0 0 0 0 0 0 0 0 0 0 0 0 0 0 0 0 0 0 0 0 0 0 0 0 0 0 0 0 0 0 0 0 0 0 0 0 0 0 0 0 0 0 0 0 0 0 0 0 0 0 0 0 0 0 0 0 0 0 0 0 0 0 0 0 0 0 0 0 0 0 0 0 0 0 0 0 0 0 0 0 0 0 0 0 0 0 0 0 0 0 0 0 0 0 0 0 0 0 0 0 0 0 0 0 0 0 0 0 0 0 0 0 0 0 0 0 0 0 0 0 0 0 0 0 0 0 0 0 0 0 0 0 0 0 0 0 0 0 0 0 0 0 0 0 0 0 0 0 0 0 0 0 0 0 0 0 0 0 0 0 0 0 0 0 0 0 0 0 0 0 0 0 0 0 0 0 0 0 0 0 0 0 0 0 0 0 0 0 0 0 0 0 0 0 0 0 0 0 0 0 0 0 0 0 0 0 0 0 0 0 0 0 0 0 0 0 0 0 0 0 0 0 0 0 0 0 0 0 0 0 0 0 0 0 0 0 0 0 0 0 0 0 0 0 0 0 0 0 0 0 0 0 0 0 0 0 0 0 0 0 0 0 0 0 0 0 0 0 0 0 0 0 0 0 0 0 0 0 0 0 0 0 0 0 0 0 0 0 0 0 0 0 0 0 0 0 0 0 0 0 0 0 0 0 0 0 0 0 0 0 0 0 0 0 0 0 0 0 0 0 0 0 0 0 0 0 0 0 0 0 0 0 0 0 0 0 0 0 0 0 0 0 0 0 0 0 0 0 0 0 0 0 0 0 0 0 0 0 0 0 0 0 0 0 0 0 0 0 0 0 0 0 0 0 0 0 0 0 0 0 0 0 0 0 0 0 0 0 0 0 0 0 0 0 0 0 0 0 0 0 0 0 0 0 0 0 0 0 0 0 0 0 0 0 0 0 0 0 0 0 0 0 0 0 0 0 0 0 0 0 0 0 0 0 0 0 0 0 0 0 0 0 0 0 0 0 0 0 0 0 0 0 0 0 0 0 0 0 0 0 0 0 0 0 0 0 0 0 0 0 0 0 0 0 0 0 0 0 0 0 0 0 0 0 0 0 0 0 0 0 0 0 0 0 0 0 0 0 0 0 0 0 0 0 0 0 0 0 0 0 0 0 0 0 0 0 0 0 0 0 0 0 0 0 0 0 0 0 0 0 0 0 0 0 0 0 0 0 0 0 0 0 0 0 0 0 0 0 0 0 0 0 0 0 0 0 0 0 0 0 0 0 0 0 0 0 0 0 0 0 0 0 0 0 0 0 0 0 0 0 0 0 0 0 0 0 0 0 0 0 0 0 0 0 0 0 0 0 0 0 0 0 0 0 0 0 0 0 0 0 0 0 0 0 0 0 0 0 0 0 0 0 0 0 0 0 0 0 0 0 0 0 0 0 0 0 0 0 0 0 0 0 0 0 0 0 0 0 0 0 0 0 0 0 0 0 0 0 0 0 0 0 0 0 0 0 0 0 0 0 0 0 0 0 0 0 0 0 0 0 0 0 0 0 0 0 0 0 0 0 0 0 0 0 0 0 0 0 0 0 0 0 0 0 0 0 0 0 0 0 0 0 0 0 0 0 0 0 0 0 0 0 0 0 0 0 0 0 0 0 0 0 0 0 0 0 0 0 0 0 0 0 0 0 0 0 0 0 0 0 0 0 0 0 0 0 0 0 0 0 0 0 0 0 0 0 0 0 0 0 0 0 0 0 0 0 0 0 0 0 0 0 0 0 0 0 0 0 0 0 0 0 0 0 0 0 0 0 0 0 0 0 0 0 0 0 0 0 0 0 0 0 0 0 0 0 0 0 0 0 0 0 0 0 0 0 0 0 0 0 0 0 0 0 0 0 0 0 0 0 0 0 0 0 0 0 0 0 0 0 0 0 0 0 0 0 0 0 0 0 0 0 0 0 0 0 0 0 0 0 0 0 0 0 0 0 0 0 0 0 0 0 0 0 0 0 0 0 0 0 0 0 0 0 0 0 0 0 0 0 0 0 0 0 0 0 0 0 0 0 0 0 0 0 0 0 0 0 0 0 0 0 0 0 0 0 0 0 0 0 0 0 0 0 0 0 0 0 0 0 0 0 0 0 0 0 0 0 0 0 0 0 0 0 0 0 0 0 0 0 0 0 0 0 0 0 0 0 0 0 0 0 0 0 0 0 0 0 0 0 0 0 0 0 0 0 0 0 0 0 0 0 0 0 0 0 0 0 0 0 0 0 0 0 0 0 0 0 0 0 0 0 0 0 0 0 0 0 0 0 0 0 0 0 0 0 0 0 0 0 0 0 0 0 0 0 0 0 0 0 0 0 0 0 0 0 0 0 0 0 0 0 0 0 0 0 0 0 0 0 0 0 0 0 0 0 0 0 0 0 0 0 0 0 0 0 0 0 0 0 0 0 0 0 0 0 0 0 0 0 0 0 0 0 0 0 0 0 0 0 0 0 0 0 0 0 0 0 0 0 0 0 0 0 0 0 0 0 0 0 0 0 0 0 0 0 0 0 0 0 0 0 0 0 0 0 0 0 0 0 0 0 0 0 0 0 0 0 0 0 0 0 0 0 0 0 0 0 0 0 0 0 0 0 0 0 0 0 0 0 0 0 0 0 0 0 0 0 0 0 0 0 0 0 0 0 0 0 0 0 0 0 0 0 0 0 0 0 0 0 0 0 0 0 0 0 0 0 0 0 0 0 0 0 0 0 0 0 0 0 0 0 0 0 0 0 0 0 0 0 0 0 0 0 0 0 0 0 0 0 0 0 0 0 0 0 0 0 0 0 0 0 0 0 0 0 0 0 0 0 0 0 0 0 0 0 0 0 0 0 0 0 0 0 0 0 0 0 0 0 0 0 0 0 0 0 0 0 0 0 0 0 0 0 0 0 0 0 0 0 0 0 0 0 0 0 0 0 0 0 0 0 0 0 0 0 0 0 0 0 0 0 0 0 0 0 0 0 0 0 0 0 0 0 0 0 0 0 0 0 0 0 0 0 0 0 0 0 0 0 0 0 0 0 0 0 0 0 0 0 0 0 0 0 0 0 0 0 0 0 0 0 0 0 0 0 0 0 0 0 0 0 0 0 0 0 0 0 0 0 0 0 0 0 0 0 0 0 0 0 0 0 0 0 0 0 0 0 0 0 0 0 0 0 0 0 0 0 0 0 0 0 0 0 0 0 0 0 0 0 0 0 0 0 0 0 0 0 0 0 0 0 0 0 0 0 0 0 0 0 0 0 0 0 0 0 0 0 0 0 0 0 0 0 0 0 0 0 0 0 0 0 0 0 0 0 0 0 0 0 0 0 0 0 0 0 0 0 0 0 0 0 0 0 0 0 0 0 0 0 0 0 0 0 0 0 0 0 0 0 0 0 0 0 0 0 0 0 0 0 0 0 0 0 0 0 0 0 0 0 0 0 0 0 0 0 0 0 0 0 0 0 0 0 0 0 0 0 0 0 0 0 0 0 0 0 0 0 0 0 0 0 0 0 0 0 0 0 0 0 0 0 0 0 0 0 0 0 0 0 0 0 0 0 0 0 0 0 0 0 0 0 0 0 0 0 0 0 0 0 0 0 0 0 0 0 0 0 0 0 0 0 0 0 0 0 0 0 0 0 0 0 0 0 0 0 0 0 0 0 0 0 0 0 0 0 0 0 0 0 0 0 0 0 0 0 0 0 0 0 0 0 0 0 0 0 0 0 0 0 0 0 0 0 0 0 0 0 0 0 0 0 0 0 0 0 0 0 0 0 0 0 0 0 0 0 0 0 0 0 0 0 0 0 0 0 0 0 0 0 0 0 0 0 0 0 0 0 0 0 0 0 0 0 0 0 0 0 0 0 0 0 0 0 0 0 0 0 0 0 0 0 0 0 0 0 0 0 0 0 0 0 0 0 0 0 0 0 0 0 0 0 0 0 0 0 0 0 0 0 0 0 0 0 0 0 0 0 0 0 0 0 0 0 0 0 0 0 0 0 0 0 0 0 0 0 0 0 0 0 0 0 0 0 0 0 0 0 0 0 0 0 0 0 0 0 0 0 0 0 0 0 0 0 0 0 0 0 0 0 0 0 0 0 0 0 0 0 0 0 0 0 0 0 0 0 0 0 0 0 0 0 0 0 0 0 0 0 0 0 0 0 0 0 0 0 0 0 0 0 0 0 0 0 0 0 0 0 0 0 0 0 0 0 0 0 0 0 0 0 0 0 0 0 0 0 0 0 0 0 0 0 0 0 0 0 0 0 0 0 0 0 0 0 0 0 0 0 0 0 0 0 0 0 0 0 0 0 0 0 0 0 0 0 0 0 0 0 0 0 0 0 0 0 0 0 0 0 0 0 0 0 0 0 0 0 0 0 0 0 0 0 0 0 0 0 0 0 0 0 0 0 0 0 0 0 0 0 0 0 0 0 0 0 0 0 0 0 0 0 0 0 0 0 0 0 0 0 0 0 0 0 0 0 0 0 0 0 0 0 0 0 0 0 0 0 0 0 0 0 0 0 0 0 0 0 0 0 0 0 0 0 0 0 0 0 0 0 0 0 0 0 0 0 0 0 0 0 0 0 0 0 0 0 0 0 0 0 0 0 0 0 0 0 0 0 0 0 0 0 0 0 0 0 0 0 0 0 0 0 0 0 0 0 0 0 0 0 0 0 0 0 0 0 0 0 0 0 0 0 0 0 0 0 0 0 0 0 0 0 0 0 0 0 0 0 0 0 0 0 0 0 0 0 0 0 0 0 0 0 0 0 0 0 0 0 0 0 0 0 0 0 0 0 0 0 0 0 0 0 0 0 0 0 0 0 0 0 0 0 0 0 0 0 0 0 0 0 0 0 0 0 0 0 0 0 0 0 0 0 0 0 0 0 0 0 0 0 0 0 0 0 0 0 0 0 0 0 0 0 0 0 0 0 0 0 0 0 0 0 0 0 0 0 0 0 0 0 0 0 0 0 0 0 0 0 0 0 0 0 0 0 0 0 0 0 0 0 0 0 0 0 0 0 0 0 0 0 0 0 0 0 0 0 0 0 0 0 0 0 0 0 0 0 0 0 0 0 0 0 0 0 0 0 0 0 0 0 0 0 0 0 0 0 0 0 0 0 0 0 0 0 0 0 0 0 0 0 0 0 0 0 0 0 0 0 0 0 0 0 0 0 0 0 0 0 0 0 0 0 0 0 0 0 0 0 0 0 0 0 0 0 0 0 0 0 0 0 0 0 0 0 0 0 0 0 0 0 0 0 0 0 0 0 0 0 0 0 0 0 0 0 0 0 0 0 0 0 0 0 0 0 0 0 0 0 0 0 0 0 0 0 0 0 0 0 0 0 0 0 0 0 0 0 0 0 0 0 0 0 0 0 0 0 0 0 0 0 0 0 0 0 0 0 0 0 0 0 0 0 0 0 0 0 0 0 0 0 0 0 0 0 0 0 0 0 0 0 0 0 0 0 0 0 0 0 0 0 0 0 0 0 0 0 0 0 0 0 0 0 0 0 0 0 0 0 0 0 0 0 0 0 0 0 0 0 0 0 0 0 0 0 0 0 0 0 0 0 0 0 0 0 0 0 0 0 0 0 0 0 0 0 0 0 0 0 0 0 0 0 0 0 0 0 0 0 0 0 0 0 0 0 0 0 0 0 0 0 0 0 0 0 0 0 0 0 0 0 0 0 0 0 0 0 0 0 0 0 0 0 0 0 0 0 0 0 0 0 0 0 0 0 0 0 0 0 0 0 0 0 0 0 0 0 0 0 0 0 0 0 0 0 0 0 0 0 0 0 0 0 0 0 0 0 0 0 0 0 0 0 0 0 0 0 0 0 0 0 0 0 0 0 0 0 0 0 0 0 0 0 0 0 0 0 0 0 0 0 0 0 0 0 0 0 0 0 0 0 0 0 0 0 0 0 0 0 0 0 0 0 0 0 0 0 0 0 0 0 0 0 0 0 0 0 0 0 0 0 0 0 0 0 0 0 0 0 0 0 0 0 0 0 0 0 0 0 0 0 0 0 0 0 0 0 0 0 0 0 0 0 0 0 0 0 0 0 0 0 0 0 0 0 0 0 0 0 0 0 0 0 0 0 0 0 0 0 0 0 0 0 0 0 0 0 0 0 0 0 0 0 0 0 0 0 0 0 0 0 0 0 0 0 0 0 0 0 0 0 0 0 0 0 0 0 0 0 0 0 0 0 0 0 0 0 0 0 0 0 0 0 0 0 0 0 0 0 0 0 0 0 0 0 0 0 0 0 0 0 0 0 0 0 0 0 0 0 0 0 0 0 0 0 0 0 0 0 0 0 0 0 0 0 0 0 0 0 0 0 0 0 0 0 0 0 0 0 0 0 0 0 0 0 0 0 0 0 0 0 0 0 0 0 0 0 0 0 0 0 0 0 0 0 0 0 0 0 0 0 0 0 0 0 0 0 0 0 0 0 0 0 0 0 0 0 0 0 0 0 0 0 0 0 0 0 0 0 0 0 0 0 0 0 0 0 0 0 0 0 0 0 0 0 0 0 0 0 0 0 0 0 0 0 0 0 0 0 0 0 0 0 0 0 0 0 0 0 0 0 0 0 0 0 0 0 0 0 0 0 0 0 0 0 0 0 0 0 0 0 0 0 0 0 0 0 0 0 0 0 0 0 0 0 0 0 0 0  0'"
      ]
     },
     "execution_count": 30,
     "metadata": {},
     "output_type": "execute_result"
    }
   ],
   "source": [
    "# Example \n",
    "print(len(new_lines[0]))\n",
    "new_lines[0]"
   ]
  },
  {
   "cell_type": "code",
   "execution_count": 32,
   "metadata": {
    "ExecuteTime": {
     "end_time": "2018-10-27T00:42:50.340022Z",
     "start_time": "2018-10-27T00:42:48.716059Z"
    },
    "collapsed": false
   },
   "outputs": [
    {
     "name": "stdout",
     "output_type": "stream",
     "text": [
      "\n"
     ]
    }
   ],
   "source": [
    "# Write file\n",
    "\n",
    "with open('HSEcite_content.csv', 'w') as file:\n",
    "    for each in tqdm_notebook(range(len(new_lines))):\n",
    "        file.write(new_lines[each])\n",
    "        file.write('\\n')"
   ]
  },
  {
   "cell_type": "code",
   "execution_count": 35,
   "metadata": {
    "ExecuteTime": {
     "end_time": "2018-10-27T00:43:43.109778Z",
     "start_time": "2018-10-27T00:43:43.105299Z"
    },
    "collapsed": false
   },
   "outputs": [],
   "source": [
    "# Read file\n",
    "\n",
    "#with open('HSEcite_content.csv') as file:\n",
    "\n",
    "hse_content = new_lines\n",
    "\n",
    "#print(hse_content[0])"
   ]
  },
  {
   "cell_type": "markdown",
   "metadata": {},
   "source": [
    "Далее хотим получить второй файл:\n",
    "\n",
    "id\\_статьи +  id\\_цитирующей\\_статьи"
   ]
  },
  {
   "cell_type": "code",
   "execution_count": 36,
   "metadata": {
    "ExecuteTime": {
     "end_time": "2018-10-27T00:43:49.164731Z",
     "start_time": "2018-10-27T00:43:49.140353Z"
    },
    "collapsed": false
   },
   "outputs": [],
   "source": [
    "def parse_row_file2(row):\n",
    "    \n",
    "    authors = row.split(',\"\"')[0]\n",
    "    authors_id = row.split('\"\"')[1]\n",
    "    \n",
    "    # There are papers without list of reference\n",
    "    # We simply make empty lists for new variables\n",
    "    if len(row.split('\",')) < 3:\n",
    "        url = ' '\n",
    "        paper_id = ' '\n",
    "        cited_authors = []\n",
    "    else:\n",
    "        url = row.split('\",')[1][:-2]\n",
    "\n",
    "        # Get unique paper_id from its url\n",
    "        parse.urlsplit(url)\n",
    "        eid = dict(parse.parse_qsl(parse.urlsplit(url).query))\n",
    "        eid['eid'] = eid['eid'][7:]\n",
    "        paper_id = eid['eid']\n",
    "\n",
    "        #Get list of authors' names who were in reference list \n",
    "        cited_authors_line = row.split('\",\"')[1]\n",
    "        regex = re.compile(r'\\b([A-Z][a-z]+.(?:.[A-Z]\\.)(?:[A-Z]\\.)*)')\n",
    "        cited_authors = regex.findall(cited_authors_line)\n",
    "\n",
    "    return authors, authors_id, url, paper_id, cited_authors"
   ]
  },
  {
   "cell_type": "code",
   "execution_count": 377,
   "metadata": {
    "ExecuteTime": {
     "end_time": "2018-10-26T14:31:41.267060Z",
     "start_time": "2018-10-26T14:31:41.249128Z"
    },
    "collapsed": false,
    "scrolled": true
   },
   "outputs": [
    {
     "data": {
      "text/plain": [
       "('Kotliarov I.',\n",
       " ' 25626497500; ',\n",
       " ' https://www.scopus.com/inward/record.uri?eid=2-s2.0-84455192541&partnerID=40&md5=0cd17a4a48afa1d6ba88666f57a7c42f',\n",
       " '84455192541',\n",
       " ['Agrawal, D.',\n",
       "  'Lal, R.',\n",
       "  'Azgaldov, G.G.',\n",
       "  'Karpova, N.N.',\n",
       "  'Blair, R.D.',\n",
       "  'Francine, L.',\n",
       "  'Chaudey, M.',\n",
       "  'Fadairo, M.',\n",
       "  'Dnes, A.W.',\n",
       "  'Kabak, M.L.',\n",
       "  'Kaufmann, P.J.',\n",
       "  'Lafontaine, F.',\n",
       "  'Kotliarov, I.',\n",
       "  'Lafontaine, F.',\n",
       "  'Lafontaine, F.',\n",
       "  'Lafontaine, F.',\n",
       "  'Bhattacharyya, S.',\n",
       "  'Martin, R.E.',\n",
       "  'Mathewson, F.',\n",
       "  'Winter, R.',\n",
       "  'Michael, S.M.',\n",
       "  'Minkler, A.',\n",
       "  'Norton, S.',\n",
       "  'Raynaud, E.',\n",
       "  'Saussier, S.',\n",
       "  'Perrigot, R.',\n",
       "  'Rao, R.C.',\n",
       "  'Shubashri, S.',\n",
       "  'Rubin, P.',\n",
       "  'Sen, K.C.',\n",
       "  'Stazhkova, M.M.'])"
      ]
     },
     "execution_count": 377,
     "metadata": {},
     "output_type": "execute_result"
    }
   ],
   "source": [
    "#Example"
   ]
  },
  {
   "cell_type": "code",
   "execution_count": 37,
   "metadata": {
    "ExecuteTime": {
     "end_time": "2018-10-27T00:46:28.640655Z",
     "start_time": "2018-10-27T00:46:25.321920Z"
    },
    "collapsed": false
   },
   "outputs": [],
   "source": [
    "data2 = []\n",
    "with open('data/2017/authors_cites_2011_2017.csv', 'r') as file:\n",
    "    for index, row in enumerate(file):\n",
    "        if index ==0:\n",
    "            continue\n",
    "        authors, authors_id, url,  paper_id, cited_authors = parse_row_file2(row)\n",
    "        out = {\"authors\":authors,\n",
    "               \"authors_id\": authors_id,\n",
    "               \"url\": url,\n",
    "               \"paper_id\": paper_id,\n",
    "               \"cited_authors\": cited_authors}\n",
    "        data2.append(out)"
   ]
  },
  {
   "cell_type": "code",
   "execution_count": 39,
   "metadata": {
    "ExecuteTime": {
     "end_time": "2018-10-27T00:51:18.156685Z",
     "start_time": "2018-10-27T00:51:17.167528Z"
    },
    "collapsed": false
   },
   "outputs": [
    {
     "data": {
      "text/plain": [
       "{'authors': '\"Kotliarov I.',\n",
       " 'authors_id': '25626497500\";\",https://www.scopus.com/inward/record.uri?eid=2-s2.0-84455192541&partnerID=40&md5=0cd17a4a48afa1d6ba88666f57a7c42f',\n",
       " 'cited_authors': ['Agrawal, D.',\n",
       "  'Lal, R.',\n",
       "  'Azgaldov, G.G.',\n",
       "  'Karpova, N.N.',\n",
       "  'Blair, R.D.',\n",
       "  'Francine, L.',\n",
       "  'Chaudey, M.',\n",
       "  'Fadairo, M.',\n",
       "  'Dnes, A.W.',\n",
       "  'Kabak, M.L.',\n",
       "  'Kaufmann, P.J.',\n",
       "  'Lafontaine, F.',\n",
       "  'Kotliarov, I.',\n",
       "  'Lafontaine, F.',\n",
       "  'Lafontaine, F.',\n",
       "  'Lafontaine, F.',\n",
       "  'Bhattacharyya, S.',\n",
       "  'Martin, R.E.',\n",
       "  'Mathewson, F.',\n",
       "  'Winter, R.',\n",
       "  'Michael, S.M.',\n",
       "  'Minkler, A.',\n",
       "  'Norton, S.',\n",
       "  'Raynaud, E.',\n",
       "  'Saussier, S.',\n",
       "  'Perrigot, R.',\n",
       "  'Rao, R.C.',\n",
       "  'Shubashri, S.',\n",
       "  'Rubin, P.',\n",
       "  'Sen, K.C.',\n",
       "  'Stazhkova, M.M.'],\n",
       " 'paper_id': '84455192541',\n",
       " 'url': 'https://www.scopus.com/inward/record.uri?eid=2-s2.0-84455192541&partnerID=40&md5=0cd17a4a48afa1d6ba88666f57a7c42'}"
      ]
     },
     "execution_count": 39,
     "metadata": {},
     "output_type": "execute_result"
    }
   ],
   "source": [
    "# Write     \n",
    "with open('HSEcite_cites_prep.json', 'w') as outfile:\n",
    "    json.dump(data2, outfile)\n",
    "\n",
    "# Read json\n",
    "with open('HSEcite_cites_prep.json', 'r') as f:\n",
    "    hse_cites = json.load(f)\n",
    "    \n",
    "hse_cites[0]"
   ]
  },
  {
   "cell_type": "code",
   "execution_count": 40,
   "metadata": {
    "ExecuteTime": {
     "end_time": "2018-10-27T00:55:14.780109Z",
     "start_time": "2018-10-27T00:55:14.769828Z"
    },
    "collapsed": false
   },
   "outputs": [
    {
     "data": {
      "text/plain": [
       "{'authors': [{'author': 'Gromov E.', 'id': 56802827200},\n",
       "  {'author': 'Logvinova K.', 'id': 8284266700},\n",
       "  {'author': 'Morozov V.', 'id': 37079439900},\n",
       "  {'author': 'Tyutin V.', 'id': 6603597680}],\n",
       " 'category': 0,\n",
       " 'ids': '79961238208',\n",
       " 'keywords': 'Anomalous diffusion; Fractal operator; Random',\n",
       " 'keywords_vector': array([0, 0, 0, ..., 0, 0, 0]),\n",
       " 'url': 'https://www.scopus.com/inward/record.uri?eid=2-s2.0-79961238208&partnerID=40&md5=f70f5d965f80944d48a76f2d5327ab3d',\n",
       " 'year': '2011'}"
      ]
     },
     "execution_count": 40,
     "metadata": {},
     "output_type": "execute_result"
    }
   ],
   "source": [
    "# For better understanding of code below\n",
    "new_data[0]"
   ]
  },
  {
   "cell_type": "code",
   "execution_count": 41,
   "metadata": {
    "ExecuteTime": {
     "end_time": "2018-10-27T00:57:05.982385Z",
     "start_time": "2018-10-27T00:57:05.953821Z"
    },
    "collapsed": false
   },
   "outputs": [],
   "source": [
    "# Create dictionary of <'author_name' : paper_id >\n",
    "# (!) Author has the last paper's id if he wac a co-author in several of them\n",
    "\n",
    "authors_paper_id = {} #len 8370\n",
    "\n",
    "for line in range(len(new_data)):\n",
    "    for each in new_data[line]['authors']:\n",
    "        ids = new_data[line]['ids']\n",
    "        authors_paper_id[each['author']] = ids"
   ]
  },
  {
   "cell_type": "code",
   "execution_count": 43,
   "metadata": {
    "ExecuteTime": {
     "end_time": "2018-10-27T00:59:36.494921Z",
     "start_time": "2018-10-27T00:59:36.484771Z"
    },
    "collapsed": false
   },
   "outputs": [
    {
     "data": {
      "text/plain": [
       "('85034223654', '79961238208', '79961238208', '79961238208')"
      ]
     },
     "execution_count": 43,
     "metadata": {},
     "output_type": "execute_result"
    }
   ],
   "source": [
    "# Example \n",
    "\n",
    "authors_paper_id['Gromov E.'], authors_paper_id['Logvinova K.'], authors_paper_id['Morozov V.'], authors_paper_id['Tyutin V.'] "
   ]
  },
  {
   "cell_type": "code",
   "execution_count": 44,
   "metadata": {
    "ExecuteTime": {
     "end_time": "2018-10-27T01:08:48.289876Z",
     "start_time": "2018-10-27T01:08:24.386315Z"
    },
    "collapsed": true
   },
   "outputs": [],
   "source": [
    "# Create a list with <id_paper_cited + id_paper_citing>\n",
    "\n",
    "data_cites = []\n",
    "\n",
    "for line in range(len(hse_cites)):\n",
    "    if hse_cites[line]['cited_authors'] == []:\n",
    "        cited_paper = 0\n",
    "        # Do not record papers without references\n",
    "        #out = str(cited_paper) + ' ' + str(hse_cites[line]['paper_id'])\n",
    "        #data_cites.append(out)\n",
    "    else:\n",
    "        for each in hse_cites[line]['cited_authors']:\n",
    "            # In other dataset names written w/o comma, delete it to be able to compare all names\n",
    "            if ',' in each:\n",
    "                each_author = each.replace(',', '')\n",
    "            if each_author in authors_paper_id.keys(): #Check if author from references is in set of HSE 2011-2017\n",
    "                each_author_paper_id = authors_paper_id[each_author] # Assign cited paper_id\n",
    "                cited_paper = each_author_paper_id\n",
    "                out = str(cited_paper) + ' ' + str(hse_cites[line]['paper_id'])\n",
    "                if out not in data_cites and out.split(\" \")[0] != '0':\n",
    "                    data_cites.append(out)"
   ]
  },
  {
   "cell_type": "code",
   "execution_count": 46,
   "metadata": {
    "ExecuteTime": {
     "end_time": "2018-10-27T01:10:07.910853Z",
     "start_time": "2018-10-27T01:10:07.899763Z"
    },
    "collapsed": false,
    "scrolled": true
   },
   "outputs": [
    {
     "name": "stdout",
     "output_type": "stream",
     "text": [
      "[paper_id_cited + paper_id_citing]\n",
      "Number of edges:  21601\n"
     ]
    },
    {
     "data": {
      "text/plain": [
       "['84874778575 84455192541',\n",
       " '85027296323 84859080419',\n",
       " '84914156243 84859080419',\n",
       " '84957402806 82455246366',\n",
       " '84948614488 82455246366',\n",
       " '85035143983 82455246366',\n",
       " '85035220247 82455246366',\n",
       " '84955295991 82455246366',\n",
       " '85034583726 82455253324',\n",
       " '82455253324 82455253324']"
      ]
     },
     "execution_count": 46,
     "metadata": {},
     "output_type": "execute_result"
    }
   ],
   "source": [
    "# Example\n",
    "\n",
    "print('[paper_id_cited + paper_id_citing]')\n",
    "print('Number of edges: ', len(data_cites))\n",
    "data_cites[:10]"
   ]
  },
  {
   "cell_type": "code",
   "execution_count": 47,
   "metadata": {
    "ExecuteTime": {
     "end_time": "2018-10-27T01:12:30.398500Z",
     "start_time": "2018-10-27T01:12:30.273000Z"
    },
    "collapsed": false
   },
   "outputs": [
    {
     "name": "stdout",
     "output_type": "stream",
     "text": [
      "\n"
     ]
    }
   ],
   "source": [
    "with open('HSEcites.json', 'w') as file:\n",
    "    for each in tqdm_notebook(range(len(data_cites))):\n",
    "        file.write(data_cites[each])\n",
    "        file.write('\\n')"
   ]
  },
  {
   "cell_type": "code",
   "execution_count": 48,
   "metadata": {
    "ExecuteTime": {
     "end_time": "2018-10-27T01:12:51.000521Z",
     "start_time": "2018-10-27T01:12:50.239709Z"
    },
    "collapsed": false
   },
   "outputs": [
    {
     "name": "stdout",
     "output_type": "stream",
     "text": [
      "\n"
     ]
    }
   ],
   "source": [
    "with open('HSEcite_cites.csv', 'w') as file:\n",
    "    for each in tqdm_notebook(range(len(data_cites))):\n",
    "        file.write(data_cites[each])\n",
    "        file.write('\\n')"
   ]
  },
  {
   "cell_type": "markdown",
   "metadata": {},
   "source": [
    "**Версия 2**\n",
    "\n",
    "Строим id_автора + его keyword_vector + label_class.\n",
    "\n",
    "У авторов будет по несколько векторов, тогда поэлементно складываем их.\n",
    "Пример для какого-нибудь id:\n",
    "\n",
    "[1, 0, 0, 0, 1, 0, 0, ..., 0]\n",
    "\n",
    "+\n",
    "\n",
    "[0, 1, 0, 1, 0, 0, 0, ..., 1]\n",
    "\n",
    "=\n",
    "\n",
    "[1, 1, 0, 1, 1, 0, 0, ..., 1] -- итоговый вектор.\n"
   ]
  },
  {
   "cell_type": "code",
   "execution_count": null,
   "metadata": {
    "collapsed": true
   },
   "outputs": [],
   "source": []
  },
  {
   "cell_type": "code",
   "execution_count": null,
   "metadata": {
    "collapsed": true
   },
   "outputs": [],
   "source": []
  }
 ],
 "metadata": {
  "kernelspec": {
   "display_name": "Python 3",
   "language": "python",
   "name": "python3"
  },
  "language_info": {
   "codemirror_mode": {
    "name": "ipython",
    "version": 3
   },
   "file_extension": ".py",
   "mimetype": "text/x-python",
   "name": "python",
   "nbconvert_exporter": "python",
   "pygments_lexer": "ipython3",
   "version": "3.6.0"
  },
  "toc": {
   "base_numbering": 1,
   "nav_menu": {},
   "number_sections": true,
   "sideBar": true,
   "skip_h1_title": false,
   "title_cell": "Table of Contents",
   "title_sidebar": "Contents",
   "toc_cell": false,
   "toc_position": {},
   "toc_section_display": true,
   "toc_window_display": false
  },
  "varInspector": {
   "cols": {
    "lenName": 16,
    "lenType": 16,
    "lenVar": 40
   },
   "kernels_config": {
    "python": {
     "delete_cmd_postfix": "",
     "delete_cmd_prefix": "del ",
     "library": "var_list.py",
     "varRefreshCmd": "print(var_dic_list())"
    },
    "r": {
     "delete_cmd_postfix": ") ",
     "delete_cmd_prefix": "rm(",
     "library": "var_list.r",
     "varRefreshCmd": "cat(var_dic_list()) "
    }
   },
   "types_to_exclude": [
    "module",
    "function",
    "builtin_function_or_method",
    "instance",
    "_Feature"
   ],
   "window_display": false
  },
  "widgets": {
   "state": {
    "2b5cef99c04a4ca68814440efdf40cec": {
     "views": [
      {
       "cell_index": 32
      }
     ]
    },
    "a16895f18cf24236a8a0da7af9d36763": {
     "views": [
      {
       "cell_index": 18
      }
     ]
    },
    "a2dc593bd2c242b28dfb02a92e70d8a9": {
     "views": [
      {
       "cell_index": 20
      }
     ]
    },
    "e19b6963680d4c6a8653a1444f80662b": {
     "views": [
      {
       "cell_index": 33
      }
     ]
    }
   },
   "version": "1.2.0"
  }
 },
 "nbformat": 4,
 "nbformat_minor": 2
}
