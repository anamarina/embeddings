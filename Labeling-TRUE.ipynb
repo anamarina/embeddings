{
 "cells": [
  {
   "cell_type": "code",
   "execution_count": 76,
   "metadata": {
    "ExecuteTime": {
     "end_time": "2018-10-06T01:07:17.941153Z",
     "start_time": "2018-10-06T01:07:16.260871Z"
    }
   },
   "outputs": [],
   "source": [
    "import re\n",
    "def parse_row(row):\n",
    "    category = int(row.split(\";\")[0])\n",
    "    row = \";\".join(row.split(\";\")[1:])\n",
    "    authors_indexes = row.split(\"http\")[0][:-1]\n",
    "    authors = authors_indexes.split('\"\"')[0][1:].split(\".,\")\n",
    "    authors = [(author+\".\").strip() for author in authors if len(author)>0]\n",
    "    indexes = authors_indexes.split('\"\"')[1]\n",
    "    indexes = re.sub(r'[^\\w\\s]',' ',indexes).split()\n",
    "    indexes = list(map(int, indexes))\n",
    "    url = \"http\" + row.split(\"http\")[1].split('\"\"')[0] \n",
    "    keywords = '\"\"'.join(row.split(\"http\")[1].split('\"\"')[1:])[1:].split(\";\")\n",
    "    keywords = [re.sub(r'[^\\w\\s]',' ',keyword) for keyword in keywords]\n",
    "    keywords = [\" \".join(keyword.split()) for keyword in keywords]\n",
    "    keywords = [keyword for keyword in keywords if len(keyword)>0]\n",
    "    return [category, authors, indexes, url, keywords]"
   ]
  },
  {
   "cell_type": "code",
   "execution_count": 77,
   "metadata": {},
   "outputs": [],
   "source": [
    "data = []\n",
    "for year in [\"2011\"]:\n",
    "    with open('authors_keywords_{year}.csv'.format(year = year), 'r') as file:\n",
    "        for index, row in enumerate(file):\n",
    "            if index ==0:\n",
    "                continue\n",
    "            category, authors, indexes, url, keywords = parse_row(row)\n",
    "            assert(len(authors) == len(indexes))\n",
    "            out = {\"year\":year,\n",
    "                   \"category\": category,\n",
    "                   \"url\": url,\n",
    "                   \"keywords\": \"; \".join(keywords),\n",
    "                   \"authors\": [{\"id\": idd, \"author\": author} for idd, author in zip(indexes,authors)]}\n",
    "            data.append(out)"
   ]
  },
  {
   "cell_type": "code",
   "execution_count": 78,
   "metadata": {},
   "outputs": [
    {
     "data": {
      "text/plain": [
       "{'year': '2011',\n",
       " 'category': 0,\n",
       " 'url': 'https://www.scopus.com/inward/record.uri?eid=2-s2.0-79961238208&partnerID=40&md5=f70f5d965f80944d48a76f2d5327ab3d',\n",
       " 'keywords': 'Anomalous diffusion; Fractal operator; Random',\n",
       " 'authors': [{'id': 56802827200, 'author': 'Gromov E.'},\n",
       "  {'id': 8284266700, 'author': 'Logvinova K.'},\n",
       "  {'id': 37079439900, 'author': 'Morozov V.'},\n",
       "  {'id': 6603597680, 'author': 'Tyutin V.'}]}"
      ]
     },
     "execution_count": 78,
     "metadata": {},
     "output_type": "execute_result"
    }
   ],
   "source": [
    "import json\n",
    "\n",
    "## Write json\n",
    "with open('new_data.json', 'w') as outfile:\n",
    "    json.dump(data, outfile)\n",
    "\n",
    "## Read json\n",
    "with open('new_data.json') as f:\n",
    "    new_data = json.load(f)\n",
    "\n",
    "new_data[0]"
   ]
  },
  {
   "cell_type": "code",
   "execution_count": 79,
   "metadata": {
    "ExecuteTime": {
     "end_time": "2018-10-06T01:09:57.643300Z",
     "start_time": "2018-10-06T01:09:57.636210Z"
    }
   },
   "outputs": [],
   "source": [
    "##TEST\n",
    "for text_row, answer in [('0;\"Gromov E., Logvinova K., Morozov V., Tyutin V.,\"\"56802827200\";8284266700;37079439900;6603597680;\",https://www.scopus.com/inward/record.uri?eid=2-s2.0-79961238208&partnerID=40&md5=f70f5d965f80944d48a76f2d5327ab3d\"\",\"\"Anomalous diffusion\"; Fractal operator;\" Random\"\",\";;;;;;;;;;;;;;;;;;;;;;;;;;;;;',\n",
    "                        [0,\n",
    "                         [\"Gromov E.\", \"Logvinova K.\", \"Morozov V.\", \"Tyutin V.\"],\n",
    "                         [56802827200, 8284266700, 37079439900, 6603597680],\n",
    "                         \"https://www.scopus.com/inward/record.uri?eid=2-s2.0-79961238208&partnerID=40&md5=f70f5d965f80944d48a76f2d5327ab3d\",\n",
    "                         [\"Anomalous diffusion\", \"Fractal operator\", \"Random\"]])]:\n",
    "    assert(parse_row(text_row)==answer), text_row"
   ]
  },
  {
   "cell_type": "code",
   "execution_count": null,
   "metadata": {},
   "outputs": [],
   "source": []
  }
 ],
 "metadata": {
  "kernelspec": {
   "display_name": "Python 3",
   "language": "python",
   "name": "python3"
  },
  "language_info": {
   "codemirror_mode": {
    "name": "ipython",
    "version": 3
   },
   "file_extension": ".py",
   "mimetype": "text/x-python",
   "name": "python",
   "nbconvert_exporter": "python",
   "pygments_lexer": "ipython3",
   "version": "3.6.6"
  },
  "toc": {
   "base_numbering": 1,
   "nav_menu": {},
   "number_sections": true,
   "sideBar": true,
   "skip_h1_title": false,
   "title_cell": "Table of Contents",
   "title_sidebar": "Contents",
   "toc_cell": false,
   "toc_position": {},
   "toc_section_display": true,
   "toc_window_display": false
  },
  "varInspector": {
   "cols": {
    "lenName": 16,
    "lenType": 16,
    "lenVar": 40
   },
   "kernels_config": {
    "python": {
     "delete_cmd_postfix": "",
     "delete_cmd_prefix": "del ",
     "library": "var_list.py",
     "varRefreshCmd": "print(var_dic_list())"
    },
    "r": {
     "delete_cmd_postfix": ") ",
     "delete_cmd_prefix": "rm(",
     "library": "var_list.r",
     "varRefreshCmd": "cat(var_dic_list()) "
    }
   },
   "types_to_exclude": [
    "module",
    "function",
    "builtin_function_or_method",
    "instance",
    "_Feature"
   ],
   "window_display": false
  }
 },
 "nbformat": 4,
 "nbformat_minor": 2
}
